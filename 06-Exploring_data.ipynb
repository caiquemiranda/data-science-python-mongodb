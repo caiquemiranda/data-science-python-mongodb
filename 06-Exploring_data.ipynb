{
 "cells": [
  {
   "cell_type": "code",
   "execution_count": null,
   "metadata": {},
   "outputs": [],
   "source": [
    "# Versão da Linguagem Python\n",
    "from platform import python_version\n",
    "print('Versão de Python Neste Jupyter Notebook:', python_version())\n",
    "\n",
    "# usaremos o filtro 'warning' para deixar mais limpo.\n",
    "import warnings\n",
    "warnings.filterwarnings('ignore')"
   ]
  },
  {
   "attachments": {},
   "cell_type": "markdown",
   "metadata": {},
   "source": [
    "### Heat Maps"
   ]
  },
  {
   "cell_type": "code",
   "execution_count": null,
   "metadata": {},
   "outputs": [],
   "source": [
    "import json, pandas as pd\n",
    "import matplotlib.pyplot as plt\n",
    "import seaborn as sns\n",
    "\n",
    "def read_json(f):\n",
    "    with open(f) as f:\n",
    "\n",
    "        return json.load(f)\n",
    "\n",
    "def verify_keys(d, **kwargs):\n",
    "    data = d[0].items()\n",
    "    k1 = set([tup[0] for tup in data])\n",
    "\n",
    "    s = kwargs.items()\n",
    "    k2 = set([tup[1] for tup in s])\n",
    "\n",
    "    return list(k1.intersection(k2))\n",
    "\n",
    "    \n",
    "def build_ls(k, d):\n",
    "\n",
    "    return [{k: row[k] for k in (keys)} for row in d]\n",
    "\n",
    "def get_rows(d, n):\n",
    "    [print(row) for i, row in enumerate(d) if i < n]\n",
    "\n",
    "def conv_float(d):\n",
    "\n",
    "    return [dict([k, float(v)] for k, v in row.items()) for row in d]\n",
    "\n",
    "if __name__ == \"__main__\":\n",
    "    f= 'data/wrangled.json'\n",
    "    data = read_json(f)\n",
    "    keys = verify_keys(data, \n",
    "                       c1 = 'sale',\n",
    "                       c2 = 'quan',\n",
    "                       c3 = 'disc',\n",
    "                       c4 = 'prof')\n",
    "\n",
    "    heat = build_ls(keys, data)\n",
    "    print ('1st row in \"heat\":')\n",
    "    get_rows(heat, 1)\n",
    "\n",
    "    heat = conv_float(heat)\n",
    "    print ('\\n1st row in \"heat\" converted to float:')\n",
    "    get_rows(heat, 1)\n",
    "\n",
    "    df = pd.DataFrame(heat)\n",
    "\n",
    "    plt.figure()\n",
    "    sns.heatmap(df.corr(), \n",
    "                annot = True,\n",
    "                cmap = 'OrRd')\n",
    "    plt.show()"
   ]
  },
  {
   "attachments": {},
   "cell_type": "markdown",
   "metadata": {},
   "source": [
    "### Principal Component Analysis"
   ]
  },
  {
   "cell_type": "code",
   "execution_count": null,
   "metadata": {},
   "outputs": [],
   "source": []
  },
  {
   "attachments": {},
   "cell_type": "markdown",
   "metadata": {},
   "source": [
    "### Speed Simulation"
   ]
  },
  {
   "cell_type": "code",
   "execution_count": null,
   "metadata": {},
   "outputs": [],
   "source": []
  },
  {
   "attachments": {},
   "cell_type": "markdown",
   "metadata": {},
   "source": [
    "### Big Data"
   ]
  },
  {
   "cell_type": "code",
   "execution_count": null,
   "metadata": {},
   "outputs": [],
   "source": []
  },
  {
   "attachments": {},
   "cell_type": "markdown",
   "metadata": {},
   "source": [
    "### Twitter"
   ]
  },
  {
   "cell_type": "code",
   "execution_count": null,
   "metadata": {},
   "outputs": [],
   "source": []
  },
  {
   "attachments": {},
   "cell_type": "markdown",
   "metadata": {},
   "source": [
    "### Web Scraping"
   ]
  },
  {
   "cell_type": "code",
   "execution_count": null,
   "metadata": {},
   "outputs": [],
   "source": []
  },
  {
   "cell_type": "code",
   "execution_count": null,
   "metadata": {},
   "outputs": [],
   "source": [
    "%reload_ext watermark\n",
    "%watermark -a \"Caique Miranda\" -gu \"caiquemiranda\" -iv"
   ]
  },
  {
   "attachments": {},
   "cell_type": "markdown",
   "metadata": {},
   "source": [
    "### End."
   ]
  }
 ],
 "metadata": {
  "kernelspec": {
   "display_name": "Python 3",
   "language": "python",
   "name": "python3"
  },
  "language_info": {
   "codemirror_mode": {
    "name": "ipython",
    "version": 3
   },
   "file_extension": ".py",
   "mimetype": "text/x-python",
   "name": "python",
   "nbconvert_exporter": "python",
   "pygments_lexer": "ipython3",
   "version": "3.10.5"
  },
  "orig_nbformat": 4
 },
 "nbformat": 4,
 "nbformat_minor": 2
}
