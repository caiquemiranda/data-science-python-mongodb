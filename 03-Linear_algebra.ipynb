{
 "cells": [
  {
   "cell_type": "code",
   "execution_count": null,
   "metadata": {},
   "outputs": [],
   "source": [
    "# Versão da Linguagem Python\n",
    "from platform import python_version\n",
    "print('Versão de Python Neste Jupyter Notebook:', python_version())\n",
    "\n",
    "# usaremos o filtro 'warning' para deixar mais limpo.\n",
    "import warnings\n",
    "warnings.filterwarnings('ignore')"
   ]
  },
  {
   "attachments": {},
   "cell_type": "markdown",
   "metadata": {},
   "source": [
    "### Vector Spaces"
   ]
  },
  {
   "cell_type": "code",
   "execution_count": null,
   "metadata": {},
   "outputs": [],
   "source": [
    "import matplotlib.pyplot as plt, numpy as np\n",
    "\n",
    "def vector_add(a, b):\n",
    "    return np.add(a, b)\n",
    "\n",
    "def set_up():\n",
    "    plt.figure()\n",
    "    plt.xlim(-.05, add_vectors[0]+0.4)\n",
    "    plt.ylim(-1.1, add_vectors[1]+0.4)\n",
    "\n",
    "if __name__ == \"__main__\":\n",
    "    v1, v2 = np.array([3, -1]), np.array([2, 3])\n",
    "    add_vectors = vector_add(v1, v2)\n",
    "    set_up()\n",
    "    ax = plt.axes()\n",
    "    ax.arrow(0, 0, 3, -1, head_width=0.1, fc='b', \n",
    "             ec='b')\n",
    "    \n",
    "    ax.text(1.5, -0.35, 'a')\n",
    "    ax.set_facecolor('honeydew')\n",
    "    set_up()\n",
    "    ax = plt.axes()\n",
    " \n",
    "    ax.arrow(0, 0, 3, -1, head_width=0.1, fc='b', \n",
    "             ec='b')\n",
    "    \n",
    "    ax.arrow(3, -1, 2, 3, head_width=0.1, fc='crimson',\n",
    "             ec='crimson')\n",
    "    \n",
    "    ax.text(1.5, -0.35, 'a')\n",
    "    ax.text(4, -0.1, 'b')\n",
    "    ax.set_facecolor('honeydew')\n",
    "    set_up()\n",
    "    ax = plt.axes()\n",
    "    \n",
    "    ax.arrow(0, 0, 3, -1, head_width=0.1, fc='b',\n",
    "             ec='b')\n",
    "    ax.arrow(3, -1, 2, 3, head_width=0.1, fc='crimson',\n",
    "             ec='crimson')\n",
    "    \n",
    "    ax.arrow(0, 0, 5, 2, head_width=0.1, fc='springgreen',\n",
    "             ec='springgreen')\n",
    "    \n",
    "    ax.text(1.5, -0.35, 'a')\n",
    "    ax.text(4, -0.1, 'b')\n",
    "    ax.text(2.3, 1.2, 'a + b')\n",
    "    ax.text(4.5, 2.08, add_vectors, color='fuchsia')\n",
    "    ax.set_facecolor('honeydew')\n",
    "    plt.show()"
   ]
  },
  {
   "cell_type": "code",
   "execution_count": null,
   "metadata": {},
   "outputs": [],
   "source": [
    "import matplotlib.pyplot as plt, numpy as np\n",
    "\n",
    "def vector_add(a, b):\n",
    "    return np.add(a, b)\n",
    "if __name__ == \"__main__\":\n",
    "    v1, v2 = np.array([3, -1]), np.array([2, 3])\n",
    "    add_vectors = vector_add(v1, v2)\n",
    "    f, ax = plt.subplots(3)\n",
    "    x, y = [0, 3], [0, -1]\n",
    "    ax[0].set_xlim([-0.05, 3.1])\n",
    "    ax[0].set_ylim([-1.1, 0.1])\n",
    "    ax[0].scatter(x,y,s=1)\n",
    "    ax[0].arrow(0, 0, 3, -1, head_width=0.1, head_length=0.07,\n",
    "                fc='b', ec='b')\n",
    "\n",
    "    ax[0].text(1.5, -0.35, 'a')\n",
    "    ax[0].set_facecolor('honeydew')\n",
    "    x, y = ([0, 3, 5]), ([0, -1, 2])\n",
    "    ax[1].set_xlim([-0.05, 5.1])\n",
    "    ax[1].set_ylim([-1.2, 2.2])\n",
    "    ax[1].scatter(x,y,s=0.5)\n",
    "    ax[1].arrow(0, 0, 3, -1, head_width=0.2, head_length=0.1,\n",
    "                fc='b', ec='b')\n",
    "    \n",
    "    ax[1].arrow(3, -1, 2, 3, head_width=0.16, head_length=0.1,\n",
    "                fc='crimson', ec='crimson')\n",
    "    \n",
    "    ax[1].text(1.5, -0.35, 'a')\n",
    "    ax[1].text(4, -0.1, 'b')\n",
    "    ax[1].set_facecolor('honeydew')\n",
    "    x, y = ([0, 3, 5]), ([0, -1, 2])\n",
    "    ax[2].set_xlim([-0.05, 5.25])\n",
    "    ax[2].set_ylim([-1.2, 2.3])\n",
    "    ax[2].scatter(x,y,s=0.5)\n",
    "    ax[2].arrow(0, 0, 3, -1, head_width=0.15, head_length=0.1,\n",
    "                fc='b', ec='b')\n",
    "    \n",
    "    ax[2].arrow(3, -1, 2, 3, head_width=0.15, head_length=0.1,\n",
    "                fc='crimson', ec='crimson')\n",
    "    \n",
    "    ax[2].arrow(0, 0, 5, 2, head_width=0.1, head_length=0.1,\n",
    "                fc='springgreen', ec='springgreen')\n",
    "    \n",
    "    ax[2].text(1.5, -0.35, 'a')\n",
    "    ax[2].text(4, -0.1, 'b')\n",
    "    ax[2].text(2.3, 1.2, 'a + b')\n",
    "    ax[2].text(4.9, 1.4, add_vectors, color='fuchsia')\n",
    "    ax[2].set_facecolor('honeydew')\n",
    "    plt.tight_layout()\n",
    "    plt.show()"
   ]
  },
  {
   "cell_type": "code",
   "execution_count": null,
   "metadata": {},
   "outputs": [],
   "source": [
    "import numpy as np\n",
    "\n",
    "def vector_add(a, b):\n",
    "    return np.add(a, b)\n",
    "\n",
    "def vector_sub(a, b):\n",
    "    return np.subtract(a, b)\n",
    "\n",
    "if __name__ == \"__main__\":\n",
    "    v1, v2 = np.array([3, -1]), np.array([2, 3])\n",
    "    add = vector_add(v1, v2)\n",
    "    sub = vector_sub(v1, v2)\n",
    "    print ('2D vectors:')\n",
    "    print (v1, '+', v2, '=', add)\n",
    "    print (v1, '-', v2, '=', sub)\n",
    "    v1 = np.array([1, 3, -5])\n",
    "    v2 = np.array([2, -1, 3])\n",
    "    add = vector_add(v1, v2)\n",
    "    sub = vector_sub(v1, v2)\n",
    "    print ('\\n3D vectors:')\n",
    "    print (v1, '+', v2, '=', add)\n",
    "    print (v1, '-', v2, '=', sub)"
   ]
  },
  {
   "cell_type": "markdown",
   "metadata": {},
   "source": []
  },
  {
   "attachments": {},
   "cell_type": "markdown",
   "metadata": {},
   "source": [
    "### Vector Math"
   ]
  },
  {
   "cell_type": "code",
   "execution_count": null,
   "metadata": {},
   "outputs": [],
   "source": []
  },
  {
   "attachments": {},
   "cell_type": "markdown",
   "metadata": {},
   "source": [
    "### Matrix Math"
   ]
  },
  {
   "cell_type": "code",
   "execution_count": null,
   "metadata": {},
   "outputs": [],
   "source": []
  },
  {
   "attachments": {},
   "cell_type": "markdown",
   "metadata": {},
   "source": [
    "### Basic Matrix Transformations"
   ]
  },
  {
   "cell_type": "code",
   "execution_count": null,
   "metadata": {},
   "outputs": [],
   "source": []
  },
  {
   "attachments": {},
   "cell_type": "markdown",
   "metadata": {},
   "source": [
    "### Pandas Matrix Applications"
   ]
  },
  {
   "cell_type": "code",
   "execution_count": null,
   "metadata": {},
   "outputs": [],
   "source": []
  },
  {
   "cell_type": "code",
   "execution_count": null,
   "metadata": {},
   "outputs": [],
   "source": []
  },
  {
   "cell_type": "code",
   "execution_count": null,
   "metadata": {},
   "outputs": [],
   "source": []
  },
  {
   "cell_type": "code",
   "execution_count": null,
   "metadata": {},
   "outputs": [],
   "source": [
    "%reload_ext watermark\n",
    "%watermark -a \"Caique Miranda\" -gu \"caiquemiranda\" -iv"
   ]
  },
  {
   "attachments": {},
   "cell_type": "markdown",
   "metadata": {},
   "source": [
    "### End."
   ]
  }
 ],
 "metadata": {
  "language_info": {
   "name": "python"
  },
  "orig_nbformat": 4
 },
 "nbformat": 4,
 "nbformat_minor": 2
}
