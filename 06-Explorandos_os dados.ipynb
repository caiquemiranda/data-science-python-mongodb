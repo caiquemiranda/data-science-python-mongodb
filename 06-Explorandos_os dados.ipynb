{
 "cells": [
  {
   "cell_type": "code",
   "execution_count": 3,
   "metadata": {},
   "outputs": [
    {
     "name": "stdout",
     "output_type": "stream",
     "text": [
      "Versão de Python Neste Jupyter Notebook: 3.10.5\n"
     ]
    }
   ],
   "source": [
    "# Versão da Linguagem Python\n",
    "from platform import python_version\n",
    "print('Versão de Python Neste Jupyter Notebook:', python_version())"
   ]
  },
  {
   "attachments": {},
   "cell_type": "markdown",
   "metadata": {},
   "source": [
    "## Explorando dados"
   ]
  },
  {
   "attachments": {},
   "cell_type": "markdown",
   "metadata": {},
   "source": [
    "Explorar sondas mais profundas no reino dos dados. Um tópico importante na ciência de dados é a redução de dimensionalidade. Este capítulo toma emprestados dados comuns do Capítulo 5 para demonstrar como isso funciona. Outro tópico é a simulação de velocidade. Ao trabalhar com grandes conjuntos de dados, a velocidade é de grande importância. O big data é explorado com um conjunto de dados popular usado por acadêmicos e pela indústria. Finalmente, o Twitter e a raspagem da Web são duas fontes de dados importantes para exploração."
   ]
  },
  {
   "attachments": {},
   "cell_type": "markdown",
   "metadata": {},
   "source": [
    "### Mapas de Calor"
   ]
  },
  {
   "attachments": {},
   "cell_type": "markdown",
   "metadata": {},
   "source": [
    "Os mapas de calor foram introduzidos no Capítulo 5, mas nenhum foi criado para o conjunto de dados munged. Então, começamos criando uma visualização de mapa de calor dos dados wrangled.json."
   ]
  },
  {
   "cell_type": "code",
   "execution_count": 4,
   "metadata": {},
   "outputs": [
    {
     "name": "stdout",
     "output_type": "stream",
     "text": [
      "1st row in \"heat\":\n",
      "{'quan': '2', 'sale': '261.96', 'disc': '0', 'prof': '41.91'}\n",
      "\n",
      "1st row in \"heat\" converted to float:\n",
      "{'quan': 2.0, 'sale': 261.96, 'disc': 0.0, 'prof': 41.91}\n"
     ]
    },
    {
     "data": {
      "image/png": "[encoded data removed]",
      "text/plain": [
       "<Figure size 432x288 with 2 Axes>"
      ]
     },
     "metadata": {
      "needs_background": "light"
     },
     "output_type": "display_data"
    }
   ],
   "source": [
    "import json, pandas as pd\n",
    "import matplotlib.pyplot as plt\n",
    "import seaborn as sns\n",
    "\n",
    "def read_json(f):\n",
    "    with open(f) as f:\n",
    "\n",
    "        return json.load(f)\n",
    "\n",
    "def verify_keys(d, **kwargs):\n",
    "    data = d[0].items()\n",
    "    k1 = set([tup[0] for tup in data])\n",
    "\n",
    "    s = kwargs.items()\n",
    "    k2 = set([tup[1] for tup in s])\n",
    "\n",
    "    return list(k1.intersection(k2))\n",
    "\n",
    "    \n",
    "def build_ls(k, d):\n",
    "\n",
    "    return [{k: row[k] for k in (keys)} for row in d]\n",
    "\n",
    "def get_rows(d, n):\n",
    "    [print(row) for i, row in enumerate(d) if i < n]\n",
    "\n",
    "def conv_float(d):\n",
    "\n",
    "    return [dict([k, float(v)] for k, v in row.items()) for row in d]\n",
    "\n",
    "if __name__ == \"__main__\":\n",
    "    f= 'data/wrangled.json'\n",
    "    data = read_json(f)\n",
    "    keys = verify_keys(data, \n",
    "                       c1 = 'sale',\n",
    "                       c2 = 'quan',\n",
    "                       c3 = 'disc',\n",
    "                       c4 = 'prof')\n",
    "\n",
    "    heat = build_ls(keys, data)\n",
    "    print ('1st row in \"heat\":')\n",
    "    get_rows(heat, 1)\n",
    "\n",
    "    heat = conv_float(heat)\n",
    "    print ('\\n1st row in \"heat\" converted to float:')\n",
    "    get_rows(heat, 1)\n",
    "\n",
    "    df = pd.DataFrame(heat)\n",
    "\n",
    "    plt.figure()\n",
    "    sns.heatmap(df.corr(), \n",
    "                annot = True,\n",
    "                cmap = 'OrRd')\n",
    "    plt.show()"
   ]
  },
  {
   "attachments": {},
   "cell_type": "markdown",
   "metadata": {},
   "source": [
    "O exemplo de código começa importando as bibliotecas json, pandas, matplotlib e seaborn. A função read_json() lê um arquivo JSON. A função Verify_keys() garante que as chaves de interesse existam no arquivo JSON. Isso é importante porque só podemos criar um mapa de calor com base em variáveis numéricas, e os únicos candidatos do arquivo JSON são vendas, quantidade, desconto e lucro. A função build_ls() cria uma lista de elementos do dicionário com base nas variáveis numéricas. A função get_rows() retorna n linhas de uma lista. A função conv_float() converte elementos do dicionário em float. O bloco principal começa lendo o arquivo JSON wrangled.json. Ele continua obtendo chaves apenas para variáveis numéricas. Em seguida, ele cria uma lista de elementos do dicionário (calor) com base nas chaves apropriadas. O código exibe a 1ª linha no calor para verificar se todos os valores são flutuantes. Como não são, o código os converte em float. O código então cria um df de calor e plota o mapa de calor (Figura 6-1)."
   ]
  },
  {
   "attachments": {},
   "cell_type": "markdown",
   "metadata": {},
   "source": [
    "### Análise do componente principal"
   ]
  },
  {
   "attachments": {},
   "cell_type": "markdown",
   "metadata": {},
   "source": [
    "A Análise de Componentes Principais (PCA) localiza os componentes principais dos dados. Os componentes principais representam a estrutura subjacente nos dados porque revelam as direções em que os dados têm mais variação (mais espalhados). O PCA utiliza autovetores e autovalores para descobrir a variação de dados. Um autovetor é uma direção, enquanto um autovalor é um número que indica a variação (nos dados) na direção do autovetor. O autovetor com o maior autovalor é o componente principal. Um conjunto de dados pode ser desconstruído em autovetores e autovalores. A quantidade de autovetores (e autovalores) em um conjunto de dados é igual ao número de dimensões. Como o conjunto de dados wrangled.json tem quatro dimensões (variáveis), ele tem quatro autovetores/autovalores"
   ]
  },
  {
   "attachments": {},
   "cell_type": "markdown",
   "metadata": {},
   "source": [
    "O primeiro exemplo de código executa o PCA no conjunto de dados wrangled.json. No entanto, o PCA funciona apenas com dados numéricos, portanto, o conjunto de dadosé reduzido apenas a esses recursos."
   ]
  },
  {
   "cell_type": "code",
   "execution_count": 5,
   "metadata": {},
   "outputs": [
    {
     "name": "stdout",
     "output_type": "stream",
     "text": [
      "classes in \"segm\" feature:\n",
      "['Consumer', 'Corporate', 'Home Office']\n",
      "\n",
      "Home Office slice: 1783\n",
      "Consumer slice: 5191\n",
      "Coporate slice: 3020\n",
      "sample size: 100\n"
     ]
    },
    {
     "ename": "AttributeError",
     "evalue": "'DataFrame' object has no attribute 'ix'",
     "output_type": "error",
     "traceback": [
      "\u001b[1;31m---------------------------------------------------------------------------\u001b[0m",
      "\u001b[1;31mAttributeError\u001b[0m                            Traceback (most recent call last)",
      "\u001b[1;32md:\\GIT-repository\\github-data-science-python-mongodb\\data-science-python-mongodb\\06-Exploring_data.ipynb Cell 5\u001b[0m in \u001b[0;36m<cell line: 46>\u001b[1;34m()\u001b[0m\n\u001b[0;32m     <a href='vscode-notebook-cell:/d%3A/GIT-repository/github-data-science-python-mongodb/data-science-python-mongodb/06-Exploring_data.ipynb#X14sZmlsZQ%3D%3D?line=79'>80</a>\u001b[0m parallel_coordinates(result, \n\u001b[0;32m     <a href='vscode-notebook-cell:/d%3A/GIT-repository/github-data-science-python-mongodb/data-science-python-mongodb/06-Exploring_data.ipynb#X14sZmlsZQ%3D%3D?line=80'>81</a>\u001b[0m                      \u001b[39m'\u001b[39m\u001b[39msegm\u001b[39m\u001b[39m'\u001b[39m,\n\u001b[0;32m     <a href='vscode-notebook-cell:/d%3A/GIT-repository/github-data-science-python-mongodb/data-science-python-mongodb/06-Exploring_data.ipynb#X14sZmlsZQ%3D%3D?line=81'>82</a>\u001b[0m                      color \u001b[39m=\u001b[39m [\u001b[39m'\u001b[39m\u001b[39morange\u001b[39m\u001b[39m'\u001b[39m,\u001b[39m'\u001b[39m\u001b[39mlime\u001b[39m\u001b[39m'\u001b[39m,\u001b[39m'\u001b[39m\u001b[39mfuchsia\u001b[39m\u001b[39m'\u001b[39m])\n\u001b[0;32m     <a href='vscode-notebook-cell:/d%3A/GIT-repository/github-data-science-python-mongodb/data-science-python-mongodb/06-Exploring_data.ipynb#X14sZmlsZQ%3D%3D?line=82'>83</a>\u001b[0m df \u001b[39m=\u001b[39m pd\u001b[39m.\u001b[39mDataFrame(numeric_data)\n\u001b[1;32m---> <a href='vscode-notebook-cell:/d%3A/GIT-repository/github-data-science-python-mongodb/data-science-python-mongodb/06-Exploring_data.ipynb#X14sZmlsZQ%3D%3D?line=83'>84</a>\u001b[0m X \u001b[39m=\u001b[39m df\u001b[39m.\u001b[39;49mix[:]\u001b[39m.\u001b[39mvalues\n\u001b[0;32m     <a href='vscode-notebook-cell:/d%3A/GIT-repository/github-data-science-python-mongodb/data-science-python-mongodb/06-Exploring_data.ipynb#X14sZmlsZQ%3D%3D?line=84'>85</a>\u001b[0m X_std \u001b[39m=\u001b[39m StandardScaler()\u001b[39m.\u001b[39mfit_transform(X)\n\u001b[0;32m     <a href='vscode-notebook-cell:/d%3A/GIT-repository/github-data-science-python-mongodb/data-science-python-mongodb/06-Exploring_data.ipynb#X14sZmlsZQ%3D%3D?line=85'>86</a>\u001b[0m mean_vec \u001b[39m=\u001b[39m np\u001b[39m.\u001b[39mmean(X_std, axis\u001b[39m=\u001b[39m\u001b[39m0\u001b[39m)\n",
      "File \u001b[1;32mc:\\Users\\Caíque Miranda\\AppData\\Local\\Programs\\Python\\Python310\\lib\\site-packages\\pandas\\core\\generic.py:5575\u001b[0m, in \u001b[0;36mNDFrame.__getattr__\u001b[1;34m(self, name)\u001b[0m\n\u001b[0;32m   5568\u001b[0m \u001b[39mif\u001b[39;00m (\n\u001b[0;32m   5569\u001b[0m     name \u001b[39mnot\u001b[39;00m \u001b[39min\u001b[39;00m \u001b[39mself\u001b[39m\u001b[39m.\u001b[39m_internal_names_set\n\u001b[0;32m   5570\u001b[0m     \u001b[39mand\u001b[39;00m name \u001b[39mnot\u001b[39;00m \u001b[39min\u001b[39;00m \u001b[39mself\u001b[39m\u001b[39m.\u001b[39m_metadata\n\u001b[0;32m   5571\u001b[0m     \u001b[39mand\u001b[39;00m name \u001b[39mnot\u001b[39;00m \u001b[39min\u001b[39;00m \u001b[39mself\u001b[39m\u001b[39m.\u001b[39m_accessors\n\u001b[0;32m   5572\u001b[0m     \u001b[39mand\u001b[39;00m \u001b[39mself\u001b[39m\u001b[39m.\u001b[39m_info_axis\u001b[39m.\u001b[39m_can_hold_identifiers_and_holds_name(name)\n\u001b[0;32m   5573\u001b[0m ):\n\u001b[0;32m   5574\u001b[0m     \u001b[39mreturn\u001b[39;00m \u001b[39mself\u001b[39m[name]\n\u001b[1;32m-> 5575\u001b[0m \u001b[39mreturn\u001b[39;00m \u001b[39mobject\u001b[39;49m\u001b[39m.\u001b[39;49m\u001b[39m__getattribute__\u001b[39;49m(\u001b[39mself\u001b[39;49m, name)\n",
      "\u001b[1;31mAttributeError\u001b[0m: 'DataFrame' object has no attribute 'ix'"
     ]
    },
    {
     "data": {
      "image/png": "[encoded data removed]",
      "text/plain": [
       "<Figure size 432x288 with 1 Axes>"
      ]
     },
     "metadata": {
      "needs_background": "light"
     },
     "output_type": "display_data"
    }
   ],
   "source": [
    "import matplotlib.pyplot as plt, pandas as pd\n",
    "import numpy as np, json, random as rnd\n",
    "from sklearn.preprocessing import StandardScaler\n",
    "from pandas.plotting import parallel_coordinates\n",
    "\n",
    "def read_json(f):\n",
    "    with open(f) as f:\n",
    "\n",
    "        return json.load(f)\n",
    "\n",
    "def unique_features(k, d):\n",
    "\n",
    "    return list(set([dic[k] for dic in d]))\n",
    "\n",
    "def sire_features(k, d):\n",
    "    return [{k: row[k] for k in (k)} for row in d]\n",
    "\n",
    "def sire_numeric(k, d):\n",
    "    s = conv_float(sire_features(k, d))\n",
    "\n",
    "    return s\n",
    "\n",
    "def sire_sample(k, v, d, m):\n",
    "    indices = np.arange(0, len(d), 1)\n",
    "    s = [d[i] for i in indices if d[i][k] == v]\n",
    "    n = len(s)\n",
    "    num_keys = ['sale', 'quan', 'disc', 'prof']\n",
    "    \n",
    "    for i, row in enumerate(s):\n",
    "        for k in num_keys:\n",
    "            row[k] = float(row[k])\n",
    "    \n",
    "    s = rnd_sample(m, len(s), s)\n",
    "    \n",
    "    return (s, n)\n",
    "\n",
    "def rnd_sample(m, n, d):\n",
    "    indices = sorted(rnd.sample(range(n), m))\n",
    "    \n",
    "    return [d[i] for i in indices]\n",
    "\n",
    "def conv_float(d):\n",
    "    \n",
    "    return [dict([k, float(v)] for k, v in row.items()) for row in d]\n",
    "\n",
    "if __name__ == \"__main__\":\n",
    "    f = 'data/wrangled.json'\n",
    "    data = read_json(f)\n",
    "    segm = unique_features('segm', data)\n",
    "    print ('classes in \"segm\" feature:')\n",
    "    print (segm)\n",
    "    \n",
    "    keys = ['sale', 'quan', 'disc', 'prof', 'segm']\n",
    "    features = sire_features(keys, data)\n",
    "    num_keys = ['sale', 'quan', 'disc', 'prof']\n",
    "    numeric_data = sire_numeric(num_keys, features)\n",
    "    \n",
    "    k, v = \"segm\", \"Home Office\"\n",
    "    m = 100\n",
    "    s_home = sire_sample(k, v, features, m)\n",
    "    \n",
    "    v = \"Consumer\"\n",
    "    s_cons = sire_sample(k, v, features, m)\n",
    "    \n",
    "    v = \"Corporate\"\n",
    "    s_corp = sire_sample(k, v, features, m)\n",
    "    print ('\\nHome Office slice:', s_home[1])\n",
    "    print('Consumer slice:', s_cons[1])\n",
    "    print ('Coporate slice:', s_corp[1])\n",
    "    print ('sample size:', m)\n",
    "    \n",
    "    df_home = pd.DataFrame(s_home[0])\n",
    "    df_cons = pd.DataFrame(s_cons[0])\n",
    "    df_corp = pd.DataFrame(s_corp[0])\n",
    "    frames = [df_home, df_cons, df_corp]\n",
    "    result = pd.concat(frames)\n",
    "    \n",
    "    plt.figure()\n",
    "    \n",
    "    parallel_coordinates(result, \n",
    "                         'segm',\n",
    "                         color = ['orange','lime','fuchsia'])\n",
    "    df = pd.DataFrame(numeric_data)\n",
    "    X = df.ix[:].values\n",
    "    X_std = StandardScaler().fit_transform(X)\n",
    "    mean_vec = np.mean(X_std, axis=0)\n",
    "    cov_mat = np.cov(X_std.T)\n",
    "    print ('\\ncovariance matrix:\\n', cov_mat)\n",
    "\n",
    "    eig_vals, eig_vecs = np.linalg.eig(cov_mat)\n",
    "    print ('\\nEigenvectors:\\n', eig_vecs)\n",
    "    print ('\\nEigenvalues:\\n', np.sort(eig_vals)[::-1])\n",
    "    \n",
    "    tot = sum(eig_vals)\n",
    "    var_exp = [(i / tot)*100 for i in sorted(eig_vals,\n",
    "                                             reverse = True)]\n",
    "    print ('\\nvariance explained:\\n', var_exp)\n",
    "    \n",
    "    corr_mat = np.corrcoef(X.T)\n",
    "    print ('\\ncorrelation matrix:\\n', corr_mat)\n",
    "    \n",
    "    eig_vals, eig_vecs = np.linalg.eig(corr_mat)\n",
    "    print ('\\nEigenvectors:\\n', eig_vecs)\n",
    "    print ('\\nEigenvalues:\\n', np.sort(eig_vals)[::-1])\n",
    "    \n",
    "    tot = sum(eig_vals)\n",
    "    var_exp = [(i / tot)*100 for i in sorted(eig_vals,\n",
    "                                             reverse = True)]\n",
    "    print ('\\nvariance explained:\\n', var_exp)\n",
    "    \n",
    "    cum_var_exp = np.cumsum(var_exp)\n",
    "    fig, ax = plt.subplots()\n",
    "    labels = ['PC1', 'PC2', 'PC3', 'PC4']\n",
    "    width = 0.35\n",
    "    index = np.arange(len(var_exp))\n",
    "    ax.bar(index, var_exp,\n",
    "           color = ['fuchsia', 'lime', 'thistle', 'thistle'])\n",
    "\n",
    "    for i, v in enumerate(var_exp):\n",
    "        v = round(v, 2)\n",
    "        val = str(v) + '%'\n",
    "        ax.text(i, v+0.5, val, \n",
    "                ha = 'center', \n",
    "                color = 'b',\n",
    "                fontsize = 9,\n",
    "                fontweight = 'bold')\n",
    "    \n",
    "    plt.xticks(index, labels)\n",
    "    plt.title('Variance Explained')\n",
    "    plt.show()"
   ]
  },
  {
   "attachments": {},
   "cell_type": "markdown",
   "metadata": {},
   "source": [
    "O exemplo de código começa importando as bibliotecas matplotlib, pandas, numpy, json, random e sklearn. A função read_json() lê um arquivo JSON. A função unique_features() destila categorias únicas (classes) de uma dimensão (feature). Nesse caso, ele destila três classes — Home Office, Corporate e Consumer — do recurso segm. Como o conjunto de dados está próximo a 10.000 registros, eu queria ter certeza de quais classes estão nele. A função sire_features() destila um novo conjunto de dados com apenas recursos de interesse. A função sire_numeric() converte strings numéricas em float. A função sire_sample() retorna uma amostra aleatória de n registros filtrados para uma classe. A função rnd_ sample() cria uma amostra aleatória. A função convert_float() converte dados de string numérica em float."
   ]
  },
  {
   "attachments": {},
   "cell_type": "markdown",
   "metadata": {},
   "source": [
    "O bloco principal começa lendo wrangled.json e criando recursos de conjunto de dados apenas com recursos de interesse. O código continua criando um conjunto de dados numérico que inclui apenas recursos com dados numéricos. O numérico do conjunto de dados é usado para gerar o PCA. A seguir, são criadas três amostras de tamanho 100; um para cada classe. As amostras são usadas para criar o visualização de coordenadas paralelas (Figura 6-2). O código para PCA segue padronizando e transformando o conjunto de dados numéricos. Uma matriz de covariância é criada para que autovetores e autovalores possam ser gerados. Eu incluo o PCA usando a matriz de correlação porque algumas disciplinas preferem. Finalmente, uma visualização dos componentes principais é criada."
   ]
  },
  {
   "attachments": {},
   "cell_type": "markdown",
   "metadata": {},
   "source": [
    "Coordenadas paralelas mostram que prof (lucro) e sale (vendas) são as características mais importantes. A visualização PCA (Figura 6-3) mostra que o 1º componente principal representa 39,75%, o 2º 26,47%, o 3º 22,03% e o 4º 11,75%. A análise PCA não é muito útil neste caso, pois todos os quatro componentes principais são necessários, especialmente os três primeiros. Portanto, não podemos descartar nenhuma das dimensões da análise futura."
   ]
  },
  {
   "attachments": {},
   "cell_type": "markdown",
   "metadata": {},
   "source": [
    "O segundo exemplo de código usa o conjunto de dados de íris para PCA:"
   ]
  },
  {
   "cell_type": "code",
   "execution_count": null,
   "metadata": {},
   "outputs": [],
   "source": [
    "import matplotlib.pyplot as plt, pandas as pd, numpy as np\n",
    "from sklearn.preprocessing import StandardScaler\n",
    "from pandas.plotting import parallel_coordinates\n",
    "def conv_float(d):\n",
    "return d.astype(float)\n",
    "if __name__ == \"__main__\":\n",
    "df = pd.read_csv('data/iris.csv')\n",
    "X = df.ix[:,0:4].values\n",
    "y = df.ix[:,4].values\n",
    "X_std = StandardScaler().fit_transform(X)\n",
    "mean_vec = np.mean(X_std, axis=0)\n",
    "cov_mat = np.cov(X_std.T)\n",
    "eig_vals, eig_vecs = np.linalg.eig(cov_mat)\n",
    "print ('Eigenvectors:\\n', eig_vecs)\n",
    "print ('\\nEigenvalues:\\n', eig_vals)\n",
    "plt.figure()\n",
    "parallel_coordinates(df, 'Name', color=\n",
    "['orange','lime','fuchsia'])\n",
    "tot = sum(eig_vals)\n",
    "var_exp = [(i / tot)*100 for i in sorted(eig_vals,\n",
    "reverse=True)]\n",
    "cum_var_exp = np.cumsum(var_exp)\n",
    "fig, ax = plt.subplots()\n",
    "labels = ['PC1', 'PC2', 'PC3', 'PC4']\n",
    "width = 0.35\n",
    "index = np.arange(len(var_exp))\n",
    "ax.bar(index, var_exp,\n",
    "color=['fuchsia', 'lime', 'thistle', 'thistle'])\n",
    "for i, v in enumerate(var_exp):\n",
    "v = round(v, 2)\n",
    "val = str(v) + '%'\n",
    "ax.text(i, v+0.5, val, ha='center', color='b',\n",
    "fontsize=9, fontweight='bold')\n",
    "plt.xticks(index, labels)\n",
    "plt.title('Variance Explained')\n",
    "plt.show()"
   ]
  },
  {
   "attachments": {},
   "cell_type": "markdown",
   "metadata": {},
   "source": [
    "O exemplo de código é muito mais curto do que o anterior, porque não tivemos que rabiscar, limpar (tanto) e criar amostras aleatórias (para visualização de Coordenadas Paralelas). O código começa importando as bibliotecas matplotlib, pandas, numpy e sklearn. A função conv_float() converte strings numéricas em float. O bloco principal começa lendo o conjunto de dados da íris. Ele continua padronizando e transformando os dados para o PCA. Coordenadas paralelas e variações explicadas são exibidas."
   ]
  },
  {
   "attachments": {},
   "cell_type": "markdown",
   "metadata": {},
   "source": [
    "Coordenadas paralelas mostram que PetalLength e PetalWidth são os características mais importantes (Figura 6-4). A visualização PCA (variação explicada) mostra que o 1º componente principal representa 72,77%, o 2º 23,03%, o 3º 3,68% e o 4º 0,52% (Figura 6-5). A análise PCA é muito útil neste caso porque os dois primeiros componentes principais respondem por mais de 95% da variância. Portanto, podemos descartar o PC3 e o PC4 de uma consideração mais aprofundada."
   ]
  },
  {
   "attachments": {},
   "cell_type": "markdown",
   "metadata": {},
   "source": [
    "Para maior clareza, o primeiro passo para PCA é explorar os autovetores e autovalores. Os autovetores com os menores autovalores carregam menos informações sobre a distribuição dos dados, então eles podem ser descartados. Neste exemplo, os dois primeiros autovalores são muito maiores, especialmente PC1. A eliminação de PC3 e PC4 está, portanto, em ordem. O 2º passo é medir a variância explicada, que pode ser calculada a partir dos autovalores. A variância explicada nos diz quanta informação (variância) pode ser atribuída a cada um dos componentes principais. Observar a variância explicada confirma que PC3 e PC4 não são importantes."
   ]
  },
  {
   "attachments": {},
   "cell_type": "markdown",
   "metadata": {},
   "source": [
    "### Simulação de velocidade"
   ]
  },
  {
   "attachments": {},
   "cell_type": "markdown",
   "metadata": {},
   "source": [
    "A velocidade na ciência de dados é importante, especialmente à medida que os conjuntos de dados se tornam maiores.  Os geradores são úteis na otimização de memória, porque uma função de gerador retorna um item por vez (conforme necessário) em vez de todos os itens de uma vez."
   ]
  },
  {
   "attachments": {},
   "cell_type": "markdown",
   "metadata": {},
   "source": [
    "O exemplo de código compara a velocidade entre uma lista e um gerador:"
   ]
  },
  {
   "cell_type": "code",
   "execution_count": 6,
   "metadata": {},
   "outputs": [
    {
     "ename": "ModuleNotFoundError",
     "evalue": "No module named 'humanfriendly'",
     "output_type": "error",
     "traceback": [
      "\u001b[1;31m---------------------------------------------------------------------------\u001b[0m",
      "\u001b[1;31mModuleNotFoundError\u001b[0m                       Traceback (most recent call last)",
      "\u001b[1;32md:\\GIT-repository\\github-data-science-python-mongodb\\data-science-python-mongodb\\06-Exploring_data.ipynb Cell 7\u001b[0m in \u001b[0;36m<cell line: 1>\u001b[1;34m()\u001b[0m\n\u001b[1;32m----> <a href='vscode-notebook-cell:/d%3A/GIT-repository/github-data-science-python-mongodb/data-science-python-mongodb/06-Exploring_data.ipynb#X15sZmlsZQ%3D%3D?line=0'>1</a>\u001b[0m \u001b[39mimport\u001b[39;00m \u001b[39mjson\u001b[39;00m\u001b[39m,\u001b[39m \u001b[39mhumanfriendly\u001b[39;00m \u001b[39mas\u001b[39;00m \u001b[39mhf\u001b[39;00m\n\u001b[0;32m      <a href='vscode-notebook-cell:/d%3A/GIT-repository/github-data-science-python-mongodb/data-science-python-mongodb/06-Exploring_data.ipynb#X15sZmlsZQ%3D%3D?line=1'>2</a>\u001b[0m \u001b[39mfrom\u001b[39;00m \u001b[39mtime\u001b[39;00m \u001b[39mimport\u001b[39;00m clock\n\u001b[0;32m      <a href='vscode-notebook-cell:/d%3A/GIT-repository/github-data-science-python-mongodb/data-science-python-mongodb/06-Exploring_data.ipynb#X15sZmlsZQ%3D%3D?line=3'>4</a>\u001b[0m \u001b[39mdef\u001b[39;00m \u001b[39mread_json\u001b[39m(f):\n",
      "\u001b[1;31mModuleNotFoundError\u001b[0m: No module named 'humanfriendly'"
     ]
    }
   ],
   "source": [
    "import json, humanfriendly as hf\n",
    "from time import clock\n",
    "\n",
    "def read_json(f):\n",
    "    with open(f) as f:\n",
    "        return json.load(f)\n",
    "\n",
    "def mk_gen(k, d):\n",
    "    for row in d:\n",
    "        dic = {}\n",
    "        for key in k:\n",
    "            dic[key] = float(row[key])\n",
    "        yield dic\n",
    "\n",
    "def conv_float(keys, d):\n",
    "    return [dict([k, float(v)] for k, v in row.items()\n",
    "                 if k in keys) for row in d]\n",
    "\n",
    "if __name__ == \"__main__\":\n",
    "    f = 'data/wrangled.json'\n",
    "    data = read_json(f)\n",
    "    keys = ['sale', 'quan', 'disc', 'prof']\n",
    "    print ('create, convert, and display list:')\n",
    "    start = clock()\n",
    "    data = conv_float(keys, data)\n",
    "    for i, row in enumerate(data):\n",
    "        if i < 5:\n",
    "            print (row)\n",
    "    end = clock()\n",
    "    elapsed_ls = end - start\n",
    "    print (hf.format_timespan(elapsed_ls, detailed=True))\n",
    "    print ('\\ncreate, convert, and display generator:')\n",
    "    start = clock()\n",
    "    generator = mk_gen(keys, data)\n",
    "    for i, row in enumerate(generator):\n",
    "        if i < 5:\n",
    "            print (row)\n",
    "    end = clock()\n",
    "    elapsed_gen = end - start\n",
    "    print (hf.format_timespan(elapsed_gen, detailed=True))\n",
    "    speed = round(elapsed_ls / elapsed_gen, 2)\n",
    "    print ('\\ngenerator is', speed, 'times faster')"
   ]
  },
  {
   "attachments": {},
   "cell_type": "markdown",
   "metadata": {},
   "source": [
    "O exemplo de código começa importando as bibliotecas json, humanfriendly e time. Você pode ter que instalar humanfriendly como eu fiz: pip install humanfriendly. A função read_json() lê JSON. A função mk_gen() cria um gerador baseado em quatro recursos de wrangled.json e converte valores em float. A função conv_float() converte valores de dicionário de uma lista em float. O bloco principal começa lendo wrangled. json em uma lista. O código continua cronometrando o processo de criação de uma nova lista de chaves e convertendo valores em float. Em seguida, é criado um gerador que imita o processo de criação e conversão da lista. O gerador é 2,26 vezes mais rápido (no meu computador)."
   ]
  },
  {
   "attachments": {},
   "cell_type": "markdown",
   "metadata": {},
   "source": [
    "### Big Data"
   ]
  },
  {
   "attachments": {},
   "cell_type": "markdown",
   "metadata": {},
   "source": [
    "Big data é a moda do século 21. Então, vamos trabalhar com um conjunto de dados relativamente grande. GroupLens é um site que oferece acesso a grandes conjuntos de dados de computação social para teoria e prática. O GroupLens coletou e disponibilizou conjuntos de dados de classificação no site do MovieLens: https://grouplens.org/datasets/movielens/. Vamos explorar o conjunto de dados 1M, que contém aproximadamente um milhão de avaliações de seis mil usuários em quatro mil filmes. eu estava hesitante em disputar, limpar e processar um conjunto de dados de mais de um milhão por causa do poder de processamento limitado do meu PC relativamente novo. O primeiro exemplo de código lê, limpa, dimensiona e despeja dados do MovieLens em JSON:"
   ]
  },
  {
   "cell_type": "code",
   "execution_count": 7,
   "metadata": {},
   "outputs": [
    {
     "name": "stdout",
     "output_type": "stream",
     "text": [
      "... sizing data ...\n",
      "\n"
     ]
    },
    {
     "ename": "FileNotFoundError",
     "evalue": "[Errno 2] No such file or directory: 'data/ml-1m/users.dat'",
     "output_type": "error",
     "traceback": [
      "\u001b[1;31m---------------------------------------------------------------------------\u001b[0m",
      "\u001b[1;31mFileNotFoundError\u001b[0m                         Traceback (most recent call last)",
      "\u001b[1;32md:\\GIT-repository\\github-data-science-python-mongodb\\data-science-python-mongodb\\06-Exploring_data.ipynb Cell 9\u001b[0m in \u001b[0;36m<cell line: 35>\u001b[1;34m()\u001b[0m\n\u001b[0;32m     <a href='vscode-notebook-cell:/d%3A/GIT-repository/github-data-science-python-mongodb/data-science-python-mongodb/06-Exploring_data.ipynb#X16sZmlsZQ%3D%3D?line=40'>41</a>\u001b[0m mnames \u001b[39m=\u001b[39m [\u001b[39m'\u001b[39m\u001b[39mmovie_id\u001b[39m\u001b[39m'\u001b[39m, \u001b[39m'\u001b[39m\u001b[39mtitle\u001b[39m\u001b[39m'\u001b[39m, \u001b[39m'\u001b[39m\u001b[39mgenres\u001b[39m\u001b[39m'\u001b[39m]\n\u001b[0;32m     <a href='vscode-notebook-cell:/d%3A/GIT-repository/github-data-science-python-mongodb/data-science-python-mongodb/06-Exploring_data.ipynb#X16sZmlsZQ%3D%3D?line=41'>42</a>\u001b[0m rnames \u001b[39m=\u001b[39m [\u001b[39m'\u001b[39m\u001b[39muser_id\u001b[39m\u001b[39m'\u001b[39m, \u001b[39m'\u001b[39m\u001b[39mmovie_id\u001b[39m\u001b[39m'\u001b[39m, \u001b[39m'\u001b[39m\u001b[39mrating\u001b[39m\u001b[39m'\u001b[39m, \u001b[39m'\u001b[39m\u001b[39mtimestamp\u001b[39m\u001b[39m'\u001b[39m]\n\u001b[1;32m---> <a href='vscode-notebook-cell:/d%3A/GIT-repository/github-data-science-python-mongodb/data-science-python-mongodb/06-Exploring_data.ipynb#X16sZmlsZQ%3D%3D?line=42'>43</a>\u001b[0m users \u001b[39m=\u001b[39m read_dat(unames, u_dat)\n\u001b[0;32m     <a href='vscode-notebook-cell:/d%3A/GIT-repository/github-data-science-python-mongodb/data-science-python-mongodb/06-Exploring_data.ipynb#X16sZmlsZQ%3D%3D?line=43'>44</a>\u001b[0m ul \u001b[39m=\u001b[39m \u001b[39mlen\u001b[39m(\u001b[39mlist\u001b[39m(gen_dict(users)))\n\u001b[0;32m     <a href='vscode-notebook-cell:/d%3A/GIT-repository/github-data-science-python-mongodb/data-science-python-mongodb/06-Exploring_data.ipynb#X16sZmlsZQ%3D%3D?line=44'>45</a>\u001b[0m movies \u001b[39m=\u001b[39m read_dat(mnames, m_dat)\n",
      "\u001b[1;32md:\\GIT-repository\\github-data-science-python-mongodb\\data-science-python-mongodb\\06-Exploring_data.ipynb Cell 9\u001b[0m in \u001b[0;36mread_dat\u001b[1;34m(h, f)\u001b[0m\n\u001b[0;32m      <a href='vscode-notebook-cell:/d%3A/GIT-repository/github-data-science-python-mongodb/data-science-python-mongodb/06-Exploring_data.ipynb#X16sZmlsZQ%3D%3D?line=2'>3</a>\u001b[0m \u001b[39mdef\u001b[39;00m \u001b[39mread_dat\u001b[39m(h, f):\n\u001b[0;32m      <a href='vscode-notebook-cell:/d%3A/GIT-repository/github-data-science-python-mongodb/data-science-python-mongodb/06-Exploring_data.ipynb#X16sZmlsZQ%3D%3D?line=3'>4</a>\u001b[0m     \u001b[39mreturn\u001b[39;00m csv\u001b[39m.\u001b[39mDictReader((line\u001b[39m.\u001b[39mreplace(\u001b[39m'\u001b[39m\u001b[39m::\u001b[39m\u001b[39m'\u001b[39m, \u001b[39m'\u001b[39m\u001b[39m:\u001b[39m\u001b[39m'\u001b[39m)\n\u001b[1;32m----> <a href='vscode-notebook-cell:/d%3A/GIT-repository/github-data-science-python-mongodb/data-science-python-mongodb/06-Exploring_data.ipynb#X16sZmlsZQ%3D%3D?line=4'>5</a>\u001b[0m                            \u001b[39mfor\u001b[39;00m line \u001b[39min\u001b[39;00m \u001b[39mopen\u001b[39;49m(f)),\n\u001b[0;32m      <a href='vscode-notebook-cell:/d%3A/GIT-repository/github-data-science-python-mongodb/data-science-python-mongodb/06-Exploring_data.ipynb#X16sZmlsZQ%3D%3D?line=5'>6</a>\u001b[0m                           delimiter\u001b[39m=\u001b[39m\u001b[39m'\u001b[39m\u001b[39m:\u001b[39m\u001b[39m'\u001b[39m, fieldnames\u001b[39m=\u001b[39mh,\n\u001b[0;32m      <a href='vscode-notebook-cell:/d%3A/GIT-repository/github-data-science-python-mongodb/data-science-python-mongodb/06-Exploring_data.ipynb#X16sZmlsZQ%3D%3D?line=6'>7</a>\u001b[0m                           quoting\u001b[39m=\u001b[39mcsv\u001b[39m.\u001b[39mQUOTE_NONE)\n",
      "\u001b[1;31mFileNotFoundError\u001b[0m: [Errno 2] No such file or directory: 'data/ml-1m/users.dat'"
     ]
    }
   ],
   "source": [
    "import json, csv\n",
    "\n",
    "def read_dat(h, f):\n",
    "    return csv.DictReader((line.replace('::', ':')\n",
    "                           for line in open(f)),\n",
    "                          delimiter=':', fieldnames=h,\n",
    "                          quoting=csv.QUOTE_NONE)\n",
    "\n",
    "def gen_dict(d):\n",
    "    for row in d:\n",
    "        yield dict(row)\n",
    "\n",
    "def dump_json(f, l, d):\n",
    "    f = open(f, 'w')\n",
    "    f.write('[')\n",
    "    for i, row in enumerate(d):\n",
    "        j = json.dumps(row)\n",
    "        f.write(j)\n",
    "        if i < l - 1:\n",
    "            f.write(',')\n",
    "        else:\n",
    "            f.write(']')\n",
    "    f.close()\n",
    "\n",
    "def read_json(f):\n",
    "    with open(f) as f:\n",
    "        return json.load(f)\n",
    "\n",
    "def display(n, f):\n",
    "    for i, row in enumerate(f):\n",
    "        if i < n:\n",
    "            print (row)\n",
    "    print()\n",
    "\n",
    "if __name__ == \"__main__\":\n",
    "    print ('... sizing data ...\\n')\n",
    "    u_dat = 'data/ml-1m/users.dat'\n",
    "    m_dat = 'data/ml-1m/movies.dat'\n",
    "    r_dat = 'data/ml-1m/ratings.dat'\n",
    "    unames = ['user_id', 'gender', 'age', 'occupation', 'zip']\n",
    "    mnames = ['movie_id', 'title', 'genres']\n",
    "    rnames = ['user_id', 'movie_id', 'rating', 'timestamp']\n",
    "    users = read_dat(unames, u_dat)\n",
    "    ul = len(list(gen_dict(users)))\n",
    "    movies = read_dat(mnames, m_dat)\n",
    "    ml = len(list(gen_dict(movies)))\n",
    "    ratings = read_dat(rnames, r_dat)\n",
    "    rl = len(list(gen_dict(ratings)))\n",
    "    print ('size of datasets:')\n",
    "    print ('users', ul)\n",
    "    print ('movies', ml)\n",
    "    print ('ratings', rl)\n",
    "    print ('\\n... dumping data ...\\n')\n",
    "    users = read_dat(unames, u_dat)\n",
    "    users = gen_dict(users)\n",
    "    movies = read_dat(mnames, m_dat)\n",
    "    movies = gen_dict(movies)\n",
    "    ratings = read_dat(rnames, r_dat)\n",
    "    ratings = gen_dict(ratings)\n",
    "    uf = 'data/users.json'\n",
    "    dump_json(uf, ul, users)\n",
    "    mf = 'data/movies.json'\n",
    "    dump_json(mf, ml, movies)\n",
    "    rf = 'data/ratings.json'\n",
    "    dump_json(rf, rl, ratings)\n",
    "    print ('\\n... verifying data ...\\n')\n",
    "    u = read_json(uf)\n",
    "    m = read_json(mf)\n",
    "    r = read_json(rf)\n",
    "    n = 1\n",
    "    display(n, u)\n",
    "    display(n, m)\n",
    "    display(n, r)"
   ]
  },
  {
   "attachments": {},
   "cell_type": "markdown",
   "metadata": {},
   "source": [
    "O exemplo de código começa importando as bibliotecas json e csv. Função read_dat() lê e limpa os dados (substitui dois-pontos duplos por dois-pontos simples como delimitadores). A função gen_dict() converte uma lista OrderedDict em uma lista de dicionário regular para facilitar o processamento. A função dump_json() é uma função personalizada que escrevi para despejar dados em JSON. A função read_json() lê JSON. A função display() exibe alguns dados para verificação. O bloco principal começa lendo os três conjuntos de dados e encontrando seus tamanhos. Ele continua relendo os conjuntos de dados e despejando em JSON. Os conjuntos de dados precisam ser relidos, porque um gerador só pode ser percorrido uma vez. Como o conjunto de dados de classificação tem mais de um milhão de registros, leva alguns segundos para ser processado."
   ]
  },
  {
   "cell_type": "code",
   "execution_count": null,
   "metadata": {},
   "outputs": [],
   "source": [
    "import json, numpy as np\n",
    "\n",
    "def read_json(f):\n",
    "    with open(f) as f:\n",
    "        return json.load(f)\n",
    "\n",
    "def dump_json(f, d):\n",
    "    with open(f, 'w') as fout:\n",
    "        json.dump(d, fout)    \n",
    "\n",
    "def display(n, d):\n",
    "    [print (row) for i,row in enumerate(d) if i < n]\n",
    "\n",
    "def get_indx(k, d):\n",
    "    return [row[k] for row in d if 'null' in row]\n",
    "\n",
    "def get_data(k, l, d):\n",
    "    return [row for i, row in enumerate(d) if row[k] in l]\n",
    "\n",
    "def get_unique(key, d):\n",
    "    s = set()\n",
    "    for row in d:\n",
    "        for k, v in row.items():\n",
    "            if k in key:\n",
    "                s.add(v)\n",
    "    return np.sort(list(s))\n",
    "\n",
    "if __name__ == \"__main__\":\n",
    "    mf = 'data/movies.json'\n",
    "    m = read_json(mf)\n",
    "    n = 20\n",
    "    display(n, m)\n",
    "    print ()\n",
    "    indx = get_indx('movie_id', m)\n",
    "    for row in m:\n",
    "        if row['movie_id'] in indx:\n",
    "            row['title'] = row['title'] + ':' + row['genres']\n",
    "            row['genres'] = row['null'][0]\n",
    "            del row['null']\n",
    "        title = row['title'].split(\" \")\n",
    "        year = title.pop()\n",
    "        year = ''.join(c for c in year if c not in '()')\n",
    "        row['title'] = ' '.join(title)\n",
    "        row['year'] = year\n",
    "    data = get_data('movie_id', indx, m)\n",
    "    n = 2\n",
    "    display(n, data)\n",
    "    s = get_unique('year', m)\n",
    "    print ('\\n', s, '\\n')\n",
    "    rec = get_data('year', ['Assignment'], m)\n",
    "    print (rec[0])\n",
    "    rec = get_data('year', [\"L'Associe1982\"], m)\n",
    "    print (rec[0], '\\n')\n",
    "    b1, b2, cnt = False, False, 0\n",
    "    for row in m:\n",
    "        if row['movie_id'] in ['1001']:\n",
    "            row['year'] = '1982'\n",
    "            print (row)\n",
    "            b1 = True\n",
    "        elif row['movie_id'] in ['2382']:\n",
    "            row['title'] = 'Police Academy 5: Assignment: Miami Beach'\n",
    "            row['genres'] = 'Comedy'\n",
    "            row['year'] = '1988'\n",
    "            print (row)\n",
    "            b2 = True\n",
    "        elif b1 and b2: break\n",
    "        cnt += 1\n",
    "    print ('\\n', cnt, len(m))\n",
    "    mf = 'data/cmovies.json'    \n",
    "    dump_json(mf, m)\n",
    "    m = read_json(mf)\n",
    "    display(n, m)"
   ]
  },
  {
   "attachments": {},
   "cell_type": "markdown",
   "metadata": {},
   "source": [
    "O exemplo de código começa importando as bibliotecas json e numpy. A função read_json() lê JSON. A função dump_json() salva JSON. A função display() exibe n registros. A função get_indx() retorna índices de elementos do dicionário com uma chave nula. A função get_data() retorna um conjunto de dados filtrado por índices e chave movie_id. A função get_unique() retorna uma lista de valores exclusivos de uma lista de elementos do dicionário. O bloco principal começa lendo filmes.json e exibindo para inspeção. Os registros 12 e 19 têm uma chave nula. O código continua localizando todos os índices movie_id com uma chave nula. As próximas linhas limpam todos os filmes. Aqueles com uma chave nula requerem lógica adicional para serem totalmente limpos, mas todos os registros têm títulos modificados e uma chave de ano novo. Para verificar, os registros 12 e 19 são exibidos. Para ter certeza de que tudo está bem, o código encontra todas as chaves exclusivas com base no ano."
   ]
  },
  {
   "attachments": {},
   "cell_type": "markdown",
   "metadata": {},
   "source": [
    "Observe que há dois registros que não têm um ano legítimo. Assim, o código limpa os dois registros. O segundo elif foi adicionado ao código para interromper o processamento assim que os dois registros sujos foram limpos. Embora não esteja incluído no código, verifiquei as chaves movie_id, title e genres, mas não encontrei problemas. O código para se conectar ao MongoDB é o seguinte:"
   ]
  },
  {
   "cell_type": "code",
   "execution_count": null,
   "metadata": {},
   "outputs": [],
   "source": [
    "import json, numpy as np, sys, os, humanfriendly as hf\n",
    "from time import clock\n",
    "sys.path.append(os.getcwd()+'/classes')\n",
    "import conn\n",
    "\n",
    "def read_json(f):\n",
    "    with open(f) as f:\n",
    "        return json.load(f)\n",
    "\n",
    "def get_column(A, v):\n",
    "    return [A_i[v] for A_i in A]\n",
    "\n",
    "def remove_nr(v1, v2):\n",
    "    set_v1 = set(v1)\n",
    "    set_v2 = set(v2)\n",
    "    diff = list(set_v1 - set_v2)\n",
    "    return diff\n",
    "\n",
    "def get_info(*args):\n",
    "    a = [arg for arg in args]\n",
    "    ratings = [int(row[a[0][1]]) for row in a[2] if row[a[0][0]] == a[1]]\n",
    "    uids = [row[a[0][3]] for row in a[2] if row[a[0][0]] == a[1]]\n",
    "    title = [row[a[0][2]] for row in a[3] if row[a[0][0]] == a[1]]\n",
    "    age = [int(row[a[0][4]]) for col in uids for row in a[4] if col == row[a[0][3]]]\n",
    "    gender = [row[a[0][5]] for col in uids for row in users if col == row[a[0][3]]]\n",
    "    return (ratings, title[0], uids, age, gender)\n",
    "\n",
    "def generate(k, v, r, m, u):\n",
    "   for i, mid in enumerate(v):\n",
    "       dic = {}\n",
    "       rec = get_info(k, mid, r, m, u)\n",
    "       dic = {'_id':i, 'mid':mid, 'title':rec[1], 'avg_rating':np.mean(rec[0]),\n",
    "              'n_ratings':len(rec[0]), 'avg_age':np.mean(rec[3]),\n",
    "              'M':rec[4].count('M'), 'F':rec[4].count('F')}\n",
    "       dic['avg_rating'] = round(float(str(dic['avg_rating'])[:6]),2)\n",
    "       dic['avg_age'] = round(float(str(dic['avg_age'])[:6]))\n",
    "       yield dic\n",
    "\n",
    "def gen_ls(g):\n",
    "    for i, row in enumerate(g):\n",
    "        yield row\n",
    "\n",
    "if __name__ == \"__main__\":\n",
    "    print ('... creating datasets ...\\n')\n",
    "    m = 'data/cmovies.json'\n",
    "    movies = np.array(read_json(m))\n",
    "    r = 'data/ratings.json'\n",
    "    ratings = np.array(read_json(r))\n",
    "    r = 'data/users.json'\n",
    "    users = np.array(read_json(r))\n",
    "    print ('... creating movie indicies vector data ...\\n')\n",
    "    mv = get_column(movies, 'movie_id')\n",
    "    rv = get_column(ratings, 'movie_id')\n",
    "    print ('... creating unrated movie indicies vector ...\\n')\n",
    "    nrv = remove_nr(mv, rv)\n",
    "    diff = [int(row) for row in nrv]\n",
    "    print (np.sort(diff), '\\n')\n",
    "    new_mv = [x for x in mv if x not in nrv]\n",
    "    mid = '1'\n",
    "    keys = ('movie_id', 'rating', 'title', 'user_id', 'age', 'gender')\n",
    "    stats = get_info(keys, mid, ratings, movies, users)\n",
    "    avg_rating = np.mean(stats[0])\n",
    "    avg_age = np.mean(stats[3])\n",
    "    n_ratings = len(stats[0])\n",
    "    title = stats[1]\n",
    "    M, F = stats[4].count('M'), stats[4].count('F')\n",
    "    print ('avg rating for:', end=' \"')\n",
    "    print (title + '\" is', round(avg_rating, 2), end=' (')\n",
    "    print (n_ratings, 'ratings)\\n')\n",
    "    gen = generate(keys, new_mv, ratings, movies, users)\n",
    "    gls = gen_ls(gen)\n",
    "    obj = conn.conn('test')\n",
    "    db = obj.getDB()\n",
    "    movie_info = db.movie_info\n",
    "    movie_info.drop()\n",
    "    print ('... saving movie_info to MongoDB ...\\n')\n",
    "    start = clock()\n",
    "    for row in gls:\n",
    "        movie_info.insert(row)\n",
    "    end = clock()\n",
    "    elapsed_ls = end - start\n",
    "    print (hf.format_timespan(elapsed_ls, detailed=True))"
   ]
  },
  {
   "attachments": {},
   "cell_type": "markdown",
   "metadata": {},
   "source": [
    "O exemplo de código começa importando json, numpy, sys, os, humanfriendly, time e conn (uma classe personalizada que criei para conectar ao MongoDB). A função read_json() lê JSON. A função get_column() retorna um vetor de coluna. A função remove_nr() remove os valores movie_id que não são classificados. A função get_info() retorna classificações, usuários, idade e sexo como vetores de coluna, bem como o título de um filme. A função é muito complexa, porque cada vetor é criado percorrendo um dos conjuntos de dados e fazer comparações. Para torná-lo mais conciso, a compreensão de lista foi usada extensivamente. A função generate() gera um elemento de dicionário que contém avaliação média, idade média, número de avaliadores masculinos e femininos, número de avaliações, movie_id e título de cada filme. A função gen_ ls() gera cada elemento do dicionário gerado pela função generate().O bloco principal começa lendo os três conjuntos de dados JSON. Ele continua obtendo dois vetores de coluna — cada movie_id do conjunto de dados de filmes e movie_id do conjunto de dados de avaliações. Cada vetor de coluna é convertido em um conjunto para remover duplicatas. Vetores de coluna são usados em vez de registros completos para um processamento mais rápido. Em seguida, um novo vetor de coluna é retornado contendo apenas os filmes classificados. O código continua obtendo vetores de título e coluna para classificações e usuários, idade e sexo para cada filme com movie_ id igual a 1. A classificação média para este filme é exibida com seu título e número de classificações. A parte final do código cria um gerador contendo uma lista de elementos do dicionário. Cada elemento do dicionário contém o id do filme, título, avaliação média, idade média, número de avaliações, número de avaliadores masculinos e número de avaliadores femininos. Em seguida, outro gerador é criado para gerar a lista. A criação dos geradores é instantânea, mas desvendar (desdobrar) o conteúdo leva tempo. Lembre-se de que o primeiro gerador executa bilhões de processos e o segundo gerador executa o primeiro. Portanto, salvar o conteúdo no MongoDB leva cerca de meia hora. Para verificar os resultados, vamos examinar os dados no MongoDB. O comando show collections é o 1º que executo para verificar se a coleção movie_info foi criada:"
   ]
  },
  {
   "attachments": {},
   "cell_type": "markdown",
   "metadata": {},
   "source": [
    "Em seguida, executo db.movie_info.count() para verificar o número de documentos:"
   ]
  },
  {
   "attachments": {},
   "cell_type": "markdown",
   "metadata": {},
   "source": [
    "Agora que sei o número de documentos, posso exibir o primeiro e o últimos cinco registros:"
   ]
  },
  {
   "attachments": {},
   "cell_type": "markdown",
   "metadata": {},
   "source": [
    "A partir da exploração de dados, parece que a coleção movie_info foi criada corretamente."
   ]
  },
  {
   "attachments": {},
   "cell_type": "markdown",
   "metadata": {},
   "source": [
    "O quarto exemplo de código salva os três conjuntos de dados — users.json, cmovies. json e ratings.json — para MongoDB:"
   ]
  },
  {
   "cell_type": "code",
   "execution_count": null,
   "metadata": {},
   "outputs": [],
   "source": [
    "import sys, os, json, humanfriendly as hf\n",
    "from time import clock\n",
    "sys.path.append(os.getcwd() + '/classes')\n",
    "import conn\n",
    "\n",
    "def read_json(f):\n",
    "    with open(f) as f:\n",
    "        return json.load(f)\n",
    "\n",
    "def create_db(c, d):\n",
    "    c = db[c]\n",
    "    c.drop()\n",
    "    for i, row in enumerate(d):\n",
    "        row['_id'] = i\n",
    "        c.insert(row)\n",
    "\n",
    "if __name__ == \"__main__\":\n",
    "    u = read_json('data/users.json')\n",
    "    m = read_json('data/cmovies.json')\n",
    "    r = read_json('data/ratings.json')\n",
    "    obj = conn.conn('test')\n",
    "    db = obj.getDB()\n",
    "    print ('... creating MongoDB collections ...\\n')\n",
    "    start = clock()\n",
    "    create_db('users', u)\n",
    "    create_db('movies', m)\n",
    "    create_db('ratings', r)\n",
    "    end = clock()\n",
    "    elapsed_ls = end - start\n",
    "    print (hf.format_timespan(elapsed_ls, detailed=True))"
   ]
  },
  {
   "attachments": {},
   "cell_type": "markdown",
   "metadata": {},
   "source": [
    "O exemplo de código começa importando sys, os, json, humanfriendly, time e custom class conn. A função read_json lê JSON. A função create_db() cria coleções do MongoDB. O bloco principal começa lendo os três conjuntos de dados — users.json, cmovies.json e ratings.json — e salvando-os nas coleções do MongoDB. Como o conjunto de dados ratings.json tem mais de um milhão de registros, leva algum tempo para salvá-lo no banco de dados"
   ]
  },
  {
   "attachments": {},
   "cell_type": "markdown",
   "metadata": {},
   "source": [
    "O quinto exemplo de código apresenta o pipeline de agregação, que é uma estrutura do MongoDB para agregação de dados modelada no conceito de pipelines de processamento de dados. Os documentos entram em um pipeline de vários estágios que os transforma em resultados agregados. Além de agrupar e classificar documentos por campo ou campos específicos e agregar conteúdo de matrizes, os estágios de pipeline podem usar operadores para tarefas como calcular médias ou concatenar strings. O pipeline fornece agregação de dados eficiente usando operações nativas do MongoDB e é o método preferido para agregação de dados no MongoDB."
   ]
  },
  {
   "cell_type": "code",
   "execution_count": null,
   "metadata": {},
   "outputs": [],
   "source": [
    "import sys, os\n",
    "sys.path.append(os.getcwd() + '/classes')\n",
    "import conn\n",
    "\n",
    "def match_item(k, v, d):\n",
    "    pipeline = [ {'$match' : { k : v }} ]\n",
    "    q = db.command('aggregate',d,pipeline=pipeline)\n",
    "    return q\n",
    "\n",
    "if __name__ == \"__main__\":\n",
    "    obj = conn.conn('test')\n",
    "    db = obj.getDB()\n",
    "    movie = 'Toy Story'\n",
    "    q = match_item('title', movie, 'movie_info')\n",
    "    r = q['result'][0]\n",
    "    print (movie, 'document:')\n",
    "    print (r)\n",
    "    print ('average rating', r['avg_rating'], '\\n')\n",
    "    user_id = '3'\n",
    "    print ('*** user', user_id, '***')\n",
    "    q = match_item('user_id', user_id, 'users')\n",
    "    r = q['result'][0]    \n",
    "    print ('age', r['age'], 'gender', r['gender'], 'occupation',\\\n",
    "          r['occupation'], 'zip', r['zip'], '\\n')\n",
    "    print ('*** \"user 3\" movie ratings of 5 ***')\n",
    "    q = match_item('user_id', user_id, 'ratings')\n",
    "    mid = q['result']\n",
    "    for row in mid:\n",
    "        if row['rating'] == '5':\n",
    "            q = match_item('movie_id', row['movie_id'], 'movies')\n",
    "            title = q['result'][0]['title']\n",
    "            genre = q['result'][0]['genres']\n",
    "            print (row['movie_id'], title, genre)\n",
    "    mid = '1136'\n",
    "    q = match_item('mid', mid, 'movie_info')\n",
    "    title = q['result'][0]['title']\n",
    "    avg_rating = q['result'][0]['avg_rating']\n",
    "    print ()\n",
    "    print ('\"' + title + '\"', 'average rating:', avg_rating)"
   ]
  },
  {
   "attachments": {},
   "cell_type": "markdown",
   "metadata": {},
   "source": [
    "O exemplo de código começa importando sys, os e custom class conn. A função match_item() usa o pipeline de agregação para corresponder os registros aos critérios. O bloco principal começa usando o pipeline de agregação para retornar o documento Toy Story da coleção movie_info. O código continua usando o pipeline para retornar o documento do usuário 3 dos usuários da coleção. Em seguida, o pipeline de agregação é usado para retornar todas as classificações de filme de 5 para o usuário 3. Finalmente, o pipeline é usado para retornar a classificação média para Monty Python e o Santo Graal da coleção movie_info. O pipeline de agregação é eficiente e oferece uma vasta gama de funcionalidades. O sexto exemplo de código demonstra um pipeline de agregação de vários estágios:"
   ]
  },
  {
   "cell_type": "code",
   "execution_count": null,
   "metadata": {},
   "outputs": [],
   "source": [
    "import sys, os\n",
    "sys.path.append(os.getcwd() + '/classes')\n",
    "import conn\n",
    "\n",
    "def stages(k, v, r, d):\n",
    "    pipeline = [ {'$match' : { '$and' : [ { k : v },\n",
    "                   {'rating':{'$eq':r} }] } },\n",
    "                 {'$project' : {\n",
    "                     '_id' : 1,\n",
    "                     'user_id' : 1,\n",
    "                     'movie_id' : 1,\n",
    "                     'rating' : 1 } },\n",
    "                 {'$limit' : 100}]\n",
    "    q = db.command('aggregate',d,pipeline=pipeline)\n",
    "    return q\n",
    "\n",
    "def match_item(k, v, d):\n",
    "    pipeline = [ {'$match' : { k : v }} ]\n",
    "    q = db.command('aggregate',d,pipeline=pipeline)\n",
    "    return q\n",
    "\n",
    "if __name__ == \"__main__\":\n",
    "    obj = conn.conn('test')\n",
    "    db = obj.getDB()\n",
    "    u = '3'\n",
    "    r = '5'\n",
    "    q = stages('user_id', u, r, 'ratings')\n",
    "    result = q['result']\n",
    "    print ('ratings of', r, 'for user ' + str(u) + ':')\n",
    "    for i, row in enumerate(result):\n",
    "        print (row)\n",
    "    n = i+1\n",
    "    print ()\n",
    "    print (n, 'associated movie titles:')\n",
    "    for i, row in enumerate(result):\n",
    "        q = match_item('movie_id', row['movie_id'], 'movies')\n",
    "        r = q['result'][0]\n",
    "        print (r['title'])"
   ]
  },
  {
   "attachments": {},
   "cell_type": "markdown",
   "metadata": {},
   "source": [
    "O exemplo de código começa importando sys, os e custom class conn. A função stage() usa um pipeline de agregação de três estágios. A 1ª etapa encontra todas as notas 5 do usuário 3. A 2ª etapa projeta os campos a serem exibidos. A 3ª etapa limita o número de documentos devolvidos. É importante incluir um estágio de limite, porque o banco de dados de resultados é grande e os pipelines têm limitações de tamanho. A função match_item() usa o pipeline de agregação para corresponder os registros aos critérios. O bloco principal começa usando o pipeline stage() para retornar todas as classificações de 5 do usuário 3. O código continua iterando esses dados e usando o pipeline match_item() para obter os títulos que o usuário 3 classificou como 5. O pipeline é um método eficiente para consultar documentos do MongoDB, mas requer prática para se familiarizar com sua sintaxe."
   ]
  },
  {
   "attachments": {},
   "cell_type": "markdown",
   "metadata": {},
   "source": [
    "### Twitter"
   ]
  },
  {
   "attachments": {},
   "cell_type": "markdown",
   "metadata": {},
   "source": [
    "O Twitter é uma fonte fantástica de dados porque você pode obter dados sobre quase tudo. Para acessar os dados do Twitter, você precisa se conectar ao Twitter Streaming API. A conexão requer quatro informações do Twitter: chave de API, segredo de API, token de acesso e segredo do token de acesso (criptografado). Depois de se registrar e obter suas credenciais, você precisa instalar uma API do Twitter. Eu escolhi a API do Twitter TwitterSearch, mas existem muitas outras."
   ]
  },
  {
   "attachments": {},
   "cell_type": "markdown",
   "metadata": {},
   "source": [
    "O primeiro exemplo de código cria JSON para armazenar minhas credenciais do Twitter (insira suas credenciais em cada variável):"
   ]
  },
  {
   "cell_type": "code",
   "execution_count": null,
   "metadata": {},
   "outputs": [],
   "source": [
    "import json\n",
    "\n",
    "if __name__ == '__main__':\n",
    "    consumer_key = 'qIhSaP3SDMjYTgQSHMnflOte0'\n",
    "    consumer_secret = '7M4HGS8iPmma0tsC6KGMhqtlR4tDBl1YWPu1UtIMT5mvRNQw35'\n",
    "    access_token = '3417237687-G6xlBPoHYQclCUhLoULgL6ubwiDjLmFUp1dEEqi'\n",
    "    access_encrypted = 'zCDKTOHNFa31nBEGOhbttbA5RWX6lw7NR5jDsVJa3d6bh'\n",
    "    data = {}\n",
    "    data['ck'] = consumer_key\n",
    "    data['cs'] = consumer_secret\n",
    "    data['at'] = access_token\n",
    "    data['ae'] = access_encrypted\n",
    "    json_data = json.dumps(data)\n",
    "    header = '[\\n'\n",
    "    ender = ']'\n",
    "    obj = open('data/credentials.json', 'w')\n",
    "    obj.write(header)\n",
    "    obj.write(json_data + '\\n')\n",
    "    obj.write(ender)\n",
    "    obj.close()"
   ]
  },
  {
   "attachments": {},
   "cell_type": "markdown",
   "metadata": {},
   "source": [
    "Eu escolhi salvar as credenciais em JSON para ocultá-las. O código exemplo importa a biblioteca json. O bloco principal salva as credenciais em JSON. O segundo exemplo de código transmite dados do Twitter usando a API TwitterSearch. Para instalar: pip install TwitterSearchAPI."
   ]
  },
  {
   "cell_type": "code",
   "execution_count": null,
   "metadata": {},
   "outputs": [],
   "source": [
    "from TwitterSearch import *\n",
    "import json, sys\n",
    "\n",
    "class twitSearch:\n",
    "    def __init__(self, cred, ls, limit):\n",
    "        self.cred = cred\n",
    "        self.ls = ls\n",
    "        self.limit = limit\n",
    "    def search(self):\n",
    "        num = 0\n",
    "        dt = []\n",
    "        dic = {}\n",
    "        try:\n",
    "            tso = TwitterSearchOrder()\n",
    "            tso.set_keywords(self.ls)\n",
    "            tso.set_language('en')\n",
    "            tso.set_include_entities(False)\n",
    "            ts = TwitterSearch(\n",
    "                consumer_key = self.cred[0]['ck'],\n",
    "                consumer_secret = self.cred[0]['cs'],\n",
    "                access_token = self.cred[0]['at'],\n",
    "                access_token_secret = self.cred[0]['ae']\n",
    "                )\n",
    "            for tweet in ts.search_tweets_iterable(tso):\n",
    "                if num <= self.limit:\n",
    "                    dic['_id'] = num\n",
    "                    dic['tweeter'] = tweet['user']['screen_name']\n",
    "                    dic['tweet_text'] = tweet['text']\n",
    "                    dt.append(dic)\n",
    "                    dic = {}\n",
    "                else:\n",
    "                    break\n",
    "                num += 1\n",
    "        except TwitterSearchException as e:\n",
    "            print (e)\n",
    "        return dt\n",
    "\n",
    "def get_creds():\n",
    "    with open('data/credentials.json') as json_data:\n",
    "        d = json.load(json_data)\n",
    "        json_data.close()\n",
    "    return d\n",
    "\n",
    "def write_json(f, d):\n",
    "    with open(f, 'w') as fout:\n",
    "        json.dump(d, fout)\n",
    "\n",
    "def translate():\n",
    "    return dict.fromkeys(range(0x10000, sys.maxunicode + 1), 0xfffd)\n",
    "\n",
    "def read_json(f):\n",
    "    with open(f) as f:\n",
    "        return json.load(f)\n",
    "\n",
    "if __name__ == '__main__':\n",
    "    cred = get_creds()\n",
    "    ls = ['machine', 'learning']\n",
    "    limit = 10\n",
    "    obj = twitSearch(cred, ls, limit)\n",
    "    data = obj.search()\n",
    "    f = 'data/TwitterSearch.json'\n",
    "    write_json(f, data)\n",
    "    non_bmp_map = translate()\n",
    "    print ('twitter data:')\n",
    "    for row in data:\n",
    "        row['tweet_text'] = str(row['tweet_text']).translate(non_bmp_map)\n",
    "        tweet_text = row['tweet_text'][0:50]\n",
    "        print ('{:<3}{:18s}{}'.format(row['_id'], row['tweeter'], tweet_text))\n",
    "    print ('\\nverify JSON:')\n",
    "    read_data = read_json(f)\n",
    "    for i, p in enumerate(read_data):\n",
    "        if i < 3:\n",
    "            p['tweet_text'] = str(p['tweet_text']).translate(non_bmp_map)\n",
    "            tweet_text = p['tweet_text'][0:50]\n",
    "            print ('{:<3}{:18s}{}'.format(p['_id'], p['tweeter'], tweet_text))"
   ]
  },
  {
   "attachments": {},
   "cell_type": "markdown",
   "metadata": {},
   "source": [
    "O exemplo de código começa importando as bibliotecas TwitterSearch, json e sys. A classe twitSearch transmite dados do Twitter com base nas credenciais do Twitter, uma lista de palavras-chave e um limite. A função get_cred() retorna as credenciais do Twitter do JSON. A função write_json() grava dados em JSON. A função translate() converte dados transmitidos fora do Basic Multilingual Plane (BMP) para um formato utilizável. Emojis, por exemplo, estão fora do BMP. A função read_json() lê JSON. O bloco principal começa obtendo credenciais do Twitter, criando uma lista de palavras-chave de pesquisa e um limite. Nesse caso, a lista de palavras-chave de pesquisa contém máquina e aprendizado, porque eu queria transmitir dados sobre aprendizado de máquina. O limite de dez restringe os registros transmitidos a dez tweets. O código continua gravando dados do Twitter em JSON, traduzindo tweets para controlar dados não BMP e imprimindo o tweet. Por fim, o código lê JSON para verificar se os tweets foram salvos corretamente e imprime alguns."
   ]
  },
  {
   "attachments": {},
   "cell_type": "markdown",
   "metadata": {},
   "source": [
    "### Raspagem da web"
   ]
  },
  {
   "attachments": {},
   "cell_type": "markdown",
   "metadata": {},
   "source": [
    "A raspagem da Web é uma abordagem programática para extrair informações de sites. Ele se concentra na transformação de dados formatados em HTML não estruturados em dados estruturados. A raspagem da Web é programaticamente intensiva devido à natureza não estruturada do HTML. Ou seja, o HTML tem poucas ou nenhuma regra estrutural, o que significa que os padrões estruturais do HTML tendem a diferir de um site para outro. Portanto, prepare-se para escrever um código personalizado para cada aventura de raspagem na Web."
   ]
  },
  {
   "attachments": {},
   "cell_type": "markdown",
   "metadata": {},
   "source": [
    "O exemplo de código extrai as informações do livro de uma editora de livros técnicos popular. O primeiro passo é localizar a página da web. O 2º passo é abrir uma janela com o código fonte. A terceira etapa é percorrer o código-fonte para identificar os dados a serem raspados. O 4º passo é raspar. Com o Google Chrome, clique em Mais ferramentas e depois em Ferramentas do desenvolvedor para abra a janela do código-fonte. Em seguida, passe o cursor do mouse sobre a fonte até encontrar os dados. Desça na árvore do código-fonte para encontrar as tags que deseja raspar. Finalmente, raspe os dados."
   ]
  },
  {
   "cell_type": "code",
   "execution_count": null,
   "metadata": {},
   "outputs": [],
   "source": [
    "from bs4 import BeautifulSoup\n",
    "import requests, json\n",
    "\n",
    "def build_title(t):\n",
    "    t = t.text\n",
    "    t = t.split()\n",
    "    ls = []\n",
    "    for row in t:\n",
    "        if row != '-':\n",
    "            ls.append(row)\n",
    "        elif row == '-':\n",
    "            break\n",
    "    return ' '.join(ls)\n",
    "\n",
    "def release_date(r):\n",
    "    r = r.text\n",
    "    r = r.split()\n",
    "    prefix = r[0] + s + r[1]\n",
    "    if len(r) == 5:\n",
    "        date = r[2] + s + r[3] + s + r[4]\n",
    "    else:\n",
    "        date = r[2] + s + r[3]\n",
    "    return prefix, date        \n",
    "\n",
    "def write_json(f, d):\n",
    "    with open(f, 'w') as fout:\n",
    "        json.dump(d, fout)\n",
    "\n",
    "def read_json(f):\n",
    "    with open(f) as f:\n",
    "        return json.load(f)\n",
    "\n",
    "if __name__ == '__main__':\n",
    "    s = ' '\n",
    "    dic_ls = []\n",
    "    base_url = \"https://ssearch.oreilly.com/?q=data+science\"\n",
    "    soup = BeautifulSoup(requests.get(base_url).text, 'lxml')\n",
    "    books = soup.find_all('article')\n",
    "    for i, row in enumerate(books):\n",
    "        dic = {}\n",
    "        tag = row.name\n",
    "        tag_val = row['class']\n",
    "        title = row.find('p', {'class' : 'title'})\n",
    "        title = build_title(title)\n",
    "        url = row.find('a', {'class' : 'learn-more'})\n",
    "        learn_more = url.get('href')\n",
    "        author = row.find('p', {'class' : 'note'}).text\n",
    "        release = row.find('p', {'class' : 'note date2'})\n",
    "        prefix, date = release_date(release)\n",
    "        if len(tag_val) == 2:\n",
    "            publisher = row.find('p', {'class' : 'note publisher'}).text\n",
    "            item = row.find('img', {'class' : 'book'})\n",
    "            cat = item.get('class')[0]\n",
    "        else:\n",
    "            publisher, cat = None, None\n",
    "            desc = row.find('p', {'class' : 'description'}).text.split()\n",
    "            desc = [row for i, row in enumerate(desc) if i < 7]\n",
    "            desc = ' '.join(desc) + ' ...'\n",
    "        dic['title'] = title\n",
    "        dic['learn_more'] = learn_more\n",
    "        if author[0:3] != 'Pub':\n",
    "            dic['author'] = author\n",
    "        if publisher is not None:\n",
    "            dic['publisher'] = publisher\n",
    "            dic['category'] = cat\n",
    "        else:\n",
    "            dic['event'] = desc \n",
    "        dic['date'] = date\n",
    "        dic_ls.append(dic)\n",
    "    f = 'data/scraped.json'\n",
    "    write_json(f, dic_ls)\n",
    "    data = read_json(f)\n",
    "    for i, row in enumerate(data):\n",
    "        if i < 6:\n",
    "            print (row['title'])\n",
    "            if 'author' in row.keys():\n",
    "                print (row['author'])\n",
    "            if 'publisher' in row.keys():\n",
    "                print (row['publisher'])\n",
    "            if 'category' in row.keys():\n",
    "                print ('Category:', row['category'])\n",
    "                print ('Release Date:', row['date'])\n",
    "            if 'event' in row.keys():\n",
    "                print ('Event:', row['event'])\n",
    "                print ('Publish Date:', row['date'])\n",
    "            print ('Learn more:', row['learn_more'])\n",
    "            print ()"
   ]
  },
  {
   "attachments": {},
   "cell_type": "markdown",
   "metadata": {},
   "source": [
    "O exemplo de código começa importando as bibliotecas BeautifulSoup, request e json. A função build_title() cria dados de título copiados em uma string. A função release_date() cria dados de data raspados em uma string. As funções write_json() e read_json() escrevem e leem JSON respectivamente. O bloco principal começa convertendo a página URL em um objeto BeautifulSoup. O código continua colocando todas as tags de artigo em livros variáveis. Da exploração, descobri que as tags do artigo continham as informações que eu queria coletar. Em seguida, cada tag de artigo é percorrida. A raspagem teria sido muito mais fácil se as informações em cada tag de artigo fossem estruturadas de forma consistente. Como não foi, a lógica para extrair cada informação é extensa. Cada informação é colocada em um elemento do dicionário, que é posteriormente anexado a uma lista. Por fim, a lista é salva em JSON. O JSON é lido e alguns registros são exibidos para verificar se está tudo bem."
   ]
  },
  {
   "cell_type": "code",
   "execution_count": null,
   "metadata": {},
   "outputs": [],
   "source": [
    "%reload_ext watermark\n",
    "%watermark -a \"Caique Miranda\" -gu \"caiquemiranda\" -iv"
   ]
  },
  {
   "attachments": {},
   "cell_type": "markdown",
   "metadata": {},
   "source": [
    "### End."
   ]
  }
 ],
 "metadata": {
  "kernelspec": {
   "display_name": "Python 3",
   "language": "python",
   "name": "python3"
  },
  "language_info": {
   "codemirror_mode": {
    "name": "ipython",
    "version": 3
   },
   "file_extension": ".py",
   "mimetype": "text/x-python",
   "name": "python",
   "nbconvert_exporter": "python",
   "pygments_lexer": "ipython3",
   "version": "3.10.5"
  },
  "orig_nbformat": 4
 },
 "nbformat": 4,
 "nbformat_minor": 2
}
