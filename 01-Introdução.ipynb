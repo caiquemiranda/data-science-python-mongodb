{
 "cells": [
  {
   "cell_type": "code",
   "execution_count": 1,
   "metadata": {},
   "outputs": [
    {
     "name": "stdout",
     "output_type": "stream",
     "text": [
      "Versão de Python Neste Jupyter Notebook: 3.10.5\n"
     ]
    }
   ],
   "source": [
    "# Versão da Linguagem Python\n",
    "from platform import python_version\n",
    "print('Versão de Python Neste Jupyter Notebook:', python_version())"
   ]
  },
  {
   "attachments": {},
   "cell_type": "markdown",
   "metadata": {},
   "source": [
    "### Introdução"
   ]
  },
  {
   "attachments": {},
   "cell_type": "markdown",
   "metadata": {},
   "source": [
    "A ciência de dados é um campo interdisciplinar que abrange métodos, processos e sistemas científicos para extrair conhecimento ou insights de dados em várias formas, estruturadas ou não estruturadas. Ele extrai princípios de matemática, estatística, ciência da informação, ciência da computação, aprendizado de máquina, visualização, mineração de dados e análise preditiva. No entanto, é fundamentalmente fundamentado na matemática."
   ]
  },
  {
   "attachments": {},
   "cell_type": "markdown",
   "metadata": {},
   "source": [
    "Este livro explica e aplica os fundamentos da ciência de dados cruciais para profissionais técnicos, como DBAs e desenvolvedores, que estão fazendo mudanças de carreira em direção à prática da ciência de dados. É um livro baseado em exemplos que fornece exemplos completos de codificação Python para complementar e esclarecer conceitos de ciência de dados e enriquecer a experiência de aprendizado. Exemplos de codificação incluem visualizações sempre que apropriado. O livro é um precursor necessário para aplicar e implementar algoritmos de aprendizado de máquina, porque apresenta ao leitor os princípios fundamentais da ciência dos dados."
   ]
  },
  {
   "attachments": {},
   "cell_type": "markdown",
   "metadata": {},
   "source": [
    "O livro é independente. Todas as habilidades matemáticas, estatísticas, estocásticas e de programação necessárias para dominar o conteúdo são abordadas no livro. Conhecimento aprofundado de programação orientada a objeto não é necessário, porque exemplos funcionais e completos são fornecidos e explicados. Os exemplos são aprofundados e complexos quando necessário para garantir a aquisição da perspicácia apropriada da ciência de dados. O livro ajuda você a desenvolver as habilidades básicas necessárias para trabalhar e entender algoritmos complexos de ciência de dados."
   ]
  },
  {
   "attachments": {},
   "cell_type": "markdown",
   "metadata": {},
   "source": [
    "Fundamentos da ciência de dados por exemplo é um excelente ponto de partida para os interessados em seguir uma carreira em ciência de dados. Como qualquer ciência, os fundamentos da ciência de dados são pré-requisitos para a competência. Sem proficiência em matemática, estatística, manipulação de dados e codificação, o caminho para o sucesso é “rochoso” na melhor das hipóteses. Os exemplos de codificação neste livro são concisos, precisos e completos e complementam perfeitamente os conceitos de ciência de dados introduzidos."
   ]
  },
  {
   "attachments": {},
   "cell_type": "markdown",
   "metadata": {},
   "source": [
    "#### Fundamentos do Python"
   ]
  },
  {
   "attachments": {},
   "cell_type": "markdown",
   "metadata": {},
   "source": [
    "O Python tem vários recursos que o tornam adequado para aprender e fazer ciência de dados. É gratuito, relativamente simples de codificar, fácil de entender e possui muitas bibliotecas úteis para facilitar a resolução de problemas de ciência de dados. Ele também permite a prototipagem rápida de praticamente qualquer cenário de ciência de dados e demonstração de conceitos de ciência de dados de forma clara e fácil de entender maneiras"
   ]
  },
  {
   "attachments": {},
   "cell_type": "markdown",
   "metadata": {},
   "source": [
    "O objetivo deste capítulo não é ensinar Python como um todo, mas apresentar, 7. MongoDB e JSON explicar e esclarecer os recursos fundamentais da linguagem (como lógica, estruturas de dados e bibliotecas) que ajudam a prototipar, aplicar e/ou resolver problemas de ciência de dados."
   ]
  },
  {
   "attachments": {},
   "cell_type": "markdown",
   "metadata": {},
   "source": [
    "Os fundamentos do Python são cobertos com um amplo espectro de atividades com exemplos de codificação associados como segue:\n",
    "\n",
    "1. funções e strings\n",
    "2. listas, tuplas e dicionários\n",
    "3. leitura e gravação de dados\n",
    "4. compreensão da lista\n",
    "5. geradores\n",
    "6. randomização de dados\n",
    "7. MongoDB e JSON\n",
    "8. visualização"
   ]
  },
  {
   "attachments": {},
   "cell_type": "markdown",
   "metadata": {},
   "source": [
    "#### Funções e Strings"
   ]
  },
  {
   "attachments": {},
   "cell_type": "markdown",
   "metadata": {},
   "source": [
    "As funções Python são funções de primeira classe, o que significa que podem ser usadas como parâmetros, um valor de retorno, atribuídas a variáveis e armazenadas em estruturas de dados. Simplesmente, as funções funcionam como uma variável típica. As funções podem ser personalizados ou integrados. Os personalizados são criados pelo programador, enquanto os integrados fazem parte da linguagem. Strings são tipos muito populares entre aspas simples ou duplas."
   ]
  },
  {
   "attachments": {},
   "cell_type": "markdown",
   "metadata": {},
   "source": [
    "O exemplo de código a seguir define funções personalizadas e usa funções integradas:"
   ]
  },
  {
   "cell_type": "code",
   "execution_count": 2,
   "metadata": {},
   "outputs": [
    {
     "name": "stdout",
     "output_type": "stream",
     "text": [
      "999.01 is <class 'str'>\n",
      "87 is <class 'str'>\n",
      "23.09 is <class 'float'>\n",
      "19 is <class 'int'>\n",
      "\n",
      "string \"how now brown cow\" has 17 characters\n",
      "split string: ['how', 'now', 'brown', 'cow']\n",
      "joined list: how now brown cow\n"
     ]
    }
   ],
   "source": [
    "def num_to_str(n):\n",
    "    return str(n)\n",
    "\n",
    "def str_to_int(s):\n",
    "    return int(s)\n",
    "\n",
    "def str_to_float(f):\n",
    "    return float(f)\n",
    "\n",
    "if __name__ == \"__main__\":\n",
    "    # hash symbol allows single-line comments\n",
    "    '''\n",
    "    triple quotes allow multi-line comments\n",
    "    '''\n",
    "\n",
    "    float_num = 999.01\n",
    "    int_num = 87\n",
    "    float_str = '23.09'\n",
    "    int_str = '19'\n",
    "    string = 'how now brown cow'\n",
    "    \n",
    "    s_float = num_to_str(float_num)\n",
    "    s_int = num_to_str(int_num)\n",
    "    i_str = str_to_int(int_str)\n",
    "    f_str = str_to_float(float_str)\n",
    "    \n",
    "    print (s_float, 'is', type(s_float))\n",
    "    print (s_int, 'is', type(s_int))\n",
    "    print (f_str, 'is', type(f_str))\n",
    "    print (i_str, 'is', type(i_str))\n",
    "    print ('\\nstring', '\"' + string + '\" has', \n",
    "           len(string), \n",
    "           'characters')\n",
    "    \n",
    "    str_ls = string.split()\n",
    "    print ('split string:', str_ls)\n",
    "    print ('joined list:', ' '.join(str_ls))"
   ]
  },
  {
   "attachments": {},
   "cell_type": "markdown",
   "metadata": {},
   "source": [
    "Um estilo de codificação popular é apresentar funções e importação de bibliotecas primeiro, seguido pelo bloco principal de código. O exemplo de código começa com três funções personalizadas que convertem números em strings, strings em números e strings em float, respectivamente. Cada função personalizada retorna uma função integrada para permitir que o Python faça a conversão. O bloco principal começa com comentários. Comentários de linha única são indicados com o símbolo # (hash). Os comentários de várias linhas são indicados com três aspas simples consecutivas. As próximas cinco linhas atribuem valores às variáveis. As quatro linhas a seguir convertem cada tipo de variável em outro tipo. Por exemplo, a função num_to_str() converte a variável float_num para o tipo string. As próximas cinco linhas imprimem variáveis com seus tipos de dados Python associados. A função interna type() retorna o tipo de determinado objeto. As quatro linhas restantes imprimem e manipulam uma variável de string."
   ]
  },
  {
   "attachments": {},
   "cell_type": "markdown",
   "metadata": {},
   "source": [
    "#### Lists, Tuples, and Dictionaries"
   ]
  },
  {
   "attachments": {},
   "cell_type": "markdown",
   "metadata": {},
   "source": [
    "Listas são coleções ordenadas com valores separados por vírgula entre colchetes. Os índices começam em 0 (zero). Os itens da lista não precisam ser do mesmo tipo e podem ser segmentados, concatenados e manipulados de várias maneiras."
   ]
  },
  {
   "attachments": {},
   "cell_type": "markdown",
   "metadata": {},
   "source": [
    "O exemplo de código a seguir cria uma lista, a manipula e divide, cria uma nova lista e adiciona elementos a ela de outra lista e cria um matriz de duas listas: "
   ]
  },
  {
   "cell_type": "code",
   "execution_count": 3,
   "metadata": {},
   "outputs": [
    {
     "name": "stdout",
     "output_type": "stream",
     "text": [
      "list length: 7 items\n",
      "cat count: 1 , cat index: 6\n",
      "\n",
      "manipulate list:\n",
      "cat: cat , list: ['orange', 'banana', 10, 'leaf', 77.009, 'tree']\n",
      "['cat', 'orange', 'banana', 10, 'leaf', 77.009, 'tree', 99]\n",
      "['cat', 'orange', 'banana', 10, 'leaf', 77.009, 'tree', '11']\n",
      "['cat', 'banana', 10, 'leaf', 77.009, 'tree', '11']\n",
      "['cat', 'banana', 10, 'leaf', 77.009, 'tree']\n",
      "\n",
      "slice list:\n",
      "1st 3 elements: ['cat', 'banana', 10]\n",
      "last 3 elements: ['leaf', 77.009, 'tree']\n",
      "start at 2nd to index 5: ['banana', 10, 'leaf', 77.009]\n",
      "start 3 from end to end of list: ['leaf', 77.009, 'tree']\n",
      "start from 2nd to next to end of list: ['banana', 10, 'leaf', 77.009]\n",
      "\n",
      "create new list from another list:\n",
      "list: ['cat', 'banana', 10, 'leaf', 77.009, 'tree']\n",
      "appended: ['orange', ['apple', 'kiwi', 'pear']]\n",
      "extended: ['orange', 'apple', 'kiwi', 'pear']\n",
      "slices: kiwi apple\n",
      "\n",
      "create matrix from two lists:\n",
      "[list(['cat', 'banana', 10, 'leaf', 77.009, 'tree'])\n",
      " list(['orange', 'apple', 'kiwi', 'pear'])]\n",
      "1st row: ['cat', 'banana', 10, 'leaf', 77.009, 'tree']\n",
      "2nd row: ['orange', 'apple', 'kiwi', 'pear']\n"
     ]
    },
    {
     "name": "stderr",
     "output_type": "stream",
     "text": [
      "C:\\Users\\Caíque Miranda\\AppData\\Local\\Temp\\ipykernel_1460\\2280689870.py:49: VisibleDeprecationWarning: Creating an ndarray from ragged nested sequences (which is a list-or-tuple of lists-or-tuples-or ndarrays with different lengths or shapes) is deprecated. If you meant to do this, you must specify 'dtype=object' when creating the ndarray.\n",
      "  matrix = np.array([ls, fruit])\n"
     ]
    }
   ],
   "source": [
    "import numpy as np\n",
    "\n",
    "if __name__ == \"__main__\":\n",
    "\n",
    "    ls = ['orange', 'banana', 10, 'leaf', 77.009, 'tree', 'cat']\n",
    "    print ('list length:', len(ls), 'items')\n",
    "    print ('cat count:', ls.count('cat'), ',', 'cat index:',\n",
    "\n",
    "    ls.index('cat'))\n",
    "    print ('\\nmanipulate list:')\n",
    "\n",
    "    cat = ls.pop(6)\n",
    "    print ('cat:', cat, ', list:', ls)\n",
    "\n",
    "    ls.insert(0, 'cat')\n",
    "    ls.append(99)\n",
    "    print (ls)\n",
    "\n",
    "    ls[7] = '11'\n",
    "    print (ls)\n",
    "\n",
    "    ls.pop(1)\n",
    "    print (ls)\n",
    "\n",
    "    ls.pop()\n",
    "\n",
    "    print (ls)\n",
    "    print ('\\nslice list:')\n",
    "    print ('1st 3 elements:', ls[:3])\n",
    "    print ('last 3 elements:', ls[3:])\n",
    "    print ('start at 2nd to index 5:', ls[1:5])\n",
    "    print ('start 3 from end to end of list:', ls[-3:])\n",
    "    print ('start from 2nd to next to end of list:', ls[1:-1])\n",
    "    print ('\\ncreate new list from another list:')\n",
    "    print ('list:', ls)\n",
    "    fruit = ['orange']\n",
    "    more_fruit = ['apple', 'kiwi', 'pear']\n",
    "    fruit.append(more_fruit)\n",
    "    print ('appended:', fruit)\n",
    "\n",
    "    fruit.pop(1)\n",
    "    fruit.extend(more_fruit)\n",
    "    print ('extended:', fruit)\n",
    "\n",
    "    a, b = fruit[2], fruit[1]\n",
    "    print ('slices:', a, b)\n",
    "    print ('\\ncreate matrix from two lists:')\n",
    "\n",
    "    matrix = np.array([ls, fruit])\n",
    "    print (matrix)\n",
    "    print ('1st row:', matrix[0])\n",
    "    print ('2nd row:', matrix[1])"
   ]
  },
  {
   "attachments": {},
   "cell_type": "markdown",
   "metadata": {},
   "source": [
    "O exemplo de código começa importando o NumPy, que é o pacote fundamental (biblioteca, módulo) para a computação científica. É útil para álgebra linear, que é fundamental para ciência de dados. Pense nas bibliotecas Python como classes gigantes com muitos métodos. O bloco principal começa criando a lista ls, imprimindo seu comprimento, número de elementos (itens), número de elementos cat e índice do elemento cat. O código continua manipulando ls. Primeiro, o 7º elemento (índice 6) é exibido e atribuído à variável cat. Lembre-se, os índices de lista começam em 0. A função pop() remove cat de ls. Em segundo lugar, cat é adicionado de volta a ls na 1ª posição (índice 0) e 99 é anexado ao final da lista. A função append() adiciona um objeto ao final de uma lista. Em terceiro lugar, a string '11' é substituída pelo 8º elemento (índice 7). Finalmente, o segundo elemento e o último elemento são extraídos de ls. O código continua dividindo ls. Primeiro, imprima os primeiros três elementos com ls[:3]."
   ]
  },
  {
   "attachments": {},
   "cell_type": "markdown",
   "metadata": {},
   "source": [
    "Em segundo lugar, imprima os últimos três elementos com ls[3:]. Em terceiro lugar, imprima começando com o segundo elemento para elementos com índices de até 5 com ls[1:5]. Quarto, imprima três elementos começando de ponta a ponta com ls[-3:]. Quinto, imprima começando do 2º elemento até próximo ao último elemento com ls[1:-1]. "
   ]
  },
  {
   "attachments": {},
   "cell_type": "markdown",
   "metadata": {},
   "source": [
    "O código continua criando uma nova lista a partir de outra. Primeiro, crie frutas com um elemento. Em segundo lugar, acrescente a lista more_fruit a fruit. Observe que append adiciona a lista more_fruit como o segundo elemento de fruit, que pode não ser o que você deseja. Então, em terceiro lugar, coloque o segundo elemento de fruta e estenda more_fruit para fruta. A função extend() desvenda uma lista antes de adicioná-la. Desta forma, a fruta passa a ter quatro elementos. Quarto, atribua o 3º elemento a a e o 2º elemento a b e imprima as fatias. O Python permite a atribuição de várias variáveis em uma linha, o que é muito conveniente e conciso. O código termina criando uma matriz de duas listas — ls e fruit — e imprimindo-a. Uma matriz Python é uma matriz bidimensional (2-D) que consiste em linhas e colunas, onde cada linha é uma lista."
   ]
  },
  {
   "attachments": {},
   "cell_type": "markdown",
   "metadata": {},
   "source": [
    "Uma tupla é uma sequência de objetos Python imutáveis entre parênteses. Ao contrário das listas, as tuplas não podem ser alteradas. As tuplas são convenientes com funções que retornam vários valores."
   ]
  },
  {
   "attachments": {},
   "cell_type": "markdown",
   "metadata": {},
   "source": [
    "O exemplo de código a seguir cria uma tupla, divide-a, cria uma lista e cria uma matriz de tupla e lista:"
   ]
  },
  {
   "cell_type": "code",
   "execution_count": 4,
   "metadata": {},
   "outputs": [
    {
     "name": "stdout",
     "output_type": "stream",
     "text": [
      "tuple length: 5\n",
      "grape count: 2\n",
      "\n",
      "slice tuple:\n",
      "1st 3 elements: ('orange', 'banana', 'grape')\n",
      "last 3 elements ('apple', 'grape')\n",
      "start at 2nd to index 5 ('banana', 'grape', 'apple', 'grape')\n",
      "start 3 from end to end of tuple: ('grape', 'apple', 'grape')\n",
      "start from 2nd to next to end of tuple: ('banana', 'grape', 'apple')\n",
      "\n",
      "create list and create matrix from it and tuple:\n",
      "[['orange' 'banana' 'grape' 'apple' 'grape']\n",
      " ['pear' 'grapefruit' 'cantaloupe' 'kiwi' 'plum']]\n"
     ]
    }
   ],
   "source": [
    "import numpy as np\n",
    "\n",
    "if __name__ == \"__main__\":\n",
    "    tup = ('orange', 'banana', 'grape', 'apple', 'grape')\n",
    "    print ('tuple length:', len(tup))\n",
    "    print ('grape count:', tup.count('grape'))\n",
    "    \n",
    "    print ('\\nslice tuple:')\n",
    "    print ('1st 3 elements:', tup[:3])\n",
    "    print ('last 3 elements', tup[3:])\n",
    "    print ('start at 2nd to index 5', tup[1:5])\n",
    "    print ('start 3 from end to end of tuple:', tup[-3:])\n",
    "    print ('start from 2nd to next to end of tuple:', tup[1:-1])\n",
    "    print ('\\ncreate list and create matrix from it and tuple:')\n",
    "\n",
    "    fruit = ['pear', 'grapefruit', \n",
    "             'cantaloupe', 'kiwi', 'plum']\n",
    "    matrix = np.array([tup, fruit])\n",
    "    print (matrix)"
   ]
  },
  {
   "attachments": {},
   "cell_type": "markdown",
   "metadata": {},
   "source": [
    "O código começa importando o NumPy. O bloco principal começa criando tupla tup, imprimindo seu comprimento, número de elementos (itens), número de elementos de uva e índice de uva. O código continua dividindo tup. Primeiro, imprima os primeiros três elementos com tup[:3]. Em segundo lugar, imprima os últimos três elementos com tup[3:]. Em terceiro lugar, imprima começando com o segundo elemento para elementos com índices de até 5 com tup[1:5]. Quarto, imprima três elementos iniciando de ponta a ponta com tup[-3:]. Quinto, imprima começando do 2º elemento até próximo ao último elemento com tup[1:-1]. O código continua criando uma nova lista de frutas e criando uma matriz de tup e fruta."
   ]
  },
  {
   "attachments": {},
   "cell_type": "markdown",
   "metadata": {},
   "source": [
    "Um dicionário é uma coleção não ordenada de itens identificados por um par chave/valor. É uma estrutura de dados extremamente importante para trabalhar com dados. O exemplo a seguir é muito simples, mas a próxima seção apresenta um exemplo mais complexo baseado em um conjunto de dados."
   ]
  },
  {
   "attachments": {},
   "cell_type": "markdown",
   "metadata": {},
   "source": [
    "O exemplo de código a seguir cria um dicionário, exclui um elemento, adiciona um elemento, cria uma lista de elementos do dicionário e percorre a lista:"
   ]
  },
  {
   "cell_type": "code",
   "execution_count": 5,
   "metadata": {},
   "outputs": [
    {
     "name": "stdout",
     "output_type": "stream",
     "text": [
      "dict \"deleted\" element;\n",
      "{'amp': 'Linn', 'preamp': 'Luxman', 'speakers': 'Energy', 'ic': 'Crystal Ultra', 'pc': 'JPS', 'power': 'Equi-Tech', 'sp': 'Crystal Ultra', 'cdp': 'Nagra'} \n",
      "\n",
      "dict \"added\" element;\n",
      "{'amp': 'Linn', 'preamp': 'Luxman', 'speakers': 'Energy', 'ic': 'Crystal Ultra', 'pc': 'JPS', 'power': 'Equi-Tech', 'sp': 'Crystal Ultra', 'cdp': 'Nagra', 'up': 'Oppo'} \n",
      "\n",
      "universal player: Oppo \n",
      "\n",
      "list of dict elements;\n",
      "row 0 :\n",
      "{'amp': 'Linn', 'preamp': 'Luxman', 'speakers': 'Energy', 'ic': 'Crystal Ultra', 'pc': 'JPS', 'power': 'Equi-Tech', 'sp': 'Crystal Ultra', 'cdp': 'Nagra', 'up': 'Oppo'}\n",
      "row 1 :\n",
      "{'tv': 'LG 65C7 OLED', 'stp': 'DISH', 'HDMI': 'DH Labs', 'cable': 'coax'}\n"
     ]
    }
   ],
   "source": [
    "if __name__ == \"__main__\":\n",
    "    audio = {'amp':'Linn', 'preamp':'Luxman', \n",
    "             'speakers':'Energy',\n",
    "             'ic':'Crystal Ultra',\n",
    "             'pc':'JPS', \n",
    "             'power':'Equi-Tech',\n",
    "             'sp':'Crystal Ultra',\n",
    "             'cdp':'Nagra', 'up':'Esoteric'}\n",
    "\n",
    "    del audio['up']\n",
    "    print ('dict \"deleted\" element;')\n",
    "    print (audio, '\\n')\n",
    "    print ('dict \"added\" element;')\n",
    "    audio['up'] = 'Oppo'\n",
    "    print (audio, '\\n')\n",
    "    print ('universal player:', audio['up'], '\\n')\n",
    "    dict_ls = [audio]\n",
    "    \n",
    "    video = {'tv':'LG 65C7 OLED', 'stp':'DISH',\n",
    "             'HDMI':'DH Labs',\n",
    "             'cable' : 'coax'}\n",
    "    print ('list of dict elements;')\n",
    "    dict_ls.append(video)\n",
    "    \n",
    "    for i, row in enumerate(dict_ls):\n",
    "        print ('row', i, ':')\n",
    "        print (row)"
   ]
  },
  {
   "attachments": {},
   "cell_type": "markdown",
   "metadata": {},
   "source": [
    "O bloco principal começa criando um dicionário de áudio com vários elementos. Ele continua excluindo um elemento com chave para cima e valor Esotérico e exibindo. Em seguida, um novo elemento com chave para cima e elemento Oppo é adicionado de volta e exibido. A próxima parte cria uma lista com o áudio do dicionário, cria o vídeo do dicionário e adiciona o novo dicionário à lista. A parte final usa um loop for para percorrer a lista de dicionários e exibir os dois dicionários. Uma função muito útil que pode ser usada com uma instrução de loop é enumerate(). Ele adiciona um contador a um iterável. Um iterável é um objeto que pode ser iterado. A função enumerate() é muito útil porque um contador é criado e incrementado automaticamente, o que significa menos código."
   ]
  },
  {
   "attachments": {},
   "cell_type": "markdown",
   "metadata": {},
   "source": [
    "### Reading and Writing Data"
   ]
  },
  {
   "attachments": {},
   "cell_type": "markdown",
   "metadata": {},
   "source": [
    "A capacidade de ler e gravar dados é fundamental para qualquer empreendimento de ciência de dados. Todos os arquivos de dados estão disponíveis no site. Os tipos mais básicos de dados são texto e CSV (valores separados por vírgula). Então, é por aqui que vamos começar."
   ]
  },
  {
   "attachments": {},
   "cell_type": "markdown",
   "metadata": {},
   "source": [
    "O exemplo de código a seguir lê um arquivo de texto e o limpa para em processamento. Em seguida, ele lê o arquivo de texto pré-limpo, salva-o como um arquivo CSV, lê o arquivo CSV, converte-o em uma lista de elementos OrderedDict e converte essa lista em uma lista de elementos de dicionário regulares."
   ]
  },
  {
   "cell_type": "code",
   "execution_count": 6,
   "metadata": {},
   "outputs": [
    {
     "name": "stdout",
     "output_type": "stream",
     "text": [
      "text file data sample:\n",
      "Adam Baum\n",
      "Adam Zapel\n",
      "Al Bino\n",
      "\n",
      "text to csv sample:\n",
      "['Adam', 'Baum']\n",
      "['Adam', 'Zapel']\n",
      "['Al', 'Bino']\n",
      "\n",
      "csv to ordered dict sample:\n",
      "{'first': 'Adam', 'last': 'Baum'}\n",
      "{'first': 'Adam', 'last': 'Zapel'}\n",
      "{'first': 'Al', 'last': 'Bino'}\n",
      "\n",
      "list of dictionary elements sample:\n",
      "{'first': 'Adam', 'last': 'Baum'}\n",
      "{'first': 'Adam', 'last': 'Zapel'}\n",
      "{'first': 'Al', 'last': 'Bino'}\n"
     ]
    }
   ],
   "source": [
    "import csv\n",
    "\n",
    "def read_txt(f):\n",
    "    with open(f, 'r') as f:\n",
    "        d = f.readlines()\n",
    "        return [x.strip() for x in d]\n",
    "\n",
    "def conv_csv(t, c):\n",
    "    data = read_txt(t)\n",
    "\n",
    "    with open(c, 'w', newline='') as csv_file:\n",
    "        writer = csv.writer(csv_file)\n",
    "\n",
    "        for line in data:\n",
    "            ls = line.split()\n",
    "            writer.writerow(ls)\n",
    "\n",
    "def read_csv(f):\n",
    "    contents = ''\n",
    "\n",
    "    with open(f, 'r') as f:\n",
    "        reader = csv.reader(f)\n",
    "        return list(reader)\n",
    "\n",
    "def read_dict(f, h):\n",
    "    input_file = csv.DictReader(open(f), fieldnames=h)\n",
    "    return input_file\n",
    "\n",
    "def od_to_d(od):\n",
    "    return dict(od)\n",
    "\n",
    "if __name__ == \"__main__\":\n",
    "    \n",
    "    f = 'data/names.txt'\n",
    "    data = read_txt(f)\n",
    "    print ('text file data sample:')\n",
    "    \n",
    "    for i, row in enumerate(data):\n",
    "        if i < 3:\n",
    "            print (row)\n",
    "    \n",
    "    csv_f = 'data/names.csv'\n",
    "    conv_csv(f, csv_f)\n",
    "    \n",
    "    r_csv = read_csv(csv_f)\n",
    "    print ('\\ntext to csv sample:')\n",
    "    \n",
    "    for i, row in enumerate(r_csv):\n",
    "        if i < 3:\n",
    "            print (row)\n",
    "    \n",
    "    headers = ['first', 'last']\n",
    "    r_dict = read_dict(csv_f, headers)\n",
    "    dict_ls = []\n",
    "    print ('\\ncsv to ordered dict sample:')\n",
    "    \n",
    "    for i, row in enumerate(r_dict):\n",
    "        \n",
    "        r = od_to_d(row)\n",
    "        dict_ls.append(r)\n",
    "        \n",
    "        if i < 3:\n",
    "            print (row)\n",
    "\n",
    "    print ('\\nlist of dictionary elements sample:')\n",
    "    \n",
    "    for i, row in enumerate(dict_ls):\n",
    "        if i < 3:\n",
    "            print (row)"
   ]
  },
  {
   "attachments": {},
   "cell_type": "markdown",
   "metadata": {},
   "source": [
    "O código começa importando a biblioteca csv, que implementa classes para ler e gravar dados tabulares no formato CSV. Continua com cinco funções. A função read_txt() lê um arquivo de texto (.txt) e retira (remove) caracteres estranhos com compreensão de lista, que é uma maneira elegante para definir e criar uma lista em Python. A compreensão da lista é abordada posteriormente na próxima seção. A função conv_csv() converte um texto em um arquivo CSV e o salva em disco. A função read_csv() lê um arquivo CSV e o retorna como uma lista. A função read_dict() lê um arquivo CSV e retorna uma lista de elementos OrderedDict. Um OrderedDict é uma subclasse de dicionário que lembra a ordem em que seu conteúdo é adicionado, enquanto um dicionário regular não rastreia a ordem de inserção. Finalmente, a função od_to_d() converte um elemento OrderedDict em um elemento de dicionário regular. Trabalhar com um elemento de dicionário regular é muito mais intuitivo na minha opinião. O bloco principal começa lendo um arquivo de texto e limpando-o para processamento. No entanto, nenhum processamento é feito com esse arquivo limpo no código. Ele é incluído apenas caso você queira saber como realizar essa tarefa. O código continua convertendo um arquivo de texto em CSV, que é salvo no disco. O arquivo CSV é então lido do disco e alguns registros são exibidos. Em seguida, uma lista de cabeçalhos é criada para armazenar chaves para um dicionário ainda a ser criado. A lista dict_ls é criada para conter elementos do dicionário. O código continua criando uma lista OrderedDict r_dict. A lista OrderedDict é então iterada para que cada elemento"
   ]
  },
  {
   "attachments": {},
   "cell_type": "markdown",
   "metadata": {},
   "source": [
    "um elemento de dicionário regular e anexado a dict_ls. Alguns registros são exibidos durante a iteração. Por fim, dict_ls é iterado e alguns registros são exibidos. Eu recomendo que você dedique algum tempo para se familiarizar com essas estruturas de dados, pois elas são usadas extensivamente em aplicativos de ciência de dados."
   ]
  },
  {
   "attachments": {},
   "cell_type": "markdown",
   "metadata": {},
   "source": [
    "### List Comprehension"
   ]
  },
  {
   "attachments": {},
   "cell_type": "markdown",
   "metadata": {},
   "source": [
    "A compreensão de lista fornece uma maneira concisa de criar listas. Sua lógica é colocada entre colchetes que contêm uma expressão seguida por uma cláusula for e pode ser aumentada por mais cláusulas for ou if."
   ]
  },
  {
   "attachments": {},
   "cell_type": "markdown",
   "metadata": {},
   "source": [
    "A função read_txt() na seção anterior incluiu a seguinte compreensão de lista:"
   ]
  },
  {
   "attachments": {},
   "cell_type": "markdown",
   "metadata": {},
   "source": [
    "A lógica retira caracteres estranhos da string em d iterável. Nisso caso, d é uma lista de strings."
   ]
  },
  {
   "attachments": {},
   "cell_type": "markdown",
   "metadata": {},
   "source": [
    "O exemplo de código a seguir converte milhas em quilômetros, manipula animais de estimação e calcula bônus com compreensão de lista:"
   ]
  },
  {
   "cell_type": "code",
   "execution_count": 7,
   "metadata": {},
   "outputs": [
    {
     "ename": "NameError",
     "evalue": "name 'd' is not defined",
     "output_type": "error",
     "traceback": [
      "\u001b[1;31m---------------------------------------------------------------------------\u001b[0m",
      "\u001b[1;31mNameError\u001b[0m                                 Traceback (most recent call last)",
      "\u001b[1;32md:\\GIT-repository\\github-data-science-python-mongodb\\data-science-python-mongodb\\01-Introdução.ipynb Cell 42\u001b[0m in \u001b[0;36m<cell line: 1>\u001b[1;34m()\u001b[0m\n\u001b[1;32m----> <a href='vscode-notebook-cell:/d%3A/GIT-repository/github-data-science-python-mongodb/data-science-python-mongodb/01-Introdu%C3%A7%C3%A3o.ipynb#X31sZmlsZQ%3D%3D?line=0'>1</a>\u001b[0m [x\u001b[39m.\u001b[39mstrip() \u001b[39mfor\u001b[39;00m x \u001b[39min\u001b[39;00m d]\n",
      "\u001b[1;31mNameError\u001b[0m: name 'd' is not defined"
     ]
    }
   ],
   "source": [
    "[x.strip() for x in d]"
   ]
  },
  {
   "cell_type": "code",
   "execution_count": 8,
   "metadata": {},
   "outputs": [
    {
     "name": "stdout",
     "output_type": "stream",
     "text": [
      "miles to kilometers:\n",
      " 100 miles is  160.93 km\n",
      "  10 miles is   16.09 km\n",
      " 9.5 miles is   15.29 km\n",
      "1000 miles is 1609.34 km\n",
      "  30 miles is   48.28 km\n",
      "\n",
      "pet:\n",
      "['cat', 'dog', 'rabbit', 'parrot', 'guinea pig', 'fish']\n",
      "\n",
      "pets:\n",
      "['cats', 'dogs', 'rabbits', 'parrots', 'guinea pigs', 'fish']\n",
      "\n",
      "most common pets:\n",
      "dogs and cats\n",
      "\n",
      "bonuses:\n",
      "[0, 400.0, 1500.0, 3000.0]\n",
      "\n",
      "bonus dict:\n",
      "{'dave': 0, 'sue': 400.0, 'al': 1500.0, 'sukki': 3000.0} \n",
      "\n",
      "emp   bonus\n",
      "dave       0\n",
      "sue    400.0\n",
      "al    1500.0\n",
      "sukki 3000.0\n"
     ]
    }
   ],
   "source": [
    "if __name__ == \"__main__\":\n",
    "\n",
    "    miles = [100, 10, 9.5, 1000, 30]\n",
    "    kilometers = [x * 1.60934 for x in miles]\n",
    "    print ('miles to kilometers:')\n",
    "    for i, row in enumerate(kilometers):\n",
    "        print ('{:>4} {:>8}{:>8} {:>2}'.format(miles[i],\n",
    "                                               'miles is',\n",
    "                                               round(row, 2),\n",
    "                                               'km'))\n",
    "    print ('\\npet:')\n",
    "    \n",
    "    pet = ['cat', 'dog',\n",
    "           'rabbit', 'parrot', \n",
    "           'guinea pig', 'fish']\n",
    "    print (pet)\n",
    "    print ('\\npets:')\n",
    "    pets = [x + 's' if x != 'fish' else x for x in pet]\n",
    "    print (pets)\n",
    "    subset = [x for x in pets if x != 'fish' \n",
    "              and x != 'rabbits' \n",
    "              and x != 'parrots' \n",
    "              and x != 'guinea pigs']\n",
    "    \n",
    "    print ('\\nmost common pets:')\n",
    "    print (subset[1], 'and', subset[0])\n",
    "    sales = [9000, 20000, 50000, 100000]\n",
    "    print ('\\nbonuses:')\n",
    "    \n",
    "    bonus = [0 if x < 10000 else x * .02 if x >= 10000 \n",
    "             and x <= 20000 else x * .03 for x in sales]\n",
    "    print (bonus)\n",
    "    print ('\\nbonus dict:')\n",
    "    people = ['dave', 'sue', 'al', 'sukki']\n",
    "    d = {}\n",
    "    \n",
    "    for i, row in enumerate(people):\n",
    "        d[row] = bonus[i]\n",
    "    \n",
    "    print (d, '\\n')\n",
    "    print ('{:<5} {:<5}'.format('emp', 'bonus'))\n",
    "    \n",
    "    for k, y in d.items():\n",
    "        print ('{:<5} {:>6}'.format(k, y))"
   ]
  },
  {
   "attachments": {},
   "cell_type": "markdown",
   "metadata": {},
   "source": [
    "O bloco principal começa criando duas listas — milhas e quilômetros. O a lista de quilômetros é criada com compreensão de lista, que multiplica o valor de cada milha por 1,60934. A princípio, a compreensão da lista pode parecer confusa, mas a prática facilita com o tempo. O bloco principal continua imprimindo milhas e quilômetros associados. A função format() fornece opções de formatação sofisticadas. Cada valor de milha é ({:>4}) com até quatro caracteres justificados à direita. Cada string para milhas e quilômetros é justificada à direita com até oito caracteres. Finalmente, cada string para km é justificada à direita ({:>2}) com até dois caracteres. Isso pode parecer um pouco complicado no começo, mas é realmente bastante lógico (e elegante) depois que você se acostuma. O bloco principal continua criando listas de animais de estimação e animais de estimação. A lista de animais de estimação é criada com compreensão de lista, o que torna um animal de estimação plural se não for um peixe. Aconselho você a estudar a compreensão dessa lista antes de prosseguir, porque ela só fica mais complexa. O código continua criando uma lista de subconjunto com compreensão de lista, que inclui apenas cães e gatos. A próxima parte cria duas listas — vendas e bônus. O bônus é criado com compreensão de lista que calcula o bônus para cada valor de venda. Se as vendas forem inferiores a 10.000, nenhum bônus é pago. Se as vendas estiverem entre 10.000 e 20.000 (inclusive), o bônus é de 2% das vendas. Finalmente, se as vendas forem superiores a 20.000, o bônus é de 3% das vendas. A princípio, fiquei confuso com a compreensão dessa lista, mas agora faz sentido para mim. Então, tente alguns de sua preferência e você entenderá a essência disso. A parte final cria uma lista de pessoas para associar a cada valor de venda, continua criando um dicionário para manter bônus para cada pessoa e termina iterando os elementos do dicionário A formatação é bastante O cabeçalho à esquerda justifica emp e bônus corretamente. Cada item é formatado de forma que a pessoa seja justificada à esquerda com até cinco caracteres ({:<5}) e o bônus seja justificado à direita com até seis caracteres ({:>6})."
   ]
  },
  {
   "attachments": {},
   "cell_type": "markdown",
   "metadata": {},
   "source": [
    "### Generators"
   ]
  },
  {
   "attachments": {},
   "cell_type": "markdown",
   "metadata": {},
   "source": [
    "Um gerador é um tipo especial de iterador, mas muito mais rápido porque os valores são produzidos somente quando necessário. Esse processo é conhecido como avaliação preguiçosa (ou adiada). Os iteradores típicos são muito mais lentos porque são totalmente integrados à memória. Enquanto as funções regulares retornam valores, os geradores os fornecem. A melhor maneira de percorrer e acessar valores de um gerador é usar um loop. Por fim, uma compreensão de lista pode ser convertida em um gerador substituindo os colchetes por parênteses."
   ]
  },
  {
   "attachments": {},
   "cell_type": "markdown",
   "metadata": {},
   "source": [
    "O exemplo de código a seguir lê um arquivo CSV e cria uma lista de elementos OrderedDict. Em seguida, ele converte os elementos da lista em elementos de dicionário regulares. O código continua simulando tempos para compreensão de lista, compreensão de gerador e geradores. Durante a simulação, uma lista de tempos para cada um é criada. A simulação é a imitação de um processo ou sistema do mundo real ao longo do tempo e é amplamente usada na ciência de dados."
   ]
  },
  {
   "cell_type": "code",
   "execution_count": 9,
   "metadata": {},
   "outputs": [
    {
     "ename": "AttributeError",
     "evalue": "module 'time' has no attribute 'clock'",
     "output_type": "error",
     "traceback": [
      "\u001b[1;31m---------------------------------------------------------------------------\u001b[0m",
      "\u001b[1;31mAttributeError\u001b[0m                            Traceback (most recent call last)",
      "\u001b[1;32md:\\GIT-repository\\github-data-science-python-mongodb\\data-science-python-mongodb\\01-Introdução.ipynb Cell 48\u001b[0m in \u001b[0;36m<cell line: 51>\u001b[1;34m()\u001b[0m\n\u001b[0;32m     <a href='vscode-notebook-cell:/d%3A/GIT-repository/github-data-science-python-mongodb/data-science-python-mongodb/01-Introdu%C3%A7%C3%A3o.ipynb#X34sZmlsZQ%3D%3D?line=54'>55</a>\u001b[0m dict_ls \u001b[39m=\u001b[39m conv_reg_dict(r_dict)\n\u001b[0;32m     <a href='vscode-notebook-cell:/d%3A/GIT-repository/github-data-science-python-mongodb/data-science-python-mongodb/01-Introdu%C3%A7%C3%A3o.ipynb#X34sZmlsZQ%3D%3D?line=55'>56</a>\u001b[0m n \u001b[39m=\u001b[39m \u001b[39m1000\u001b[39m\n\u001b[1;32m---> <a href='vscode-notebook-cell:/d%3A/GIT-repository/github-data-science-python-mongodb/data-science-python-mongodb/01-Introdu%C3%A7%C3%A3o.ipynb#X34sZmlsZQ%3D%3D?line=56'>57</a>\u001b[0m ls_times, gc_times \u001b[39m=\u001b[39m sim_times(dict_ls, n)\n\u001b[0;32m     <a href='vscode-notebook-cell:/d%3A/GIT-repository/github-data-science-python-mongodb/data-science-python-mongodb/01-Introdu%C3%A7%C3%A3o.ipynb#X34sZmlsZQ%3D%3D?line=57'>58</a>\u001b[0m g_times \u001b[39m=\u001b[39m sim_gen(dict_ls, n)\n\u001b[0;32m     <a href='vscode-notebook-cell:/d%3A/GIT-repository/github-data-science-python-mongodb/data-science-python-mongodb/01-Introdu%C3%A7%C3%A3o.ipynb#X34sZmlsZQ%3D%3D?line=58'>59</a>\u001b[0m avg_ls \u001b[39m=\u001b[39m np\u001b[39m.\u001b[39mmean(ls_times)\n",
      "\u001b[1;32md:\\GIT-repository\\github-data-science-python-mongodb\\data-science-python-mongodb\\01-Introdução.ipynb Cell 48\u001b[0m in \u001b[0;36msim_times\u001b[1;34m(d, n)\u001b[0m\n\u001b[0;32m     <a href='vscode-notebook-cell:/d%3A/GIT-repository/github-data-science-python-mongodb/data-science-python-mongodb/01-Introdu%C3%A7%C3%A3o.ipynb#X34sZmlsZQ%3D%3D?line=11'>12</a>\u001b[0m lsd, lsgc \u001b[39m=\u001b[39m [], []\n\u001b[0;32m     <a href='vscode-notebook-cell:/d%3A/GIT-repository/github-data-science-python-mongodb/data-science-python-mongodb/01-Introdu%C3%A7%C3%A3o.ipynb#X34sZmlsZQ%3D%3D?line=12'>13</a>\u001b[0m \u001b[39mwhile\u001b[39;00m i \u001b[39m<\u001b[39m n:\n\u001b[1;32m---> <a href='vscode-notebook-cell:/d%3A/GIT-repository/github-data-science-python-mongodb/data-science-python-mongodb/01-Introdu%C3%A7%C3%A3o.ipynb#X34sZmlsZQ%3D%3D?line=13'>14</a>\u001b[0m     start \u001b[39m=\u001b[39m time\u001b[39m.\u001b[39;49mclock()\n\u001b[0;32m     <a href='vscode-notebook-cell:/d%3A/GIT-repository/github-data-science-python-mongodb/data-science-python-mongodb/01-Introdu%C3%A7%C3%A3o.ipynb#X34sZmlsZQ%3D%3D?line=15'>16</a>\u001b[0m     [x \u001b[39mfor\u001b[39;00m x \u001b[39min\u001b[39;00m d]\n\u001b[0;32m     <a href='vscode-notebook-cell:/d%3A/GIT-repository/github-data-science-python-mongodb/data-science-python-mongodb/01-Introdu%C3%A7%C3%A3o.ipynb#X34sZmlsZQ%3D%3D?line=16'>17</a>\u001b[0m     time_d \u001b[39m=\u001b[39m time\u001b[39m.\u001b[39mclock() \u001b[39m-\u001b[39m start\n",
      "\u001b[1;31mAttributeError\u001b[0m: module 'time' has no attribute 'clock'"
     ]
    }
   ],
   "source": [
    "import csv, time, numpy as np\n",
    "\n",
    "def read_dict(f, h):\n",
    "    input_file = csv.DictReader(open(f), fieldnames=h)\n",
    "    return (input_file)\n",
    "\n",
    "def conv_reg_dict(d):\n",
    "    return [dict(x) for x in d]\n",
    "\n",
    "def sim_times(d, n):\n",
    "    i = 0\n",
    "    lsd, lsgc = [], []\n",
    "    while i < n:\n",
    "        start = time.clock()\n",
    "\n",
    "        [x for x in d]\n",
    "        time_d = time.clock() - start\n",
    "        lsd.append(time_d)\n",
    "        start = time.clock()\n",
    "\n",
    "        (x for x in d)\n",
    "        time_gc = time.clock() - start\n",
    "        lsgc.append(time_gc)\n",
    "        i += 1\n",
    "\n",
    "    return (lsd, lsgc)\n",
    "\n",
    "def gen(d):\n",
    "    yield (x for x in d)\n",
    "\n",
    "def sim_gen(d, n):\n",
    "    i = 0\n",
    "    lsg = []\n",
    "    generator = gen(d)\n",
    "    \n",
    "    while i < n:\n",
    "        start = time.clock()\n",
    "        for row in generator:\n",
    "            None\n",
    "    \n",
    "        time_g = time.clock() - start\n",
    "        lsg.append(time_g)\n",
    "        i += 1\n",
    "        generator = gen(d)\n",
    "    \n",
    "    return lsg\n",
    "\n",
    "def avg_ls(ls):\n",
    "    return np.mean(ls)\n",
    "\n",
    "if __name__ == '__main__':\n",
    "    f = 'data/names.csv'\n",
    "    headers = ['first', 'last']\n",
    "    r_dict = read_dict(f, headers)\n",
    "    dict_ls = conv_reg_dict(r_dict)\n",
    "    n = 1000\n",
    "    ls_times, gc_times = sim_times(dict_ls, n)\n",
    "    g_times = sim_gen(dict_ls, n)\n",
    "    avg_ls = np.mean(ls_times)\n",
    "    avg_gc = np.mean(gc_times)\n",
    "    avg_g = np.mean(g_times)\n",
    "    gc_ls = round((avg_ls / avg_gc), 2)\n",
    "    g_ls = round((avg_ls / avg_g), 2)\n",
    "    print ('generator comprehension:')\n",
    "    print (gc_ls, 'times faster than list comprehension\\n')\n",
    "    print ('generator:')\n",
    "    print (g_ls, 'times faster than list comprehension')"
   ]
  },
  {
   "attachments": {},
   "cell_type": "markdown",
   "metadata": {},
   "source": [
    "O código começa importando as bibliotecas csv, time e numpy. Função read_dict() converte um arquivo CSV (.csv) em uma lista de elementos OrderedDict. print ('gerador de compreensão:') print (gc_ls, 'vezes mais rápido que lista de compreensão\\n') print ('gerador:') print (g_ls, 'vezes mais rápido que lista de compreensão') O código começa importando as bibliotecas csv, time e numpy. Função A função conv_reg_dict() converte uma lista de elementos OrderedDict em uma lista de elementos de dicionário regulares (para facilitar o processamento). A função sim_times() executa uma simulação que cria duas listas — lsd e lsgc. A lista lsd contém n tempos de execução para a compreensão da lista e a lista lsgc contém n tempos de execução para a compreensão do gerador. O uso da simulação fornece uma imagem mais precisa do tempo real necessário para esses dois processos, executando-os repetidamente (n vezes). Neste caso, a simulação é executada 1.000 vezes (n = 1.000). Claro, você pode executar as simulações quantas vezes quiser. As funções gen() e sim_gen() trabalham juntas. A função gen() cria um gerador. A função sim_gen() simula o gerador n vezes. Eu tive que criar essas duas funções porque produzir um gerador requer um processo diferente do que criar uma compreensão do gerador. A função avg_ls() retorna a média (média) de uma lista de números. O bloco principal começa lendo um arquivo CSV (aquele que criamos anteriormente no capítulo) em uma lista de elementos OrderedDict e convertendo-o em uma lista de elementos de dicionário regulares. O código continua simulando tempos de execução de compreensão de lista e compreensão de gerador 1.000 vezes (n = 1.000)."
   ]
  },
  {
   "attachments": {},
   "cell_type": "markdown",
   "metadata": {},
   "source": [
    "A 1ª simulação calcula 1.000 tempos de execução para percorrer a lista de dicionário criada anteriormente para a compreensão da lista e do gerador e retorna uma lista desses tempos de execução para cada um. A segunda simulação calcula 1.000 tempos de execução percorrendo a lista de dicionário para um gerador e retorna uma lista desses tempos de execução. O código conclui calculando o tempo de execução médio para cada uma das três técnicas — compreensão de lista, compreensão de gerador e geradores — e comparando essas médias."
   ]
  },
  {
   "attachments": {},
   "cell_type": "markdown",
   "metadata": {},
   "source": [
    "As simulações verificam que a compreensão do gerador é mais do que dez vezes e os geradores são mais de oito vezes mais rápidos do que a compreensão de lista (os tempos de execução variam de acordo com o seu PC). Isso faz sentido porque a compreensão de lista armazena todos os dados na memória, enquanto os geradores avaliam (preguiçosamente) conforme os dados são necessários. Naturalmente, a vantagem de velocidade dos geradores torna-se mais importante com grandes conjuntos de dados. Sem simulação, os tempos de execução não podem ser verificados porque estamos obtendo tempos de relógio internos do sistema aleatoriamente."
   ]
  },
  {
   "attachments": {},
   "cell_type": "markdown",
   "metadata": {},
   "source": [
    "### Data Randomization"
   ]
  },
  {
   "attachments": {},
   "cell_type": "markdown",
   "metadata": {},
   "source": [
    "Um processo estocástico é uma família de variáveis aleatórias de algum espaço de probabilidade para um espaço de estado (ufa!). Simplesmente, é um processo aleatório ao longo do tempo. A randomização de dados é o processo de selecionar valores de uma amostra de forma imprevisível com o objetivo de simular a realidade. A simulação permite a aplicação de randomização de dados em ciência de dados. A seção anterior demonstrou como a simulação pode ser usada para comparar iteráveis de forma realista (compreensão de lista, compreensão de gerador e geradores)."
   ]
  },
  {
   "attachments": {},
   "cell_type": "markdown",
   "metadata": {},
   "source": [
    "Em Python, números pseudo-aleatórios são usados para simular a aleatoriedade dos dados (realidade). Eles não são verdadeiramente aleatórios porque a 1ª geração não tem número anterior. Temos que fornecer uma semente (ou semente aleatória) para inicializar um gerador de números pseudo-aleatórios. A biblioteca aleatória implementa geradores de números pseudo-aleatórios para várias distribuições de dados, e random.seed() é usado para gerar o número de semente inicial (1ª geração)."
   ]
  },
  {
   "attachments": {},
   "cell_type": "markdown",
   "metadata": {},
   "source": [
    "O exemplo de código a seguir lê um arquivo CSV e o converte em uma lista de elementos de dicionário regulares. O código continua criando um número aleatório usado para recuperar um elemento aleatório da lista. Em seguida, um gerador de três elementos selecionados aleatoriamente é criado e exibido. O código continua exibindo três elementos aleatoriamente embaralhados da lista."
   ]
  },
  {
   "attachments": {},
   "cell_type": "markdown",
   "metadata": {},
   "source": [
    "A próxima seção do código semeia de forma determinística o gerador de números aleatórios, o que significa que todos os números aleatórios gerados serão os mesmos com base na semente. Assim, os elementos exibidos serão sempre os mesmos, a menos que a semente seja alterada. O código então usa o tempo do sistema para gerar números aleatórios de forma não determinística e exibir esses três elementos. Em seguida, números aleatórios não determinísticos são gerados por outro método e esses três elementos são exibidos. A parte final cria uma lista de nomes para que a escolha aleatória e os métodos de amostragem possam ser usados para exibir os elementos."
   ]
  },
  {
   "cell_type": "code",
   "execution_count": 10,
   "metadata": {},
   "outputs": [
    {
     "name": "stdout",
     "output_type": "stream",
     "text": [
      "randomly selected index: 22\n",
      "randomly selected element: {'first': 'Anita', 'last': 'Plummer'}\n",
      "\n",
      "3 randomly generated indicies: [31, 77, 125]\n",
      "3 elements based on indicies:\n",
      "{'first': 'Annette', 'last': 'Curtain'}\n",
      "{'first': 'Eaton', 'last': 'Wright'}\n",
      "{'first': 'Noah', 'last': 'Lott'}\n",
      "\n",
      "1st 3 shuffled elements:\n",
      "{'first': 'Brock', 'last': 'Lee'}\n",
      "{'first': 'Candy', 'last': 'Kane'}\n",
      "{'first': 'Howie', 'last': 'Doohan'}\n",
      "\n",
      "deterministic seed 1: 34\n",
      "corresponding element: {'first': 'April', 'last': 'Schauer'}\n",
      "\n",
      "non-deterministic time seed 1684192671.0623958 index: 114\n",
      "corresponding element: {'first': 'May', 'last': 'Day'} \n",
      "\n",
      "3 random elements seeded with time:\n",
      "{'first': 'Chris', 'last': 'Coe'} 60\n",
      "\n",
      "non-deterministic auto seed: 151\n",
      "corresponding element: {'first': 'Sonny', 'last': 'Day'} \n",
      "\n",
      "3 random elements auto seed:\n",
      "{'first': 'Neil', 'last': 'Down'} 124\n",
      "{'first': 'Sue', 'last': 'Ridge'} 154\n",
      "{'first': 'Holly', 'last': 'Day'} 87\n",
      "\n",
      "3 names with \"random.choice()\":\n",
      "Curtain, Annette\n",
      "Recksiek, Anna\n",
      "Prentice, Anna\n",
      "\n",
      "3 names with \"random.sample()\":\n",
      "['Glass, Crystal', 'Coon, Ty', 'Cade, Barry']\n"
     ]
    }
   ],
   "source": [
    "import csv, random, time\n",
    "\n",
    "def read_dict(f, h):\n",
    "    input_file = csv.DictReader(open(f), fieldnames=h)\n",
    "    return (input_file)\n",
    "\n",
    "def conv_reg_dict(d):\n",
    "    return [dict(x) for x in d]\n",
    "\n",
    "def r_inds(ls, n):\n",
    "    length = len(ls) - 1\n",
    "    yield [random.randrange(length) for _ in range(n)]\n",
    "\n",
    "def get_slice(ls, n):\n",
    "    return ls[:n]\n",
    "\n",
    "def p_line():\n",
    "    print ()\n",
    "\n",
    "if __name__ == '__main__':\n",
    "    f = 'data/names.csv'\n",
    "    headers = ['first', 'last']\n",
    "    r_dict = read_dict(f, headers)\n",
    "    dict_ls = conv_reg_dict(r_dict)\n",
    "    n = len(dict_ls)\n",
    "    r = random.randrange(0, n-1)\n",
    "    print ('randomly selected index:', r)\n",
    "    print ('randomly selected element:', dict_ls[r])\n",
    "    elements = 3\n",
    "    generator = next(r_inds(dict_ls, elements))\n",
    "    p_line()\n",
    "    print (elements, 'randomly generated indicies:', generator)\n",
    "    print (elements, 'elements based on indicies:')\n",
    "    for row in generator:\n",
    "        print (dict_ls[row])\n",
    "    \n",
    "    x = [[i] for i in range(n-1)]\n",
    "    random.shuffle(x)\n",
    "    p_line()\n",
    "    print ('1st', elements, 'shuffled elements:')\n",
    "    ind = get_slice(x, elements)\n",
    "    for row in ind:\n",
    "        print (dict_ls[row[0]])\n",
    "    \n",
    "    seed = 1\n",
    "    random_seed = random.seed(seed)\n",
    "    rs1 = random.randrange(0, n-1)\n",
    "    p_line()\n",
    "    print ('deterministic seed', str(seed) + ':', rs1)\n",
    "    print ('corresponding element:', dict_ls[rs1])\n",
    "    t = time.time()\n",
    "    random_seed = random.seed(t)\n",
    "    rs2 = random.randrange(0, n-1)\n",
    "    p_line()\n",
    "    print ('non-deterministic time seed', str(t) + ' index:', rs2)\n",
    "    print ('corresponding element:', dict_ls[rs2], '\\n')\n",
    "    print (elements, 'random elements seeded with time:')\n",
    "    for i in range(elements):\n",
    "        r = random.randint(0, n-1)\n",
    "    \n",
    "    print (dict_ls[r], r)\n",
    "    random_seed = random.seed()\n",
    "    rs3 = random.randrange(0, n-1)\n",
    "    p_line()\n",
    "    print ('non-deterministic auto seed:', rs3)\n",
    "    print ('corresponding element:', dict_ls[rs3], '\\n')\n",
    "    print (elements, 'random elements auto seed:')\n",
    "    for i in range(elements):\n",
    "        r = random.randint(0, n-1)   \n",
    "        print (dict_ls[r], r)\n",
    "        \n",
    "    names = []\n",
    "    for row in dict_ls:\n",
    "        name = row['last'] + ', ' + row['first']\n",
    "        names.append(name)\n",
    "    \n",
    "    p_line()\n",
    "    print (elements, 'names with \"random.choice()\":')\n",
    "    for row in range(elements):\n",
    "        print (random.choice(names))\n",
    "\n",
    "    p_line()\n",
    "    print (elements, 'names with \"random.sample()\":')\n",
    "    print (random.sample(names, elements))"
   ]
  },
  {
   "attachments": {},
   "cell_type": "markdown",
   "metadata": {},
   "source": [
    "O código começa importando as bibliotecas csv, random e time. As funções read_dict() e conv_reg_dict() já foram explicadas. A função r_inds() gera uma lista aleatória de n elementos da lista do dicionário. Para obter o comprimento adequado, um é subtraído porque o Python as listas começam no índice zero. A função get_slice() cria uma lista aleatória de n elementos da lista do dicionário. A função p_line() imprime uma linha em branco. O bloco principal começa lendo um arquivo CSV e convertendo-o em uma lista de elementos de dicionário regulares. O código continua criando um número aleatório com random.randrange() com base no número de índices da lista de dicionários e exibe o índice e o elemento de dicionário associado. Em seguida, um gerador é criado e preenchido com três elementos determinados aleatoriamente. Os índices e elementos associados são impressos a partir do gerador. A próxima parte do código embaralha aleatoriamente os índices e os coloca na lista x. Um valor de índice é criado fatiando três elementos aleatórios com base nos índices embaralhados armazenados na lista x."
   ]
  },
  {
   "attachments": {},
   "cell_type": "markdown",
   "metadata": {},
   "source": [
    "Os três elementos são exibidos. O código continua criando uma semente aleatória determinística usando um número fixo (semente) na função. Assim, o número aleatório gerado por essa semente será o mesmo toda vez que o programa for executado. Isso significa que o elemento do dicionário exibido também será o mesmo. A seguir, são apresentados dois métodos para a criação de números aleatórios não determinísticos — random.seed(t) e random.seed() — em que t varia de acordo com o tempo do sistema e o uso de nenhum parâmetro varia automaticamente os números aleatórios. Elementos gerados aleatoriamente são exibidos para cada método. A parte final do código cria uma lista de nomes para conter apenas o nome e o sobrenome, então random.choice() e random.sample() podem ser usados."
   ]
  },
  {
   "attachments": {},
   "cell_type": "markdown",
   "metadata": {},
   "source": [
    "### MongoDB and JSON"
   ]
  },
  {
   "attachments": {},
   "cell_type": "markdown",
   "metadata": {},
   "source": [
    "MongoDB é um banco de dados baseado em documentos classificado como NoSQL. NoSQL (não apenas banco de dados SQL) é uma abordagem para o design de banco de dados que pode acomodar uma ampla variedade de modelos de dados, incluindo formatos de valor-chave, documento, colunar e gráfico. Ele usa documentos semelhantes a JSON com esquemas. Integra-se extremamente bem com o Python. Uma coleção do MongoDB é conceitualmente como uma tabela em um banco de dados relacional e um documento é conceitualmente como uma linha. JSON é um formato de intercâmbio de dados leve que é fácil para os humanos lerem e escreverem. Também é fácil para as máquinas analisar e gerar."
   ]
  },
  {
   "attachments": {},
   "cell_type": "markdown",
   "metadata": {},
   "source": [
    "As consultas de banco de dados do MongoDB são tratadas pelo PyMongo. PyMongoName é uma distribuição Python que contém ferramentas para trabalhar com o MongoDB. É a ferramenta mais eficiente para trabalhar com MongoDB usando os utilitários do Python. O PyMongo foi criado para aproveitar as vantagens do Python como linguagem de programação e do MongoDB como banco de dados. A biblioteca pymongo é um driver nativo para o MongoDB, o que significa que está integrada à linguagem Python. Por ser nativa, a biblioteca pymongo está disponível automaticamente (não precisa ser importada para o código)."
   ]
  },
  {
   "attachments": {},
   "cell_type": "markdown",
   "metadata": {},
   "source": [
    "O exemplo de código a seguir lê um arquivo CSV e o converte em uma lista de elementos de dicionário regulares. O código continua criando um arquivo JSON da lista de dicionários e salvando-o no disco. Em seguida, o código se conecta ao MongoDB e insere os dados JSON. A parte final do código manipula dados do banco de dados MongoDB. Primeiro, todos os dados do banco de dados são consultados e alguns registros são exibidos. Em segundo lugar, o banco de dados é rebobinado. Rewind define o ponteiro para voltar ao primeiro registro do banco de dados. Finalmente, várias consultas são realizadas."
   ]
  },
  {
   "cell_type": "code",
   "execution_count": 11,
   "metadata": {},
   "outputs": [
    {
     "ename": "ModuleNotFoundError",
     "evalue": "No module named 'conn'",
     "output_type": "error",
     "traceback": [
      "\u001b[1;31m---------------------------------------------------------------------------\u001b[0m",
      "\u001b[1;31mModuleNotFoundError\u001b[0m                       Traceback (most recent call last)",
      "\u001b[1;32md:\\GIT-repository\\github-data-science-python-mongodb\\data-science-python-mongodb\\01-Introdução.ipynb Cell 64\u001b[0m in \u001b[0;36m<cell line: 3>\u001b[1;34m()\u001b[0m\n\u001b[0;32m      <a href='vscode-notebook-cell:/d%3A/GIT-repository/github-data-science-python-mongodb/data-science-python-mongodb/01-Introdu%C3%A7%C3%A3o.ipynb#X41sZmlsZQ%3D%3D?line=0'>1</a>\u001b[0m \u001b[39mimport\u001b[39;00m \u001b[39mjson\u001b[39;00m\u001b[39m,\u001b[39m \u001b[39mcsv\u001b[39;00m\u001b[39m,\u001b[39m \u001b[39msys\u001b[39;00m\u001b[39m,\u001b[39m \u001b[39mos\u001b[39;00m\n\u001b[0;32m      <a href='vscode-notebook-cell:/d%3A/GIT-repository/github-data-science-python-mongodb/data-science-python-mongodb/01-Introdu%C3%A7%C3%A3o.ipynb#X41sZmlsZQ%3D%3D?line=1'>2</a>\u001b[0m sys\u001b[39m.\u001b[39mpath\u001b[39m.\u001b[39mappend(os\u001b[39m.\u001b[39mgetcwd()\u001b[39m+\u001b[39m\u001b[39m'\u001b[39m\u001b[39m/classes\u001b[39m\u001b[39m'\u001b[39m)\n\u001b[1;32m----> <a href='vscode-notebook-cell:/d%3A/GIT-repository/github-data-science-python-mongodb/data-science-python-mongodb/01-Introdu%C3%A7%C3%A3o.ipynb#X41sZmlsZQ%3D%3D?line=2'>3</a>\u001b[0m \u001b[39mimport\u001b[39;00m \u001b[39mconn\u001b[39;00m\n\u001b[0;32m      <a href='vscode-notebook-cell:/d%3A/GIT-repository/github-data-science-python-mongodb/data-science-python-mongodb/01-Introdu%C3%A7%C3%A3o.ipynb#X41sZmlsZQ%3D%3D?line=4'>5</a>\u001b[0m \u001b[39mdef\u001b[39;00m \u001b[39mread_dict\u001b[39m(f, h):\n\u001b[0;32m      <a href='vscode-notebook-cell:/d%3A/GIT-repository/github-data-science-python-mongodb/data-science-python-mongodb/01-Introdu%C3%A7%C3%A3o.ipynb#X41sZmlsZQ%3D%3D?line=5'>6</a>\u001b[0m     input_file \u001b[39m=\u001b[39m csv\u001b[39m.\u001b[39mDictReader(\u001b[39mopen\u001b[39m(f), fieldnames\u001b[39m=\u001b[39mh)\n",
      "\u001b[1;31mModuleNotFoundError\u001b[0m: No module named 'conn'"
     ]
    }
   ],
   "source": [
    "import json, csv, sys, os\n",
    "sys.path.append(os.getcwd()+'/classes')\n",
    "import conn\n",
    "\n",
    "def read_dict(f, h):\n",
    "    input_file = csv.DictReader(open(f), fieldnames=h)\n",
    "    return (input_file)\n",
    "\n",
    "def conv_reg_dict(d):\n",
    "    return [dict(x) for x in d]\n",
    "\n",
    "if __name__ == '__main__':\n",
    "    f = 'data/names.csv'\n",
    "    headers = ['first', 'last']\n",
    "    r_dict = read_dict(f, headers)\n",
    "    dict_ls = conv_reg_dict(r_dict)\n",
    "    json_file = 'data/names.json'\n",
    "    dump_json(json_file, dict_ls)\n",
    "    data = read_json(json_file)\n",
    "    obj = conn.conn('test')\n",
    "    db = obj.getDB()\n",
    "    names = db.names\n",
    "    names.drop()\n",
    "    for i, row in enumerate(data):\n",
    "        row['_id'] = i\n",
    "    \n",
    "        names.insert_one(row)\n",
    "    n = 3\n",
    "    print('1st', n, 'names:')\n",
    "    people = names.find()\n",
    "    for i, row in enumerate(people):\n",
    "        if i < n:\n",
    "            print (row)\n",
    "    \n",
    "    people.rewind()\n",
    "    print('\\n1st', n, 'names with rewind:')\n",
    "    for i, row in enumerate(people):\n",
    "        if i < n:\n",
    "            print (row)\n",
    "    \n",
    "    print ('\\nquery 1st', n, 'names')\n",
    "    first_n = names.find().limit(n)\n",
    "    for row in first_n:\n",
    "        print (row)\n",
    "    \n",
    "    print ('\\nquery last', n, 'names')\n",
    "    length = names.find().count()\n",
    "    last_n = names.find().skip(length - n)\n",
    "    for row in last_n:\n",
    "        print (row)\n",
    "    \n",
    "    fnames = ['Ella', 'Lou']\n",
    "    lnames = ['Vader', 'Pole']\n",
    "    print ('\\nquery Ella:')\n",
    "    query_1st_in_list = names.find( {'first':{'$in':[fnames[0]]}})\n",
    "    for row in query_1st_in_list:\n",
    "        print (row)\n",
    "    \n",
    "    print ('\\nquery Ella or Lou:')\n",
    "    query_1st = names.find( {'first':{'$in':fnames}} )\n",
    "    for row in query_1st:\n",
    "        print (row)\n",
    "    \n",
    "    print ('\\nquery Lou Pole:')\n",
    "    query_and = names.find( {'first':fnames[1], 'last':lnames[1]} )\n",
    "    for row in query_and:\n",
    "        print (row)\n",
    "    \n",
    "    print ('\\nquery first name Ella or last name Pole:')\n",
    "    query_or = names.find( {'$or':[{'first':fnames[0]},\n",
    "    {'last':lnames[1]}]} )\n",
    "    for row in query_or:\n",
    "        print (row)\n",
    "    pattern = '^Sch'\n",
    "    print ('\\nquery regex pattern:')\n",
    "    query_like = names.find( {'last':{'$regex':pattern}} )\n",
    "    for row in query_like:\n",
    "        print (row)\n",
    "    \n",
    "    pid = names.count()\n",
    "    doc = {'_id':pid, 'first':'Wendy', 'last':'Day'}\n",
    "    names.insert_one(doc)\n",
    "    print ('\\ndisplay added document:')\n",
    "    q_added = names.find({'first':'Wendy'})\n",
    "    print (q_added.next())\n",
    "    print ('\\nquery last n documents:')\n",
    "    q_n = names.find().skip((pid-n)+1)\n",
    "    for _ in range(n):\n",
    "        print (q_n.next())\n",
    "\n",
    "class conn:\n",
    "    from pymongo import MongoClient\n",
    "    client = MongoClient('localhost', port=27017)\n",
    "    \n",
    "    def __init__(self, dbname):\n",
    "        self.db = conn.client[dbname]\n",
    "    \n",
    "    def getDB(self):\n",
    "        return self.db"
   ]
  },
  {
   "attachments": {},
   "cell_type": "markdown",
   "metadata": {},
   "source": [
    "O código começa importando as bibliotecas json, csv, sys e os. Em seguida, um caminho (sys.path.append) para a classe conn é estabelecido. O método getcwd() (da biblioteca os) obtém o diretório de trabalho atual para as classes. A classe conn é então importada. Criei esta classe para simplificar a conectividade com o banco de dados de qualquer programa. O código continua com quatro funções. As funções read_dict() e conv_reg_dict() foram explicadas anteriormente."
   ]
  },
  {
   "attachments": {},
   "cell_type": "markdown",
   "metadata": {},
   "source": [
    "A função dump_json() grava dados JSON no disco. A função read_json() lê dados JSON do disco. O bloco principal começa lendo um arquivo CSV e convertendo-o em uma lista de elementos de dicionário regulares. Em seguida, a lista é despejada no disco como JSON. O código continua criando um teste de instância de conexão PyMongo como um objeto e atribuindo-o à variável obj. Você pode criar qualquer instância que desejar, mas test é o padrão. Em seguida, a instância do banco de dados é atribuída a db pelo método getDB() de obj. Os nomes de coleção são então criados no MongoDB e atribuídos a nomes de variáveis. Ao criar protótipos, sempre largo a coleção antes de manipulá-la. Isso elimina erros de chaves duplicadas. O código continua inserindo os dados JSON na coleção. Para cada documento em uma coleção do MongoDB, crio explicitamente valores de chave primária atribuindo números sequenciais a id. O MongoDB usa exclusivamente id como identificador de chave primária para cada documento em uma coleção. Se você não nomeá-lo, um identificador de sistema é criado automaticamente, o que é complicado de se trabalhar, na minha opinião. O código continua com a consulta PyMongo names.find(), que recupera todos os documentos da coleção de nomes. Três registros são exibidos apenas para verificar se a consulta está funcionando. Para reutilizar uma consulta que já foi acessada, rewind() deve ser emitido. A próxima consulta PyMongo acessa e exibe três (n = 3) documentos. A próxima consulta acessa e exibe os três últimos documentos. Em seguida, passamos para consultas mais complexas. O código começa importando as bibliotecas json, csv, sys e os. Em seguida, um caminho (sys.path.append) para a classe conn é estabelecido. O método getcwd() (da biblioteca os) obtém o diretório de trabalho atual para as classes. A classe conn é então importada. Criei esta classe para simplificar a conectividade com o banco de dados de qualquer programa. O código continua com quatro funções. As funções read_dict() e conv_reg_dict() foram explicadas anteriormente."
   ]
  },
  {
   "attachments": {},
   "cell_type": "markdown",
   "metadata": {},
   "source": [
    "Primeiro, acesse os documentos com o primeiro nome Ella. Em segundo lugar, acesse documentos com os primeiros nomes Ella ou Lou. Em terceiro lugar, acesse o documento Lou Pole. Quarto, acesse documentos com o primeiro nome Ella ou o sobrenome Pole. Em seguida, uma expressão regular é usada para acessar documentos com sobrenomes começando com Sch. Uma expressão regular é uma sequência de caracteres que define um padrão de pesquisa. Por fim, adicione um novo documento, exiba-o e exiba os três últimos documentos do acervo."
   ]
  },
  {
   "attachments": {},
   "cell_type": "markdown",
   "metadata": {},
   "source": [
    "### Visualization"
   ]
  },
  {
   "attachments": {},
   "cell_type": "markdown",
   "metadata": {},
   "source": [
    "A visualização é o processo de representar dados graficamente e aproveitar essas representações para obter informações sobre os dados. A visualização é uma das habilidades mais importantes na ciência de dados porque facilita a maneira como processamos grandes quantidades de dados complexos."
   ]
  },
  {
   "attachments": {},
   "cell_type": "markdown",
   "metadata": {},
   "source": [
    "O exemplo de código a seguir cria e plota um conjunto de dados normalmente distribuído. Em seguida, ele desloca os dados para a esquerda (e plota) e desloca os dados para a direita (e plota). Uma distribuição normal é uma distribuição de probabilidade simétrica em relação à média e é muito importante para a ciência de dados porque é um excelente modelo de como os eventos ocorrem naturalmente na realidade."
   ]
  },
  {
   "cell_type": "code",
   "execution_count": 12,
   "metadata": {},
   "outputs": [
    {
     "data": {
      "image/png": "[encoded data removed]",
      "text/plain": [
       "<Figure size 432x288 with 1 Axes>"
      ]
     },
     "metadata": {
      "needs_background": "light"
     },
     "output_type": "display_data"
    }
   ],
   "source": [
    "import matplotlib.pyplot as plt\n",
    "from scipy.stats import norm\n",
    "import numpy as np\n",
    "\n",
    "if __name__ == '__main__':\n",
    "    x = np.linspace(norm.ppf(0.01), norm.ppf(0.99), num=100)\n",
    "    x_left = x - 1\n",
    "    x_right = x + 1\n",
    "    y = norm.pdf(x)\n",
    "\n",
    "    plt.ylim(0.02, 0.41)\n",
    "    plt.scatter(x, y, color='crimson')\n",
    "    plt.fill_between(x, y, color='crimson')\n",
    "    plt.scatter(x_left, y, color='chartreuse')\n",
    "    plt.scatter(x_right, y, color='cyan')\n",
    "    plt.show()  "
   ]
  },
  {
   "attachments": {},
   "cell_type": "markdown",
   "metadata": {},
   "source": [
    "Figura 1-1. Dados normalmente distribuídos"
   ]
  },
  {
   "attachments": {},
   "cell_type": "markdown",
   "metadata": {},
   "source": [
    "O exemplo de código (Figura 1-1) começa importando as bibliotecas matplotlib, scipy e numpy. A biblioteca matplotlib é um módulo de plotagem 2-D que produz figuras de qualidade de publicação em uma variedade de formatos impressos e ambientes interativos em várias plataformas. A biblioteca SciPy fornece roteamentos numéricos amigáveis e eficientes para integração e otimização numérica. O bloco principal começa criando uma sequência de 100 números entre 0,01 e 0,99. A razão é que a distribuição normal é baseado em probabilidades, que devem estar entre zero e um. O código continua deslocando a sequência uma unidade para a esquerda e outra para a direita para plotagem posterior. O método ylim() é usado para puxar o gráfico para baixo (eixo x). Um gráfico de dispersão é criado para os dados originais, uma unidade à esquerda e outra à direita, com cores diferentes para efeito."
   ]
  },
  {
   "attachments": {},
   "cell_type": "markdown",
   "metadata": {},
   "source": [
    "Na 1ª linha do bloco principal na função linespace(), aumente o número de pontos de dados de num = 100 a num = 1000 e veja o que acontece. O resultado é uma suavização da distribuição normal, porque mais dados fornecem uma imagem mais realista do mundo natural."
   ]
  },
  {
   "cell_type": "code",
   "execution_count": 13,
   "metadata": {},
   "outputs": [
    {
     "data": {
      "image/png": "[encoded data removed]",
      "text/plain": [
       "<Figure size 432x288 with 1 Axes>"
      ]
     },
     "metadata": {
      "needs_background": "light"
     },
     "output_type": "display_data"
    }
   ],
   "source": [
    "import matplotlib.pyplot as plt\n",
    "from scipy.stats import norm\n",
    "import numpy as np\n",
    "\n",
    "if __name__ == '__main__':\n",
    "    x = np.linspace(norm.ppf(0.01), norm.ppf(0.99), num=1000)\n",
    "    x_left = x - 1\n",
    "    x_right = x + 1\n",
    "    y = norm.pdf(x)\n",
    "\n",
    "    plt.ylim(0.02, 0.41)\n",
    "    plt.scatter(x, y, color='crimson')\n",
    "    plt.fill_between(x, y, color='crimson')\n",
    "    plt.scatter(x_left, y, color='chartreuse')\n",
    "    plt.scatter(x_right, y, color='cyan')\n",
    "    plt.show()  "
   ]
  },
  {
   "attachments": {},
   "cell_type": "markdown",
   "metadata": {},
   "source": [
    "Figura 1-2. Suavizando dados normalmente distribuídos"
   ]
  },
  {
   "attachments": {},
   "cell_type": "markdown",
   "metadata": {},
   "source": [
    "A suavização funciona (Figura 1-2) porque uma distribuição normal consiste de variáveis aleatórias contínuas. Uma variável aleatória contínua é uma variável aleatória com um conjunto de valores infinitos e incontáveis. Portanto, mais dados criam mais realismo preditivo. Como não podemos adicionar dados infinitos, trabalhamos com o máximo de dados possível. A compensação é mais aumentos de dados recursos de processamento do computador e tempo de execução. Os cientistas de dados devem, portanto, pesar essa compensação ao conduzir seu ofício."
   ]
  },
  {
   "cell_type": "code",
   "execution_count": 14,
   "metadata": {},
   "outputs": [
    {
     "name": "stdout",
     "output_type": "stream",
     "text": [
      "Author: Caique Miranda\n",
      "\n",
      "Github username: caiquemiranda\n",
      "\n",
      "matplotlib: 3.5.2\n",
      "csv       : 1.0\n",
      "sys       : 3.10.5 (tags/v3.10.5:f377153, Jun  6 2022, 16:14:13) [MSC v.1929 64 bit (AMD64)]\n",
      "numpy     : 1.23.0\n",
      "json      : 2.0.9\n",
      "\n"
     ]
    }
   ],
   "source": [
    "%reload_ext watermark\n",
    "%watermark -a \"Caique Miranda\" -gu \"caiquemiranda\" -iv"
   ]
  },
  {
   "attachments": {},
   "cell_type": "markdown",
   "metadata": {},
   "source": [
    "### End."
   ]
  }
 ],
 "metadata": {
  "kernelspec": {
   "display_name": "Python 3",
   "language": "python",
   "name": "python3"
  },
  "language_info": {
   "codemirror_mode": {
    "name": "ipython",
    "version": 3
   },
   "file_extension": ".py",
   "mimetype": "text/x-python",
   "name": "python",
   "nbconvert_exporter": "python",
   "pygments_lexer": "ipython3",
   "version": "3.10.5"
  },
  "orig_nbformat": 4
 },
 "nbformat": 4,
 "nbformat_minor": 2
}
