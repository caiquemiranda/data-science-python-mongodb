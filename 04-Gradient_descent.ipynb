{
 "cells": [
  {
   "cell_type": "code",
   "execution_count": 1,
   "metadata": {},
   "outputs": [
    {
     "name": "stdout",
     "output_type": "stream",
     "text": [
      "Versão de Python Neste Jupyter Notebook: 3.10.5\n"
     ]
    }
   ],
   "source": [
    "# Versão da Linguagem Python\n",
    "from platform import python_version\n",
    "print('Versão de Python Neste Jupyter Notebook:', python_version())"
   ]
  },
  {
   "attachments": {},
   "cell_type": "markdown",
   "metadata": {},
   "source": [
    "Gradiente descendente (GD) é um algoritmo que minimiza (ou maximiza) funções.\n",
    "Para aplicar, comece em um conjunto inicial de valores de parâmetro de uma função\n",
    "e mova iterativamente em direção a um conjunto de valores de parâmetro que\n",
    "minimize a função. A minimização iterativa é alcançada usando cálculo, dando\n",
    "passos na direção negativa do gradiente da função. O GD é importante porque a\n",
    "otimização é uma grande parte do aprendizado de máquina. Além disso, o GD é fácil\n",
    "de implementar, genérico e eficiente (rápido)."
   ]
  },
  {
   "attachments": {},
   "cell_type": "markdown",
   "metadata": {},
   "source": [
    "### Simple Function Minimization (and Maximization)"
   ]
  },
  {
   "attachments": {},
   "cell_type": "markdown",
   "metadata": {},
   "source": [
    "GD é um algoritmo de otimização iterativa de 1ª ordem para encontrar o mínimo de uma\n",
    "função f. Uma função pode ser denotada como f ou f(x). Simplesmente, GD encontra o\n",
    "erro mínimo minimizando (ou maximizando) uma função de custo. Uma função de\n",
    "custo é algo que você deseja minimizar."
   ]
  },
  {
   "attachments": {},
   "cell_type": "markdown",
   "metadata": {},
   "source": [
    "Vamos começar com um exemplo de minimização. Para encontrar o mínimo local de f, dê passos proporcionais ao negativo do gradiente de f no ponto atual. O\n",
    "gradiente é a derivada (taxa de variação) de f. A única fraqueza de GD é que ele\n",
    "encontra o mínimo local em vez do mínimo para toda a função."
   ]
  },
  {
   "attachments": {},
   "cell_type": "markdown",
   "metadata": {},
   "source": [
    "Portanto, a derivada de xn é igual a nxnÿ1. Simplesmente, a\n",
    "derivada é o produto do expoente vezes x com o expoente reduzido em\n",
    "1. Para minimizar f(x) = x4 – 3x3 + 2 encontre a derivada, que é f'(x) = 4x3 –\n",
    "9x2 . Assim, o 1º passo é sempre encontrar a derivada f'(x). O 2º passo é\n",
    "plotar a função original para ter uma ideia de sua forma. O terceiro passo é\n",
    "executar o GD. O quarto passo é plotar o mínimo local."
   ]
  },
  {
   "attachments": {},
   "cell_type": "markdown",
   "metadata": {},
   "source": [
    "O primeiro exemplo encontra o mínimo local de f(x) e exibe f(x), f'(x),\n",
    "e mínimo na subparcela conforme visto na Figura 4-1:"
   ]
  },
  {
   "cell_type": "code",
   "execution_count": 2,
   "metadata": {},
   "outputs": [
    {
     "data": {
      "image/png": "[encoded data removed]",
      "text/plain": [
       "<Figure size 432x288 with 3 Axes>"
      ]
     },
     "metadata": {
      "needs_background": "light"
     },
     "output_type": "display_data"
    },
    {
     "name": "stdout",
     "output_type": "stream",
     "text": [
      "minimum: 2.2499646074278457 \n",
      "iterations: 70\n"
     ]
    }
   ],
   "source": [
    "import matplotlib.pyplot as plt, numpy as np\n",
    "\n",
    "def f(x):    \n",
    "    return x**4 - 3 * x**3 + 2\n",
    "\n",
    "def df(x):    \n",
    "    return 4 * x**3 - 9 * x**2\n",
    "\n",
    "if __name__ == \"__main__\":    \n",
    "    x = np.arange(-5, 5, 0.2) \n",
    "    y, y_dx = f(x), df(x) \n",
    "    f, axarr = plt.subplots(3, sharex=True)\n",
    "\n",
    "    axarr[0].plot(x, y, color='mediumspringgreen') \n",
    "    axarr[0].set_xlabel('x') \n",
    "    axarr[0].set_ylabel('f(x)') \n",
    "    axarr[0].set_title('f(x)')   \n",
    "    \n",
    "    axarr[1].plot(x, y_dx, color='coral') \n",
    "    axarr[1].set_xlabel('x')  \n",
    "    axarr[1].set_ylabel('dy/dx(x)')   \n",
    "    axarr[1].set_title('derivative of f(x)')   \n",
    "    \n",
    "    axarr[2].set_xlabel('x') \n",
    "    axarr[2].set_ylabel('GD')\n",
    "    axarr[2].set_title('local minimum') \n",
    "\n",
    "    iterations, cur_x, gamma, precision = 0, 6, 0.01, 0.00001  \n",
    "    previous_step_size = cur_x \n",
    "\n",
    "    while previous_step_size > precision: \n",
    "        prev_x = cur_x   \n",
    "        cur_x += -gamma * df(prev_x)   \n",
    "        previous_step_size = abs(cur_x - prev_x)     \n",
    "        iterations += 1 \n",
    "        axarr[2].plot(prev_x, cur_x, \"o\")  \n",
    "        \n",
    "    f.subplots_adjust(hspace=0.3)\n",
    "    f.tight_layout()   \n",
    "    plt.show()  \n",
    "    print ('minimum:', cur_x, '\\niterations:', iterations)"
   ]
  },
  {
   "attachments": {},
   "cell_type": "markdown",
   "metadata": {},
   "source": [
    "O exemplo de código começa importando matplotlib e numpy. Ele\n",
    "continua com a função f(x) usada para plotar a função original e a função df(x)\n",
    "usada para plotar a derivada. O bloco principal começa criando valores para f(x).\n",
    "Ele continua criando uma subtrama. GD começa inicializando variáveis.\n",
    "A variável cur_x é o ponto de partida para a simulação. Gama variável é o\n",
    "tamanho do passo. A precisão variável é a tolerância. Tolerância menor\n",
    "se traduz em mais precisão, mas requer mais iterações (recursos). A\n",
    "simulação continua até o tamanho_do_passo_anterior ser maior que a precisão.\n",
    "Cada iteração multiplica -gamma (step_size) pelo gradiente (derivado) no\n",
    "ponto atual para movê-lo para o mínimo local."
   ]
  },
  {
   "attachments": {},
   "cell_type": "markdown",
   "metadata": {},
   "source": [
    "A variável previous_step_size recebe então a diferença entre cur_x e prev_x.\n",
    "Cada ponto é plotado. O mínimo para f(x) resolvendo para x é aproximadamente\n",
    "2,25. Sei que esse resultado está correto porque o calculei manualmente.\n",
    "Confira http://www.dummies.com/education/math/calculus/ how-to-find-localextrema-\n",
    "with-the-first-derivative-test/ para boa lição sobre como calcular manualmente."
   ]
  },
  {
   "attachments": {},
   "cell_type": "markdown",
   "metadata": {},
   "source": [
    "O segundo exemplo encontra o mínimo e máximo local de f(x) =\n",
    "x3 – 6x2 + 9x + 15. Primeiro encontre f'(x), que é 3x2 – 12x + 9. Em seguida,\n",
    "encontre o mínimo local, gráfico, máximo local , e enredo. Não uso uma subtrama\n",
    "neste caso porque a visualização não é tão rica. Ou seja, é muito mais fácil ver o\n",
    "mínimo e o máximo locais aproximados observando um gráfico de f(x) e mais fácil\n",
    "ver como o processo GD faz sua mágica."
   ]
  },
  {
   "cell_type": "code",
   "execution_count": 3,
   "metadata": {},
   "outputs": [
    {
     "name": "stdout",
     "output_type": "stream",
     "text": [
      "minimum: 3.0001526323101704 iterations: 144\n",
      "maximum: 0.9998475518984531 iterations: 127\n"
     ]
    },
    {
     "data": {
      "image/png": "[encoded data removed]",
      "text/plain": [
       "<Figure size 432x288 with 1 Axes>"
      ]
     },
     "metadata": {
      "needs_background": "light"
     },
     "output_type": "display_data"
    },
    {
     "data": {
      "image/png": "[encoded data removed]",
      "text/plain": [
       "<Figure size 432x288 with 1 Axes>"
      ]
     },
     "metadata": {
      "needs_background": "light"
     },
     "output_type": "display_data"
    },
    {
     "data": {
      "image/png": "[encoded data removed]",
      "text/plain": [
       "<Figure size 432x288 with 1 Axes>"
      ]
     },
     "metadata": {
      "needs_background": "light"
     },
     "output_type": "display_data"
    }
   ],
   "source": [
    "import matplotlib.pyplot as plt, numpy as np\n",
    "\n",
    "def f(x):   \n",
    "    return x**3 - 6 * x**2 + 9 * x + 15\n",
    "\n",
    "def df(x):   \n",
    "    return 3 * x**2 - 12 * x + 9\n",
    "\n",
    "if __name__ == \"__main__\":\n",
    "    x = np.arange(-0.5, 5, 0.2) \n",
    "    y = f(x)    \n",
    "    \n",
    "    plt.figure('f(x)')\n",
    "    plt.xlabel('x') \n",
    "    plt.ylabel('f(x)')   \n",
    "    plt.title('f(x)')\n",
    "    plt.plot(x, y, color='blueviolet')    \n",
    "    plt.figure('local minimum') \n",
    "    plt.xlabel('x')\n",
    "    plt.ylabel('GD')\n",
    "    plt.title('local minimum') \n",
    "    \n",
    "    iterations, cur_x, gamma, precision = 0, 6, 0.01, 0.00001   \n",
    "    previous_step_size = cur_x   \n",
    "    \n",
    "    while previous_step_size > precision:    \n",
    "        prev_x = cur_x       \n",
    "        cur_x += -gamma * df(prev_x)  \n",
    "        previous_step_size = abs(cur_x - prev_x)     \n",
    "        iterations += 1   \n",
    "        plt.plot(prev_x, cur_x, \"o\") \n",
    "        \n",
    "    local_min = cur_x \n",
    "    print ('minimum:', local_min, 'iterations:', iterations)   \n",
    "    \n",
    "    plt.figure('local maximum') \n",
    "    plt.xlabel('x')   \n",
    "    plt.ylabel('GD') \n",
    "    plt.title('local maximum')  \n",
    "    \n",
    "    iterations, cur_x, gamma, precision = 0, 0.5, 0.01, 0.00001  \n",
    "    previous_step_size = cur_x\n",
    "        \n",
    "    while previous_step_size > precision:\n",
    "        prev_x = cur_x   \n",
    "        cur_x += -gamma * -df(prev_x)   \n",
    "        previous_step_size = abs(cur_x - prev_x)    \n",
    "        iterations += 1    \n",
    "        plt.plot(prev_x, cur_x, \"o\")   \n",
    "    \n",
    "    local_max = cur_x   \n",
    "    print ('maximum:', local_max, 'iterations:', iterations)   \n",
    "    plt.show()"
   ]
  },
  {
   "attachments": {},
   "cell_type": "markdown",
   "metadata": {},
   "source": [
    "O código começa importando as bibliotecas matplotlib e numpy. Ele\n",
    "continua com as funções f(x) e df(x), que representam a função original e\n",
    "sua derivada algoritmicamente. O bloco principal começa criando dados para\n",
    "f(x) e plotando-os. Ele continua encontrando o mínimo e o máximo locais e\n",
    "plotando-os. Observe que cur_x (o ponto inicial) para mínimo local é 6,\n",
    "enquanto é 0,5 para máximo local."
   ]
  },
  {
   "attachments": {},
   "cell_type": "markdown",
   "metadata": {},
   "source": [
    "É aqui que a ciência de dados é mais uma arte do que uma ciência, porque\n",
    "encontrei esses pontos por tentativa e erro. Observe também que GD para o\n",
    "máximo local é a negação da derivada. Mais uma vez, sei que os resultados\n",
    "estão corretos porque calculei manualmente o mínimo e o máximo locais. A\n",
    "principal razão pela qual usei plotagens separadas em vez de uma subparcela\n",
    "para este exemplo é demonstrar por que é tão importante plotar f(x). Apenas\n",
    "olhando para o gráfico, você pode dizer que o máximo local de x para f(x) está\n",
    "próximo de um, e o mínimo local de x para f(x) está próximo de 3. Além disso,\n",
    "você pode ver que o função tem um máximo geral que é maior que 1 deste\n",
    "gráfico. As Figuras 4-2, 4-3 e 4-4 fornecem as visualizações."
   ]
  },
  {
   "attachments": {},
   "cell_type": "markdown",
   "metadata": {},
   "source": [
    "### Minimização da Função Sigmoide (e Maximização)"
   ]
  },
  {
   "attachments": {},
   "cell_type": "markdown",
   "metadata": {},
   "source": [
    "Uma função sigmóide é uma função matemática com uma curva em forma de S ou\n",
    "sigmóide. É muito importante na ciência de dados por vários motivos. Primeiro, é facilmente\n",
    "diferenciável em relação aos parâmetros de rede, que são fundamentais no treinamento\n",
    "de redes neurais. Em segundo lugar, as funções de distribuição cumulativas para muitas\n",
    "distribuições de probabilidade comuns são sigmoidais. Em terceiro lugar, muitos processos\n",
    "naturais (por exemplo, curvas de aprendizado complexas) seguem uma curva sigmoidal ao\n",
    "longo do tempo. Portanto, uma função sigmóide é frequentemente usada se\n",
    "nenhum modelo matemático específico estiver disponível."
   ]
  },
  {
   "attachments": {},
   "cell_type": "markdown",
   "metadata": {},
   "source": [
    "O primeiro exemplo encontra o mínimo local da função sigmoide:"
   ]
  },
  {
   "cell_type": "code",
   "execution_count": 1,
   "metadata": {},
   "outputs": [
    {
     "name": "stdout",
     "output_type": "stream",
     "text": [
      "minimum: 0.0009901574660713482 \n",
      "iterations: 231\n"
     ]
    },
    {
     "data": {
      "image/png": "[encoded data removed]",
      "text/plain": [
       "<Figure size 432x288 with 3 Axes>"
      ]
     },
     "metadata": {
      "needs_background": "light"
     },
     "output_type": "display_data"
    }
   ],
   "source": [
    "import matplotlib.pyplot as plt, numpy as np\n",
    "\n",
    "def sigmoid(x):\n",
    "    return 1 / (1 + np.exp(-x))\n",
    "\n",
    "def df(x):\n",
    "    return x * (1-x)\n",
    "\n",
    "if __name__ == \"__main__\":\n",
    "    x = np.arange(-10., 10., 0.2)\n",
    "    y, y_dx = sigmoid(x), df(x)\n",
    "    f, axarr = plt.subplots(3, sharex=True)\n",
    "    axarr[0].plot(x, y, color='lime')\n",
    "    axarr[0].set_xlabel('x')\n",
    "    axarr[0].set_ylabel('f(x)')\n",
    "    axarr[0].set_title('Sigmoid Function')\n",
    "    axarr[1].plot(x, y_dx, color='coral')\n",
    "    axarr[1].set_xlabel('x')\n",
    "    axarr[1].set_ylabel('dy/dx(x)')\n",
    "    axarr[1].set_title('Derivative of f(x)')\n",
    "    axarr[2].set_xlabel('x')\n",
    "    axarr[2].set_ylabel('GD')\n",
    "    axarr[2].set_title('local minimum')\n",
    "    iterations, cur_x, gamma, precision = 0, 0.01, 0.01, 0.00001\n",
    "    previous_step_size = cur_x\n",
    "    \n",
    "    while previous_step_size > precision:\n",
    "        prev_x = cur_x\n",
    "        cur_x += -gamma * df(prev_x)\n",
    "        previous_step_size = abs(cur_x - prev_x)\n",
    "        iterations += 1\n",
    "        plt.plot(prev_x, cur_x, \"o\")\n",
    "    \n",
    "    f.subplots_adjust(hspace=0.3)\n",
    "    f.tight_layout()\n",
    "    print ('minimum:', cur_x, '\\niterations:', iterations)\n",
    "    plt.show()"
   ]
  },
  {
   "attachments": {},
   "cell_type": "markdown",
   "metadata": {},
   "source": [
    "O código começa importando matplotlib e numpy. Ele continua com as funções\n",
    "sigmoid(x) e df(x), que representam a função sigmoid e sua derivada\n",
    "algoritmicamente. O bloco principal começa criando dados para f(x) ef'(x). Ele\n",
    "continua criando subparcelas para f(x), f'(x) e o mínimo local. Nesse caso, o uso\n",
    "de subtramas foi bom para visualização. É fácil ver pelos gráficos f(x) e f'(x)\n",
    "(Figura 4-5) que o mínimo local está próximo de 0. Em seguida, o código executa\n",
    "GD para encontrar o mínimo local e plota-o."
   ]
  },
  {
   "attachments": {},
   "cell_type": "markdown",
   "metadata": {},
   "source": [
    "Novamente, o ponto de partida para GD, cur_x, foi encontrado por\n",
    "tentativa e erro. Se você iniciar cur_x mais longe do mínimo local (você pode\n",
    "estimar isso observando a subtrama de f'(x)), o número de iterações aumenta\n",
    "porque leva mais tempo para o algoritmo GD convergir para o mínimo local.\n",
    "Como esperado, o mínimo local é aproximadamente 0."
   ]
  },
  {
   "attachments": {},
   "cell_type": "markdown",
   "metadata": {},
   "source": [
    "O segundo exemplo encontra o máximo local da função sigmoide:"
   ]
  },
  {
   "cell_type": "code",
   "execution_count": 2,
   "metadata": {},
   "outputs": [
    {
     "name": "stdout",
     "output_type": "stream",
     "text": [
      "maximum: 0.9990096316387825 \n",
      "iterations: 1150\n"
     ]
    },
    {
     "data": {
      "image/png": "[encoded data removed]",
      "text/plain": [
       "<Figure size 432x288 with 3 Axes>"
      ]
     },
     "metadata": {
      "needs_background": "light"
     },
     "output_type": "display_data"
    }
   ],
   "source": [
    "import matplotlib.pyplot as plt, numpy as np\n",
    "\n",
    "def sigmoid(x):\n",
    "    return 1 / (1 + np.exp(-x))\n",
    "def df(x):\n",
    "    return x * (1-x)\n",
    "\n",
    "if __name__ == \"__main__\":\n",
    "    x = np.arange(-10., 10., 0.2)\n",
    "    y, y_dx = sigmoid(x), df(x)\n",
    "    f, axarr = plt.subplots(3, sharex=True)\n",
    "    axarr[0].plot(x, y, color='lime')\n",
    "    axarr[0].set_xlabel('x')\n",
    "    axarr[0].set_ylabel('f(x)')\n",
    "    axarr[0].set_title('Sigmoid Function')\n",
    "    axarr[1].plot(x, y_dx, color='coral')\n",
    "    axarr[1].set_xlabel('x')\n",
    "    axarr[1].set_ylabel('dy/dx(x)')\n",
    "    axarr[1].set_title('Derivative of f(x)')\n",
    "    axarr[2].set_xlabel('x')\n",
    "    axarr[2].set_ylabel('GD')\n",
    "    axarr[2].set_title('local maximum')\n",
    "    iterations, cur_x, gamma, precision = 0, 0.01, 0.01, 0.00001\n",
    "    previous_step_size = cur_x\n",
    "\n",
    "    while previous_step_size > precision:\n",
    "        prev_x = cur_x\n",
    "        cur_x += -gamma * -df(prev_x)\n",
    "        previous_step_size = abs(cur_x - prev_x)\n",
    "        iterations += 1\n",
    "        plt.plot(prev_x, cur_x, \"o\")\n",
    "    f.subplots_adjust(hspace=0.3)\n",
    "    f.tight_layout()\n",
    "    print ('maximum:', cur_x, '\\niterations:', iterations)\n",
    "    plt.show()"
   ]
  },
  {
   "attachments": {},
   "cell_type": "markdown",
   "metadata": {},
   "source": [
    "O código começa importando matplotlib e numpy. Ele continua com as funções\n",
    "sigmoid(x) e df(x), que representam a função sigmoid e sua derivada\n",
    "algoritmicamente. O bloco principal começa criando dados para f(x) ef'(x). Ele\n",
    "continua criando subparcelas para f(x), f'(x) e o máximo local (Figura 4-6). É fácil\n",
    "ver no gráfico de f(x) que o máximo local está próximo de 1. Em seguida, o\n",
    "código executa GD para encontrar o máximo local e plotá-lo. Novamente, o ponto\n",
    "de partida para GD, cur_x, foi encontrado por tentativa e erro. Se você iniciar cur_x\n",
    "mais longe do máximo local (você pode estimar isso observando a subtrama de\n",
    "f(x)), o número de iterações aumenta porque leva mais tempo para o algoritmo\n",
    "GD convergir para o máximo local. Como esperado, o máximo local é\n",
    "aproximadamente 1."
   ]
  },
  {
   "attachments": {},
   "cell_type": "markdown",
   "metadata": {},
   "source": [
    "### Minimização da Distância Euclidiana Controlando o tamanho do passo"
   ]
  },
  {
   "attachments": {},
   "cell_type": "markdown",
   "metadata": {},
   "source": [
    "A distância euclidiana é a distância em linha reta comum entre dois pontos\n",
    "no espaço euclidiano. Com esta distância, o espaço euclidiano torna-se um\n",
    "espaço métrico. A norma associada é a norma euclidiana (EN). A EN atribui\n",
    "a cada vetor o comprimento de sua seta. Então, EN é realmente apenas a\n",
    "magnitude de um vetor. Um espaço vetorial no qual uma norma é definida é o\n",
    "espaço vetorial normado."
   ]
  },
  {
   "attachments": {},
   "cell_type": "markdown",
   "metadata": {},
   "source": [
    "Para encontrar o mínimo local de f(x) no espaço tridimensional (3-D), o primeiro passo é encontrar o mínimo para todos os vetores 3-D. O segundo\n",
    "passo é criar um vetor aleatório 3-D [x, y, z]. O terceiro passo é escolher um\n",
    "ponto de partida aleatório e, em seguida, dar pequenos passos na direção\n",
    "oposta do gradiente f'(x) até chegar a um ponto onde o gradiente é muito pequeno.\n",
    "Cada pequeno passo (do vetor atual para o próximo vetor) é medido com a\n",
    "métrica ED. A métrica ED é a distância entre dois pontos no espaço euclidiano. A\n",
    "métrica é necessária porque precisamos saber como nos mover a cada\n",
    "pequeno passo. Assim, a métrica ED complementa GD para encontrar o\n",
    "mínimo local no espaço 3-D."
   ]
  },
  {
   "attachments": {},
   "cell_type": "markdown",
   "metadata": {},
   "source": [
    "O exemplo de código localiza o mínimo local da função sigmoide em espaço 3-D:"
   ]
  },
  {
   "cell_type": "code",
   "execution_count": 4,
   "metadata": {},
   "outputs": [
    {
     "name": "stdout",
     "output_type": "stream",
     "text": [
      "minimum: 9.990929810586089e-08 \n",
      "iterations: 1167\n"
     ]
    },
    {
     "data": {
      "image/png": "[encoded data removed]",
      "text/plain": [
       "<Figure size 432x288 with 1 Axes>"
      ]
     },
     "metadata": {
      "needs_background": "light"
     },
     "output_type": "display_data"
    }
   ],
   "source": [
    "import matplotlib.pyplot as plt\n",
    "from mpl_toolkits.mplot3d import Axes3D\n",
    "import random, numpy as np\n",
    "from scipy.spatial import distance\n",
    "\n",
    "def step(v, direction, step_size): \n",
    "    return [v_i + step_size * direction_i for v_i, direction_i in zip(v, direction)]\n",
    "\n",
    "def sigmoid_gradient(v):  \n",
    "    return [v_i * (1-v_i) for v_i in v]\n",
    "\n",
    "def mod_vector(v):   \n",
    "    for i, v_i in enumerate(v):\n",
    "    \n",
    "        if v_i == float(\"inf\") or v_i == float(\"-inf\"):\n",
    "            v[i] = random.randint(-1, 1)   \n",
    "    \n",
    "    return v\n",
    "\n",
    "if __name__ == \"__main__\": \n",
    "    v = [random.randint(-10, 10) for i in range(3)]\n",
    "    tolerance = 0.0000001\n",
    "    iterations = 1  \n",
    "    fig = plt.figure('Euclidean')  \n",
    "    ax = fig.add_subplot(111, projection='3d')  \n",
    "    while True:  \n",
    "        gradient = sigmoid_gradient(v)    \n",
    "        next_v = step(v, gradient, -0.01)    \n",
    "        \n",
    "        xs = gradient[0]\n",
    "        ys = gradient[1]  \n",
    "        zs = gradient[2]   \n",
    "        \n",
    "        ax.scatter(xs, ys, zs, c='lime', marker='o')\n",
    "        v = mod_vector(v)    \n",
    "        next_v = mod_vector(next_v)  \n",
    "        test_v = distance.euclidean(v, next_v) \n",
    "\n",
    "        if test_v < tolerance:   \n",
    "            break        \n",
    "        v = next_v   \n",
    "        iterations += 1 \n",
    "\n",
    "    print ('minimum:', test_v, '\\niterations:', iterations)   \n",
    "    ax.set_xlabel('X axis')\n",
    "    ax.set_ylabel('Y axis')  \n",
    "    ax.set_zlabel('Z axis') \n",
    "    plt.tight_layout()\n",
    "    plt.show()"
   ]
  },
  {
   "attachments": {},
   "cell_type": "markdown",
   "metadata": {},
   "source": [
    "O código começa importando as bibliotecas matplotlib, mpl_toolkits, random,\n",
    "numpy e scipy. A função step() move um vetor em uma direção (com base no gradiente), por\n",
    "um tamanho de passo. A função sigmoid_gradient() é o f'(sigmoid) retornado como um\n",
    "ponto no espaço 3-D. A função mod_vector() garante que um vetor errado gerado pela\n",
    "simulação seja tratado corretamente. O bloco principal começa criando um vetor 3-D gerado\n",
    "aleatoriamente [x, y, z] como ponto de partida para a simulação. Continua criando uma\n",
    "tolerância (precisão). Uma tolerância menor resulta em um resultado mais preciso. Uma\n",
    "subtrama é criada para manter uma renderização 3-D do mínimo local (Figura 4-7). A\n",
    "simulação GD cria um conjunto de vetores 3-D influenciados pelo gradiente sigmoide até que\n",
    "o gradiente seja muito pequeno. O tamanho (magnitude) do gradiente é calculado pela métrica\n",
    "ED. O mínimo local, como esperado, é próximo de 0."
   ]
  },
  {
   "attachments": {},
   "cell_type": "markdown",
   "metadata": {},
   "source": [
    "### Estabilizando a Minimização da Distância Euclidiana com a Simulação de Monte Carlo"
   ]
  },
  {
   "attachments": {},
   "cell_type": "markdown",
   "metadata": {},
   "source": [
    "O experimento da distância euclidiana no exemplo anterior é ancorado por um processo\n",
    "estocástico. Ou seja, o vetor inicial v é gerado estocasticamente por randomint(). Como\n",
    "resultado, cada execução do experimento GD gera um resultado diferente para o número\n",
    "de iterações. Do Capítulo 2, já sabemos que a simulação de Monte Carlo (MCS) modela\n",
    "com eficiência processos estocásticos (aleatórios). No entanto, o MCS também pode\n",
    "estabilizar experimentos estocásticos."
   ]
  },
  {
   "attachments": {},
   "cell_type": "markdown",
   "metadata": {},
   "source": [
    "O exemplo de código primeiro envolve o experimento GD em um loop que é executado n número de simulações. Com n simulações, um número médio de iterações é\n",
    "calculado. O código resultante é então agrupado em outro loop que executa m tentativas.\n",
    "Com m tentativas, é calculado um intervalo médio entre cada número médio de iterações. O\n",
    "intervalo é calculado subtraindo o mínimo da iteração média máxima. Quanto menor a\n",
    "lacuna, mais estável (preciso) o resultado. Para aumentar a precisão, aumente simulações (n). A única limitação é o poder de computação. Ou seja, executar 1.000\n",
    "simulações exige muito mais poder de computação do que 100. Resultados\n",
    "estáveis (precisos) permitem a comparação com experimentos alternativos."
   ]
  },
  {
   "cell_type": "code",
   "execution_count": 5,
   "metadata": {},
   "outputs": [
    {
     "name": "stdout",
     "output_type": "stream",
     "text": [
      "10 trials with 10 simulations each:\n",
      "gap 223\n",
      "avg iterations 1054\n"
     ]
    }
   ],
   "source": [
    "import random, numpy as np\n",
    "from scipy.spatial import distance\n",
    "\n",
    "def step(v, direction, step_size):\n",
    "    return [v_i + step_size * direction_i \n",
    "            for v_i, direction_i in zip(v, direction)]\n",
    "    \n",
    "def sigmoid_gradient(v):   \n",
    "    return [v_i * (1-v_i) for v_i in v]\n",
    "\n",
    "def mod_vector(v):\n",
    "    for i, v_i in enumerate(v):\n",
    "        if v_i == float(\"inf\") or v_i == float(\"-inf\"):\n",
    "            v[i] = random.randint(-1, 1)\n",
    "    return v\n",
    "\n",
    "if __name__ == \"__main__\": \n",
    "    trials= 10   \n",
    "    sims = 10  \n",
    "    avg_its = []   \n",
    "    for _ in range(trials):   \n",
    "        its = [] \n",
    "        for _ in range(sims):   \n",
    "            v = [random.randint(-10, 10) for i in range(3)] \n",
    "            tolerance = 0.0000001 \n",
    "            iterations = 0     \n",
    "            while True: \n",
    "                gradient = sigmoid_gradient(v)  \n",
    "                next_v = step(v, gradient, -0.01)    \n",
    "                v = mod_vector(v)\n",
    "                next_v = mod_vector(next_v) \n",
    "                test_v = distance.euclidean(v, next_v) \n",
    "                \n",
    "                if test_v < tolerance:\n",
    "                    break\n",
    "                \n",
    "                v = next_v   \n",
    "                iterations += 1\n",
    "            its.append(iterations) \n",
    "        a = round(np.mean(its))\n",
    "        avg_its.append(a) \n",
    "    gap = np.max(avg_its) - np.min(avg_its)   \n",
    "    print (trials, 'trials with', sims, 'simulations each:')   \n",
    "    print ('gap', gap)  \n",
    "    print ('avg iterations', round(np.mean(avg_its)))"
   ]
  },
  {
   "attachments": {},
   "cell_type": "markdown",
   "metadata": {},
   "source": [
    "A saída é para 10, 100 e 1.000 simulações. Executando 1.000\n",
    "simulações dez vezes (tentativas), a diferença cai para 13. Portanto, há alta\n",
    "confiança de que o número de iterações necessárias para minimizar a função\n",
    "está próximo de 1.089. Podemos estabilizar ainda mais agrupando o código em\n",
    "outro loop para diminuir a variação no intervalo e no número de iterações. No\n",
    "entanto, o tempo de processamento do computador torna-se um problema. Aproveitar\n",
    "o MCS para esse tipo de experimento é um forte argumento para a computação em\n",
    "nuvem. Pode ser difícil entender esse aplicativo de MCS, mas é uma ferramenta\n",
    "muito poderosa para trabalhar e resolver problemas de ciência de dados."
   ]
  },
  {
   "attachments": {},
   "cell_type": "markdown",
   "metadata": {},
   "source": [
    "### Substituindo um método NumPy para acelerar Minimização da Distância Euclidiana"
   ]
  },
  {
   "attachments": {},
   "cell_type": "markdown",
   "metadata": {},
   "source": [
    "Como as matrizes numpy são mais rápidas que as listas Python, segue-se\n",
    "que usar um método numpy seria mais eficiente para calcular a distância euclidiana.\n",
    "O exemplo de código substitui np.linalg.norm() por distance.euclidean() para\n",
    "calcular a distância euclidiana para o experimento GD."
   ]
  },
  {
   "cell_type": "code",
   "execution_count": 6,
   "metadata": {},
   "outputs": [
    {
     "name": "stdout",
     "output_type": "stream",
     "text": [
      "minimum: -0.3109901627541012 \n",
      "iterations: 1\n"
     ]
    },
    {
     "data": {
      "image/png": "[encoded data removed]",
      "text/plain": [
       "<Figure size 432x288 with 1 Axes>"
      ]
     },
     "metadata": {
      "needs_background": "light"
     },
     "output_type": "display_data"
    }
   ],
   "source": [
    "import matplotlib.pyplot as plt\n",
    "from mpl_toolkits.mplot3d import Axes3D\n",
    "import random, numpy as np\n",
    "\n",
    "def step(v, direction, step_size):\n",
    "    return [v_i + step_size * direction_i   \n",
    "            for v_i, direction_i in zip(v, direction)]\n",
    "\n",
    "def sigmoid_gradient(v):\n",
    "    return [v_i * (1-v_i) for v_i in v]\n",
    "\n",
    "def round_v(v):    \n",
    "    return np.round(v, decimals=3)\n",
    "\n",
    "if __name__ == \"__main__\": \n",
    "    v = [random.randint(-10, 10) for i in range(3)]    \n",
    "    tolerance = 0.0000001   \n",
    "    iterations = 1   \n",
    "    fig = plt.figure('norm')  \n",
    "    ax = fig.add_subplot(111, projection='3d')\n",
    "    \n",
    "    while True:   \n",
    "        gradient = sigmoid_gradient(v) \n",
    "        next_v = step(v, gradient, -0.01)      \n",
    "        round_gradient = round_v(gradient)\n",
    "        \n",
    "        xs = round_gradient[0]   \n",
    "        ys = round_gradient[1]\n",
    "        zs = round_gradient[2] \n",
    "        \n",
    "        ax.scatter(xs, ys, zs, c='lime', marker='o')\n",
    "        norm_v = np.linalg.norm(v)\n",
    "        norm_next_v = np.linalg.norm(next_v)\n",
    "        test_v = norm_v - norm_next_v   \n",
    "    \n",
    "        if test_v < tolerance:  \n",
    "            break \n",
    "    \n",
    "        v = next_v  \n",
    "        iterations += 1 \n",
    "    \n",
    "    print ('minimum:', test_v, '\\niterations:', iterations)\n",
    "    \n",
    "    ax.set_xlabel('X axis')\n",
    "    ax.set_ylabel('Y axis')   \n",
    "    ax.set_zlabel('Z axis')\n",
    "    \n",
    "    plt.show()"
   ]
  },
  {
   "attachments": {},
   "cell_type": "markdown",
   "metadata": {},
   "source": [
    "O número de iterações é muito menor em 31 (Figura 4-8). No entanto, dado\n",
    "que o experimento GD é estocástico, podemos usar MCS para comparação\n",
    "objetiva. Usando a mesma metodologia MCS, o exemplo de código primeiro envolve\n",
    "o experimento GD em um loop que executa n número de simulações. O código\n",
    "resultante é então agrupado em outro loop que executa m tentativas."
   ]
  },
  {
   "cell_type": "code",
   "execution_count": 7,
   "metadata": {},
   "outputs": [
    {
     "name": "stdout",
     "output_type": "stream",
     "text": [
      "10 trials with 10 simulations each:\n",
      "gap 525\n",
      "avg iterations 220\n"
     ]
    }
   ],
   "source": [
    "import random, numpy as np\n",
    "\n",
    "def step(v, direction, step_size):\n",
    "    return [v_i + step_size * direction_i\n",
    "            for v_i, direction_i in zip(v, direction)]\n",
    "\n",
    "def sigmoid_gradient(v):  \n",
    "    return [v_i * (1-v_i) for v_i in v]\n",
    "\n",
    "def round_v(v):\n",
    "    return np.round(v, decimals=3)\n",
    "\n",
    "if __name__ == \"__main__\": \n",
    "    trials = 10    \n",
    "    sims = 10\n",
    "    avg_its = []  \n",
    "    for _ in range(trials):\n",
    "        its = []    \n",
    "        for _ in range(sims):  \n",
    "            v = [random.randint(-10, 10) for i in range(3)] \n",
    "            tolerance = 0.0000001 \n",
    "            iterations = 0     \n",
    "            while True:  \n",
    "                gradient = sigmoid_gradient(v)\n",
    "                next_v = step(v, gradient, -0.01)\n",
    "                norm_v = np.linalg.norm(v) \n",
    "                norm_next_v = np.linalg.norm(next_v)\n",
    "                test_v = norm_v - norm_next_v   \n",
    "                \n",
    "                if test_v < tolerance:  \n",
    "                    break  \n",
    "                \n",
    "                v = next_v  \n",
    "                iterations += 1      \n",
    "            its.append(iterations)\n",
    "        a = round(np.mean(its))\n",
    "        avg_its.append(a) \n",
    "    gap = np.max(avg_its) - np.min(avg_its)  \n",
    "    print (trials, 'trials with', sims, 'simulations each:') \n",
    "    print ('gap', gap)\n",
    "    print ('avg iterations', round(np.mean(avg_its)))"
   ]
  },
  {
   "attachments": {},
   "cell_type": "markdown",
   "metadata": {},
   "source": [
    "O processamento é muito mais rápido usando numpy. O número médio de iterações é próximo a 193. Como tal, usar a alternativa numpy para calcular\n",
    "a distância euclidiana é mais de cinco vezes mais rápido!"
   ]
  },
  {
   "attachments": {},
   "cell_type": "markdown",
   "metadata": {},
   "source": [
    "### Minimização e maximização estocástica do gradiente descendente"
   ]
  },
  {
   "attachments": {},
   "cell_type": "markdown",
   "metadata": {},
   "source": [
    "Até este ponto do capítulo, experimentos de otimização usaram lote GD. O lote GD calcula o gradiente usando todo o conjunto de dados. O GD estocástico\n",
    "calcula o gradiente usando uma única amostra, por isso é computacionalmente"
   ]
  },
  {
   "cell_type": "code",
   "execution_count": 8,
   "metadata": {},
   "outputs": [
    {
     "name": "stdout",
     "output_type": "stream",
     "text": [
      "minimum: [6.937 1.509 0.107] with 30 iterations\n",
      "iterations with no improvement: 0\n",
      "magnitude of min vector: 7.100035140758108\n"
     ]
    },
    {
     "data": {
      "image/png": "[encoded data removed]",
      "text/plain": [
       "<Figure size 432x288 with 1 Axes>"
      ]
     },
     "metadata": {
      "needs_background": "light"
     },
     "output_type": "display_data"
    }
   ],
   "source": [
    "import matplotlib.pyplot as plt\n",
    "import random, numpy as np\n",
    "\n",
    "def rnd():    \n",
    "        return [random.randint(-10,10) for i in range(3)]\n",
    "\n",
    "def random_vectors(n): \n",
    "        ls = []   \n",
    "        for v in range(n): \n",
    "                ls.append(rnd())  \n",
    "\n",
    "        return ls\n",
    "        \n",
    "def sos(v):\n",
    "        return sum(v_i ** 2 for v_i in v)\n",
    "\n",
    "def sos_gradient(v):    \n",
    "        return [2 * v_i for v_i in v]\n",
    "\n",
    "def in_random_order(data):   \n",
    "        indexes = [i for i, _ in enumerate(data)]\n",
    "        random.shuffle(indexes)   \n",
    "        for i in indexes:\n",
    "                yield data[i]\n",
    "\n",
    "if __name__ == \"__main__\":   \n",
    "        \n",
    "        v, x, y = rnd(), random_vectors(3), random_vectors(3) \n",
    "        data = list(zip(x, y)) \n",
    "        theta = v    \n",
    "        alpha, value = 0.01, 0 \n",
    "        min_theta, min_value = None, float(\"inf\")    \n",
    "        iterations_with_no_improvement = 0  \n",
    "        n, x = 30, 1 \n",
    "        for i, _ in enumerate(range(n)):\n",
    "                y = np.linalg.norm(theta)\n",
    "                plt.scatter(x, y, c='r')  \n",
    "                x = x + 1  \n",
    "                s = []     \n",
    "                for x_i, y_i in data:  \n",
    "                        s.extend([sos(theta), sos(x_i), sos(y_i)])   \n",
    "                \n",
    "                value = sum(s)\n",
    "                \n",
    "                if value < min_value:  \n",
    "                        min_theta, min_value = theta, value  \n",
    "                        iterations_with_no_improvement = 0      \n",
    "                        alpha = 0.01   \n",
    "                else:\n",
    "                        iterations_with_no_improvement += 1 \n",
    "                        alpha *= 0.9  \n",
    "                \n",
    "                g = []\n",
    "                \n",
    "                for x_i, y_i in in_random_order(data):\n",
    "                        g.extend([sos_gradient(theta), sos_gradient(x_i),       \n",
    "                                        sos_gradient(y_i)]) \n",
    "                        for v in g:   \n",
    "                                theta = np.around(np.subtract(theta,alpha*np.array(v)),3)  \n",
    "                        g = []\n",
    "                \n",
    "        print ('minimum:', np.around(min_theta, 4), \n",
    "                'with', i+1, 'iterations') \n",
    "        \n",
    "        print ('iterations with no improvement:',\n",
    "                iterations_with_no_improvement)\n",
    "                \n",
    "        print ('magnitude of min vector:', np.linalg.norm(min_theta))   \n",
    "        \n",
    "        plt.show()"
   ]
  },
  {
   "cell_type": "code",
   "execution_count": 9,
   "metadata": {},
   "outputs": [
    {
     "name": "stdout",
     "output_type": "stream",
     "text": [
      "minimum: [0.26 0.26 0.26] with 60 iterations\n",
      "iterations with no improvement: 2\n",
      "magnitude of min vector: 0.4503332099679081\n"
     ]
    },
    {
     "data": {
      "image/png": "[encoded data removed]",
      "text/plain": [
       "<Figure size 432x288 with 1 Axes>"
      ]
     },
     "metadata": {
      "needs_background": "light"
     },
     "output_type": "display_data"
    }
   ],
   "source": [
    "import matplotlib.pyplot as plt\n",
    "import random, numpy as np\n",
    "\n",
    "def rnd(): \n",
    "    return [random.randint(-10,10) for i in range(3)]\n",
    "\n",
    "def random_vectors(n): \n",
    "    ls = []  \n",
    "    for v in range(n):\n",
    "        ls.append([random.randint(-10,10) for i in range(3)])\n",
    "    \n",
    "    return ls\n",
    "\n",
    "def sos(v): \n",
    "    return sum(v_i ** 2 for v_i in v)\n",
    "\n",
    "def sos_gradient(v):\n",
    "    return [2 * v_i for v_i in v]\n",
    "\n",
    "def in_random_order(data):   \n",
    "    indexes = [i for i, _ in enumerate(data)]\n",
    "    random.shuffle(indexes)  \n",
    "    for i in indexes:\n",
    "        yield data[i]\n",
    "\n",
    "if __name__ == \"__main__\":\n",
    "    v, x, y = rnd(), random_vectors(3), random_vectors(3)  \n",
    "    data = list(zip(x, y))  \n",
    "    theta = v    \n",
    "    alpha, value = 0.01, 0 \n",
    "    min_theta, min_value = None, float(\"inf\")  \n",
    "    iterations_with_no_improvement = 0    \n",
    "    n, x = 60, 1\n",
    "    \n",
    "    for i, _ in enumerate(range(n)):   \n",
    "        y = np.linalg.norm(theta)    \n",
    "        plt.scatter(x, y, c='r')   \n",
    "        x = x + 1  \n",
    "        s = []     \n",
    "        \n",
    "        for x_i, y_i in data:   \n",
    "            s.extend([sos(theta), sos(x_i), sos(y_i)])\n",
    "        \n",
    "        value = sum(s)\n",
    "        if value < min_value:   \n",
    "            min_theta, min_value = theta, value  \n",
    "            iterations_with_no_improvement = 0\n",
    "            alpha = 0.01 \n",
    "        else:\n",
    "            iterations_with_no_improvement += 1 \n",
    "            alpha *= 0.9    \n",
    "            \n",
    "        g, t, m = [], [], [] \n",
    "        for x_i, y_i in in_random_order(data):\n",
    "            g.extend([sos_gradient(theta), sos_gradient(x_i),  \n",
    "                        sos_gradient(y_i)])  \n",
    "            \n",
    "            m = np.around([np.linalg.norm(x) for x in g], 2) \n",
    "            for v in g: \n",
    "                theta = np.around(np.subtract(theta,alpha*np.array(v)),3) \n",
    "                t.append(np.around(theta,2)) \n",
    "            \n",
    "            mm = np.argmin(m)  \n",
    "            theta = t[mm]\n",
    "            g, m, t = [], [], [] \n",
    "        \n",
    "    print ('minimum:', np.around(min_theta, 4),\n",
    "            'with', i+1, 'iterations')\n",
    "    \n",
    "    print ('iterations with no improvement:', \n",
    "            iterations_with_no_improvement)\n",
    "        \n",
    "    print ('magnitude of min vector:', np.linalg.norm(min_theta))    \n",
    "    \n",
    "    plt.show()"
   ]
  },
  {
   "cell_type": "code",
   "execution_count": 10,
   "metadata": {},
   "outputs": [
    {
     "name": "stdout",
     "output_type": "stream",
     "text": [
      "maximum: [-4433.168   747.931  -249.066] with 100 iterations\n",
      "magnitude of max vector: 4502.711757301482\n"
     ]
    },
    {
     "data": {
      "image/png": "[encoded data removed]",
      "text/plain": [
       "<Figure size 432x288 with 1 Axes>"
      ]
     },
     "metadata": {
      "needs_background": "light"
     },
     "output_type": "display_data"
    }
   ],
   "source": [
    "import matplotlib.pyplot as plt\n",
    "import random, numpy as np\n",
    "\n",
    "def rnd():  \n",
    "    return [random.randint(-10,10) for i in range(3)]\n",
    "\n",
    "def random_vectors(n):\n",
    "    ls = []\n",
    "      \n",
    "    for v in range(n): \n",
    "        ls.append([random.randint(-10,10) for i in range(3)])  \n",
    "    return ls\n",
    "\n",
    "def sos_gradient(v):  \n",
    "    return [2 * v_i for v_i in v]\n",
    "\n",
    "def negate(function):\n",
    "    def new_function(*args, **kwargs):  \n",
    "        return np.negative(function(*args, **kwargs))\n",
    "    \n",
    "    return new_function\n",
    "\n",
    "def in_random_order(data):\n",
    "    indexes = [i for i, _ in enumerate(data)]\n",
    "    random.shuffle(indexes) \n",
    "    for i in indexes: \n",
    "        yield data[i]\n",
    "        \n",
    "if __name__ == \"__main__\": \n",
    "    v, x, y = rnd(), random_vectors(3), random_vectors(3) \n",
    "    data = list(zip(x, y)) \n",
    "    theta, alpha = v, 0.01  \n",
    "    neg_gradient = negate(sos_gradient)   \n",
    "    n, x = 100, 1\n",
    "    \n",
    "    for i, row in enumerate(range(n)):\n",
    "        y = np.linalg.norm(theta)   \n",
    "        plt.scatter(x, y, c='r')   \n",
    "        x = x + 1    \n",
    "        g = []      \n",
    "        for x_i, y_i in in_random_order(data):\n",
    "            g.extend([neg_gradient(theta), neg_gradient(x_i), \n",
    "                      neg_gradient(y_i)])\n",
    "            for v in g:\n",
    "                theta = np.around(np.subtract(theta,alpha*np.array(v)),3) \n",
    "            g = []  \n",
    "        \n",
    "    print ('maximum:', np.around(theta, 4),  \n",
    "            'with', i+1, 'iterations')\n",
    "    \n",
    "    print ('magnitude of max vector:', np.linalg.norm(theta))  \n",
    "    plt.show()"
   ]
  },
  {
   "cell_type": "code",
   "execution_count": 11,
   "metadata": {},
   "outputs": [
    {
     "name": "stdout",
     "output_type": "stream",
     "text": [
      "Author: Caique Miranda\n",
      "\n",
      "Github username: caiquemiranda\n",
      "\n",
      "matplotlib: 3.5.2\n",
      "numpy     : 1.23.0\n",
      "scipy     : 1.8.1\n",
      "\n"
     ]
    }
   ],
   "source": [
    "%reload_ext watermark\n",
    "%watermark -a \"Caique Miranda\" -gu \"caiquemiranda\" -iv"
   ]
  },
  {
   "attachments": {},
   "cell_type": "markdown",
   "metadata": {},
   "source": [
    "### End."
   ]
  }
 ],
 "metadata": {
  "kernelspec": {
   "display_name": "Python 3",
   "language": "python",
   "name": "python3"
  },
  "language_info": {
   "codemirror_mode": {
    "name": "ipython",
    "version": 3
   },
   "file_extension": ".py",
   "mimetype": "text/x-python",
   "name": "python",
   "nbconvert_exporter": "python",
   "pygments_lexer": "ipython3",
   "version": "3.10.5"
  },
  "orig_nbformat": 4
 },
 "nbformat": 4,
 "nbformat_minor": 2
}
